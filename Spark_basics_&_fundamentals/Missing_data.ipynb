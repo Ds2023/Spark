{
  "nbformat": 4,
  "nbformat_minor": 0,
  "metadata": {
    "colab": {
      "provenance": []
    },
    "kernelspec": {
      "name": "python3",
      "display_name": "Python 3"
    },
    "language_info": {
      "name": "python"
    }
  },
  "cells": [
    {
      "cell_type": "markdown",
      "source": [
        "# **Missing_Data**"
      ],
      "metadata": {
        "id": "RL2XbbGtgFT4"
      }
    },
    {
      "cell_type": "markdown",
      "source": [
        "Often data sources are incomplete, which means you will have missing data, you have 3 basic options for filling in missing data (you will personally have to make the decision for what is the right approach:\n",
        "\n",
        "Just keep the missing data points.\n",
        "Drop them missing data points (including the entire row)\n",
        "Fill them in with some other value.\n",
        "Let's cover examples of each of these methods!"
      ],
      "metadata": {
        "id": "8dzPztTegNrZ"
      }
    },
    {
      "cell_type": "markdown",
      "source": [
        "**Keeping the missing data**\n",
        "\n",
        "A few machine learning algorithms can easily deal with missing data, let's see what it looks like"
      ],
      "metadata": {
        "id": "IsuO3eEHgZMS"
      }
    },
    {
      "cell_type": "code",
      "execution_count": null,
      "metadata": {
        "id": "QEOG96zgPOeN"
      },
      "outputs": [],
      "source": [
        "pip install pyspark"
      ]
    },
    {
      "cell_type": "code",
      "source": [
        "from pyspark.sql import SparkSession\n",
        "\n",
        "spark = SparkSession.builder.appName('missing_data').getOrCreate()"
      ],
      "metadata": {
        "id": "KBFYiN-QPUy_"
      },
      "execution_count": 2,
      "outputs": []
    },
    {
      "cell_type": "code",
      "source": [
        "df = spark.read.csv('/content/drive/MyDrive/Spark_DataFrames/ContainsNull.csv',inferSchema=True,header=True)"
      ],
      "metadata": {
        "id": "LmJLSTJTPU2t"
      },
      "execution_count": 3,
      "outputs": []
    },
    {
      "cell_type": "code",
      "source": [
        "df.printSchema()"
      ],
      "metadata": {
        "colab": {
          "base_uri": "https://localhost:8080/"
        },
        "id": "p_rfEM7qPU6A",
        "outputId": "565d89bb-8cac-4e9b-a4bc-2d1e2e2bbfe7"
      },
      "execution_count": 4,
      "outputs": [
        {
          "output_type": "stream",
          "name": "stdout",
          "text": [
            "root\n",
            " |-- Id: string (nullable = true)\n",
            " |-- Name: string (nullable = true)\n",
            " |-- Sales: double (nullable = true)\n",
            "\n"
          ]
        }
      ]
    },
    {
      "cell_type": "code",
      "source": [
        "df.show()"
      ],
      "metadata": {
        "colab": {
          "base_uri": "https://localhost:8080/"
        },
        "id": "YpLFeXimPU-V",
        "outputId": "364186ce-567d-4f26-ccbd-b8a6ae6f27a0"
      },
      "execution_count": 8,
      "outputs": [
        {
          "output_type": "stream",
          "name": "stdout",
          "text": [
            "+----+-----+-----+\n",
            "|  Id| Name|Sales|\n",
            "+----+-----+-----+\n",
            "|emp1| John| null|\n",
            "|emp2| null| null|\n",
            "|emp3| null|345.0|\n",
            "|emp4|Cindy|456.0|\n",
            "+----+-----+-----+\n",
            "\n"
          ]
        }
      ]
    },
    {
      "cell_type": "markdown",
      "source": [
        "**Drop the missing data**"
      ],
      "metadata": {
        "id": "i4XRE2G4iBMB"
      }
    },
    {
      "cell_type": "code",
      "source": [
        "# df.na.drop(how='any', thresh=None, subset=None)\n",
        "\n",
        "#    If 'any', drop a row if it contains any nulls.\n",
        "#    If 'all', drop a row only if all its values are null.\n",
        "\n",
        "print(df.na.drop(how='any').show())\n",
        "print(df.na.drop(how='all').show())"
      ],
      "metadata": {
        "colab": {
          "base_uri": "https://localhost:8080/"
        },
        "id": "gbWx77P7PVCy",
        "outputId": "787b53e8-edc7-4185-9f78-54886220f2a0"
      },
      "execution_count": 14,
      "outputs": [
        {
          "output_type": "stream",
          "name": "stdout",
          "text": [
            "+----+-----+-----+\n",
            "|  Id| Name|Sales|\n",
            "+----+-----+-----+\n",
            "|emp4|Cindy|456.0|\n",
            "+----+-----+-----+\n",
            "\n",
            "None\n",
            "+----+-----+-----+\n",
            "|  Id| Name|Sales|\n",
            "+----+-----+-----+\n",
            "|emp1| John| null|\n",
            "|emp2| null| null|\n",
            "|emp3| null|345.0|\n",
            "|emp4|Cindy|456.0|\n",
            "+----+-----+-----+\n",
            "\n",
            "None\n"
          ]
        }
      ]
    },
    {
      "cell_type": "code",
      "source": [
        "# Drop rows that have at least 2 missing values\n",
        "\n",
        "df.na.drop(thresh=2).show()"
      ],
      "metadata": {
        "colab": {
          "base_uri": "https://localhost:8080/"
        },
        "id": "rbAR7NB9PVFa",
        "outputId": "5b11d6db-f613-4fa8-f809-1a99b1fd1a36"
      },
      "execution_count": 12,
      "outputs": [
        {
          "output_type": "stream",
          "name": "stdout",
          "text": [
            "+----+-----+-----+\n",
            "|  Id| Name|Sales|\n",
            "+----+-----+-----+\n",
            "|emp1| John| null|\n",
            "|emp3| null|345.0|\n",
            "|emp4|Cindy|456.0|\n",
            "+----+-----+-----+\n",
            "\n"
          ]
        }
      ]
    },
    {
      "cell_type": "code",
      "source": [
        "# Drops rows with missing values in a particular subset\n",
        "\n",
        "df.na.drop(subset = ['Sales']).show()"
      ],
      "metadata": {
        "colab": {
          "base_uri": "https://localhost:8080/"
        },
        "id": "Im0MsUojPVIG",
        "outputId": "1791e492-06a9-4c34-f8ab-444fb179a731"
      },
      "execution_count": 13,
      "outputs": [
        {
          "output_type": "stream",
          "name": "stdout",
          "text": [
            "+----+-----+-----+\n",
            "|  Id| Name|Sales|\n",
            "+----+-----+-----+\n",
            "|emp3| null|345.0|\n",
            "|emp4|Cindy|456.0|\n",
            "+----+-----+-----+\n",
            "\n"
          ]
        }
      ]
    },
    {
      "cell_type": "markdown",
      "source": [
        "**Filling the missing values**\n",
        "\n",
        "We can also fill the missing values with new values. If you have multiple nulls across multiple data types, Spark is actually smart enough to match up the data types. For example:"
      ],
      "metadata": {
        "id": "EPzJLz2NlHm_"
      }
    },
    {
      "cell_type": "code",
      "source": [
        "# only fills where the data type is string\n",
        "\n",
        "df.na.fill('New_Value').show()"
      ],
      "metadata": {
        "colab": {
          "base_uri": "https://localhost:8080/"
        },
        "id": "xDnTAAsbPVKz",
        "outputId": "d461fc50-9553-47a9-8061-4744c88ccfb2"
      },
      "execution_count": 15,
      "outputs": [
        {
          "output_type": "stream",
          "name": "stdout",
          "text": [
            "+----+---------+-----+\n",
            "|  Id|     Name|Sales|\n",
            "+----+---------+-----+\n",
            "|emp1|     John| null|\n",
            "|emp2|New_Value| null|\n",
            "|emp3|New_Value|345.0|\n",
            "|emp4|    Cindy|456.0|\n",
            "+----+---------+-----+\n",
            "\n"
          ]
        }
      ]
    },
    {
      "cell_type": "code",
      "source": [
        "df.na.fill(0).show()"
      ],
      "metadata": {
        "colab": {
          "base_uri": "https://localhost:8080/"
        },
        "id": "ZB_sxnKoPVNm",
        "outputId": "a0fd8cee-1d32-4dee-8c08-65d073a8cdaa"
      },
      "execution_count": 16,
      "outputs": [
        {
          "output_type": "stream",
          "name": "stdout",
          "text": [
            "+----+-----+-----+\n",
            "|  Id| Name|Sales|\n",
            "+----+-----+-----+\n",
            "|emp1| John|  0.0|\n",
            "|emp2| null|  0.0|\n",
            "|emp3| null|345.0|\n",
            "|emp4|Cindy|456.0|\n",
            "+----+-----+-----+\n",
            "\n"
          ]
        }
      ]
    },
    {
      "cell_type": "code",
      "source": [
        "# specifying where to fill\n",
        "\n",
        "df.na.fill('No name',subset=['Name']).show()"
      ],
      "metadata": {
        "colab": {
          "base_uri": "https://localhost:8080/"
        },
        "id": "eE2c9cHSPVQY",
        "outputId": "95fe7cf2-360a-4c50-94cc-2e07c9224513"
      },
      "execution_count": 17,
      "outputs": [
        {
          "output_type": "stream",
          "name": "stdout",
          "text": [
            "+----+-------+-----+\n",
            "|  Id|   Name|Sales|\n",
            "+----+-------+-----+\n",
            "|emp1|   John| null|\n",
            "|emp2|No name| null|\n",
            "|emp3|No name|345.0|\n",
            "|emp4|  Cindy|456.0|\n",
            "+----+-------+-----+\n",
            "\n"
          ]
        }
      ]
    },
    {
      "cell_type": "markdown",
      "source": [
        "Using functions to fill:"
      ],
      "metadata": {
        "id": "Y1MeD8BGmE6j"
      }
    },
    {
      "cell_type": "code",
      "source": [
        "from pyspark.sql.functions import mean"
      ],
      "metadata": {
        "id": "KNoeIhOePVTR"
      },
      "execution_count": 18,
      "outputs": []
    },
    {
      "cell_type": "code",
      "source": [
        "df.select(mean('Sales')).collect()[0][0]"
      ],
      "metadata": {
        "colab": {
          "base_uri": "https://localhost:8080/"
        },
        "id": "rW264ciJmelX",
        "outputId": "a1ae27e7-de3e-45ab-939a-a7cba6787abf"
      },
      "execution_count": 25,
      "outputs": [
        {
          "output_type": "execute_result",
          "data": {
            "text/plain": [
              "400.5"
            ]
          },
          "metadata": {},
          "execution_count": 25
        }
      ]
    },
    {
      "cell_type": "code",
      "source": [
        "df.na.fill(df.select(mean('Sales')).collect()[0][0],subset=['Sales']).show()"
      ],
      "metadata": {
        "colab": {
          "base_uri": "https://localhost:8080/"
        },
        "id": "XeOintsVPVV7",
        "outputId": "8f600413-24dc-4c3a-a059-617b274408a0"
      },
      "execution_count": 26,
      "outputs": [
        {
          "output_type": "stream",
          "name": "stdout",
          "text": [
            "+----+-----+-----+\n",
            "|  Id| Name|Sales|\n",
            "+----+-----+-----+\n",
            "|emp1| John|400.5|\n",
            "|emp2| null|400.5|\n",
            "|emp3| null|345.0|\n",
            "|emp4|Cindy|456.0|\n",
            "+----+-----+-----+\n",
            "\n"
          ]
        }
      ]
    }
  ]
}