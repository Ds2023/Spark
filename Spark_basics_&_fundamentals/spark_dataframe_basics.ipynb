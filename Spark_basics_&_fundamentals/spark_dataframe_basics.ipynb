{
  "nbformat": 4,
  "nbformat_minor": 0,
  "metadata": {
    "colab": {
      "provenance": []
    },
    "kernelspec": {
      "name": "python3",
      "display_name": "Python 3"
    },
    "language_info": {
      "name": "python"
    }
  },
  "cells": [
    {
      "cell_type": "markdown",
      "source": [
        "**Installation and importation of necessary libraries**"
      ],
      "metadata": {
        "id": "lyAoL5f1HYFO"
      }
    },
    {
      "cell_type": "code",
      "source": [
        "pip install pyspark"
      ],
      "metadata": {
        "id": "RNNAmAd_Spwn"
      },
      "execution_count": null,
      "outputs": []
    },
    {
      "cell_type": "code",
      "source": [
        "from pyspark.sql import SparkSession"
      ],
      "metadata": {
        "id": "d3mF0P0xSppd"
      },
      "execution_count": 2,
      "outputs": []
    },
    {
      "cell_type": "code",
      "source": [
        "spark = SparkSession.builder.appName('Intro').getOrCreate()"
      ],
      "metadata": {
        "id": "FzFIfq3zSpj1"
      },
      "execution_count": 3,
      "outputs": []
    },
    {
      "cell_type": "code",
      "source": [
        "spark"
      ],
      "metadata": {
        "colab": {
          "base_uri": "https://localhost:8080/",
          "height": 216
        },
        "id": "kpReNSGbSpex",
        "outputId": "f6931702-c76b-4b9f-dab7-52bd35de5532"
      },
      "execution_count": 5,
      "outputs": [
        {
          "output_type": "execute_result",
          "data": {
            "text/plain": [
              "<pyspark.sql.session.SparkSession at 0x78f51413ad40>"
            ],
            "text/html": [
              "\n",
              "            <div>\n",
              "                <p><b>SparkSession - in-memory</b></p>\n",
              "                \n",
              "        <div>\n",
              "            <p><b>SparkContext</b></p>\n",
              "\n",
              "            <p><a href=\"http://1b9737323e9c:4040\">Spark UI</a></p>\n",
              "\n",
              "            <dl>\n",
              "              <dt>Version</dt>\n",
              "                <dd><code>v3.4.1</code></dd>\n",
              "              <dt>Master</dt>\n",
              "                <dd><code>local[*]</code></dd>\n",
              "              <dt>AppName</dt>\n",
              "                <dd><code>Intro</code></dd>\n",
              "            </dl>\n",
              "        </div>\n",
              "        \n",
              "            </div>\n",
              "        "
            ]
          },
          "metadata": {},
          "execution_count": 5
        }
      ]
    },
    {
      "cell_type": "markdown",
      "source": [
        "**Reading a csv file.**"
      ],
      "metadata": {
        "id": "1G51emr4W1Ff"
      }
    },
    {
      "cell_type": "code",
      "source": [
        "df = spark.read.csv('/content/drive/MyDrive/data/APPLE_STOCK_Final.csv')"
      ],
      "metadata": {
        "id": "9idWeQcSSpZO"
      },
      "execution_count": 6,
      "outputs": []
    },
    {
      "cell_type": "code",
      "source": [
        "df.show()"
      ],
      "metadata": {
        "colab": {
          "base_uri": "https://localhost:8080/"
        },
        "id": "sx52soCASpUF",
        "outputId": "30a12ae6-9aa6-4c75-ad56-6d959dc10e9f"
      },
      "execution_count": 7,
      "outputs": [
        {
          "output_type": "stream",
          "name": "stdout",
          "text": [
            "+----------+------+------+------+------+---------+\n",
            "|       _c0|   _c1|   _c2|   _c3|   _c4|      _c5|\n",
            "+----------+------+------+------+------+---------+\n",
            "|      Date| Price|  Open|  High|   Low|   Volume|\n",
            "|05/12/2023|172.57|173.62|174.06| 171.0| 45530000|\n",
            "|05/11/2023|173.75|173.85|174.59|172.17| 49510000|\n",
            "|05/10/2023|173.55|173.02|174.03| 171.9| 53720000|\n",
            "|05/09/2023|171.77|173.05|173.54| 171.6| 45330000|\n",
            "|05/08/2023| 173.5|172.48|173.85|172.11| 55960000|\n",
            "|05/05/2023|173.57|170.98| 174.3|170.76|113450000|\n",
            "|05/04/2023|165.79|164.89|167.04|164.31| 70380000|\n",
            "|05/03/2023|167.45| 169.5|170.92|167.16| 59440000|\n",
            "|05/02/2023|168.54|170.09|170.35|167.54| 48430000|\n",
            "|05/01/2023|169.59|169.28|170.45|168.64| 49390000|\n",
            "|04/28/2023|169.68|168.49|169.85|167.88| 55280000|\n",
            "|04/27/2023|168.41|165.19|168.56|165.19| 64220000|\n",
            "|04/26/2023|163.76|163.05|165.28| 162.8| 44110000|\n",
            "|04/25/2023|163.77|165.19| 166.3|163.73| 48170000|\n",
            "|04/24/2023|165.33| 165.0| 165.6|163.89| 38990000|\n",
            "|04/21/2023|165.02|165.05|166.45|164.49| 58340000|\n",
            "|04/20/2023|166.65|166.09|167.87|165.56| 52460000|\n",
            "|04/19/2023|167.63| 165.8|168.16|165.54| 47240000|\n",
            "|04/18/2023|166.47| 166.1|167.41|165.65| 48410000|\n",
            "+----------+------+------+------+------+---------+\n",
            "only showing top 20 rows\n",
            "\n"
          ]
        }
      ]
    },
    {
      "cell_type": "code",
      "source": [
        "df.printSchema()"
      ],
      "metadata": {
        "colab": {
          "base_uri": "https://localhost:8080/"
        },
        "id": "UiXaz7RfSpKg",
        "outputId": "1e0892ea-4edb-4493-ce27-5a6dba00690e"
      },
      "execution_count": 8,
      "outputs": [
        {
          "output_type": "stream",
          "name": "stdout",
          "text": [
            "root\n",
            " |-- _c0: string (nullable = true)\n",
            " |-- _c1: string (nullable = true)\n",
            " |-- _c2: string (nullable = true)\n",
            " |-- _c3: string (nullable = true)\n",
            " |-- _c4: string (nullable = true)\n",
            " |-- _c5: string (nullable = true)\n",
            "\n"
          ]
        }
      ]
    },
    {
      "cell_type": "code",
      "source": [
        "df1 = spark.read.csv('/content/drive/MyDrive/data/APPLE_STOCK_Final.csv', header=True)\n",
        "df1.printSchema()"
      ],
      "metadata": {
        "colab": {
          "base_uri": "https://localhost:8080/"
        },
        "id": "ukHdC9WaSpFw",
        "outputId": "7e47cef6-c898-4f37-8482-154f10fe437e"
      },
      "execution_count": 55,
      "outputs": [
        {
          "output_type": "stream",
          "name": "stdout",
          "text": [
            "root\n",
            " |-- Date: string (nullable = true)\n",
            " |-- Price: string (nullable = true)\n",
            " |-- Open: string (nullable = true)\n",
            " |-- High: string (nullable = true)\n",
            " |-- Low: string (nullable = true)\n",
            " |-- Volume: string (nullable = true)\n",
            "\n"
          ]
        }
      ]
    },
    {
      "cell_type": "code",
      "source": [
        "df1.show()"
      ],
      "metadata": {
        "colab": {
          "base_uri": "https://localhost:8080/"
        },
        "id": "Eaf9TofESpAU",
        "outputId": "5596bba8-d637-4f03-da07-454d303401a3"
      },
      "execution_count": 56,
      "outputs": [
        {
          "output_type": "stream",
          "name": "stdout",
          "text": [
            "+----------+------+------+------+------+---------+\n",
            "|      Date| Price|  Open|  High|   Low|   Volume|\n",
            "+----------+------+------+------+------+---------+\n",
            "|05/12/2023|172.57|173.62|174.06| 171.0| 45530000|\n",
            "|05/11/2023|173.75|173.85|174.59|172.17| 49510000|\n",
            "|05/10/2023|173.55|173.02|174.03| 171.9| 53720000|\n",
            "|05/09/2023|171.77|173.05|173.54| 171.6| 45330000|\n",
            "|05/08/2023| 173.5|172.48|173.85|172.11| 55960000|\n",
            "|05/05/2023|173.57|170.98| 174.3|170.76|113450000|\n",
            "|05/04/2023|165.79|164.89|167.04|164.31| 70380000|\n",
            "|05/03/2023|167.45| 169.5|170.92|167.16| 59440000|\n",
            "|05/02/2023|168.54|170.09|170.35|167.54| 48430000|\n",
            "|05/01/2023|169.59|169.28|170.45|168.64| 49390000|\n",
            "|04/28/2023|169.68|168.49|169.85|167.88| 55280000|\n",
            "|04/27/2023|168.41|165.19|168.56|165.19| 64220000|\n",
            "|04/26/2023|163.76|163.05|165.28| 162.8| 44110000|\n",
            "|04/25/2023|163.77|165.19| 166.3|163.73| 48170000|\n",
            "|04/24/2023|165.33| 165.0| 165.6|163.89| 38990000|\n",
            "|04/21/2023|165.02|165.05|166.45|164.49| 58340000|\n",
            "|04/20/2023|166.65|166.09|167.87|165.56| 52460000|\n",
            "|04/19/2023|167.63| 165.8|168.16|165.54| 47240000|\n",
            "|04/18/2023|166.47| 166.1|167.41|165.65| 48410000|\n",
            "|04/17/2023|165.23|165.09|165.39|164.03| 41520000|\n",
            "+----------+------+------+------+------+---------+\n",
            "only showing top 20 rows\n",
            "\n"
          ]
        }
      ]
    },
    {
      "cell_type": "markdown",
      "source": [
        "**Reading a json file**"
      ],
      "metadata": {
        "id": "7-bhBQsrWfpm"
      }
    },
    {
      "cell_type": "code",
      "source": [
        "df2 = spark.read.json('/content/drive/MyDrive/Spark_DataFrames/people.json')\n",
        "print(df2.show())\n",
        "print(df2.printSchema())"
      ],
      "metadata": {
        "colab": {
          "base_uri": "https://localhost:8080/"
        },
        "id": "Dt-dGdoaSo7I",
        "outputId": "34398b87-b42c-436d-fff2-488674a196c7"
      },
      "execution_count": 11,
      "outputs": [
        {
          "output_type": "stream",
          "name": "stdout",
          "text": [
            "+----+-------+\n",
            "| age|   name|\n",
            "+----+-------+\n",
            "|null|Michael|\n",
            "|  30|   Andy|\n",
            "|  19| Justin|\n",
            "+----+-------+\n",
            "\n",
            "None\n",
            "root\n",
            " |-- age: long (nullable = true)\n",
            " |-- name: string (nullable = true)\n",
            "\n",
            "None\n"
          ]
        }
      ]
    },
    {
      "cell_type": "code",
      "source": [
        "df1.columns"
      ],
      "metadata": {
        "colab": {
          "base_uri": "https://localhost:8080/"
        },
        "id": "rmEfX-gqSo1Y",
        "outputId": "8ee2ef6d-1816-4991-cf47-50af6c68eb39"
      },
      "execution_count": 12,
      "outputs": [
        {
          "output_type": "execute_result",
          "data": {
            "text/plain": [
              "['Date', 'Price', 'Open', 'High', 'Low', 'Volume']"
            ]
          },
          "metadata": {},
          "execution_count": 12
        }
      ]
    },
    {
      "cell_type": "code",
      "source": [
        "df1.describe()"
      ],
      "metadata": {
        "colab": {
          "base_uri": "https://localhost:8080/"
        },
        "id": "5G2cAONJSov7",
        "outputId": "32ddb0a6-2d64-48bd-ae97-bfe17337bf37"
      },
      "execution_count": 13,
      "outputs": [
        {
          "output_type": "execute_result",
          "data": {
            "text/plain": [
              "DataFrame[summary: string, Date: string, Price: string, Open: string, High: string, Low: string, Volume: string]"
            ]
          },
          "metadata": {},
          "execution_count": 13
        }
      ]
    },
    {
      "cell_type": "code",
      "source": [
        "df1.describe().show()"
      ],
      "metadata": {
        "colab": {
          "base_uri": "https://localhost:8080/"
        },
        "id": "-RDZGbxuSorT",
        "outputId": "e128d58f-30d9-4f90-aa8b-a3af071b5c52"
      },
      "execution_count": 14,
      "outputs": [
        {
          "output_type": "stream",
          "name": "stdout",
          "text": [
            "+-------+----------+------------------+------------------+-----------------+------------------+--------------------+\n",
            "|summary|      Date|             Price|              Open|             High|               Low|              Volume|\n",
            "+-------+----------+------------------+------------------+-----------------+------------------+--------------------+\n",
            "|  count|     10627|             10627|             10627|            10627|             10627|               10627|\n",
            "|   mean|      null|17.762759951067743| 17.75107179824943|17.95328220570211|17.555222546343884|2.6771120635983816E8|\n",
            "| stddev|      null| 37.31948967716284|37.284672385434135|37.73392591982025| 36.86263380022763|2.4018651533580574E8|\n",
            "|    min|01/02/1981|              0.05|              0.05|             0.05|              0.05|                   0|\n",
            "|    max|12/31/2021|             98.36|             99.17|            99.95|             96.95|           999830000|\n",
            "+-------+----------+------------------+------------------+-----------------+------------------+--------------------+\n",
            "\n"
          ]
        }
      ]
    },
    {
      "cell_type": "code",
      "source": [
        "df1.dtypes"
      ],
      "metadata": {
        "colab": {
          "base_uri": "https://localhost:8080/"
        },
        "id": "fLcvd1vIpw19",
        "outputId": "f6bceb38-4b1c-49a1-e952-2340c9281e8a"
      },
      "execution_count": 27,
      "outputs": [
        {
          "output_type": "execute_result",
          "data": {
            "text/plain": [
              "[('Date', 'string'),\n",
              " ('Price', 'string'),\n",
              " ('Open', 'string'),\n",
              " ('High', 'string'),\n",
              " ('Low', 'string'),\n",
              " ('Volume', 'string')]"
            ]
          },
          "metadata": {},
          "execution_count": 27
        }
      ]
    },
    {
      "cell_type": "markdown",
      "source": [
        "**Attaching a schema for desired configuration (ie data types etc)**"
      ],
      "metadata": {
        "id": "hTWUnNkEsXSG"
      }
    },
    {
      "cell_type": "code",
      "source": [
        "from pyspark.sql.types import StructType,StructField,IntegerType,StringType,MapType,DateType,FloatType"
      ],
      "metadata": {
        "id": "14wrKRNvp_Ms"
      },
      "execution_count": 4,
      "outputs": []
    },
    {
      "cell_type": "code",
      "source": [
        "schema1 = StructType([StructField('Date',StringType(),True),\n",
        "                      StructField('Price',FloatType(),True),\n",
        "                      StructField('Open',FloatType(),True),\n",
        "                      StructField('High',FloatType(),True),\n",
        "                      StructField('Low',FloatType(),True),\n",
        "                      StructField('Volume',IntegerType(),True)])\n",
        "\n",
        "df3 = spark.read.csv('/content/drive/MyDrive/data/APPLE_STOCK_Final.csv',schema=schema1,header=True)\n",
        "\n",
        "df3.printSchema()"
      ],
      "metadata": {
        "colab": {
          "base_uri": "https://localhost:8080/"
        },
        "id": "8Xo8WTj8qC9R",
        "outputId": "d6f8acf6-9067-448f-8a24-2cb8e6c95f55"
      },
      "execution_count": 5,
      "outputs": [
        {
          "output_type": "stream",
          "name": "stdout",
          "text": [
            "root\n",
            " |-- Date: string (nullable = true)\n",
            " |-- Price: float (nullable = true)\n",
            " |-- Open: float (nullable = true)\n",
            " |-- High: float (nullable = true)\n",
            " |-- Low: float (nullable = true)\n",
            " |-- Volume: integer (nullable = true)\n",
            "\n"
          ]
        }
      ]
    },
    {
      "cell_type": "code",
      "source": [
        "df3.dtypes"
      ],
      "metadata": {
        "colab": {
          "base_uri": "https://localhost:8080/"
        },
        "id": "Msr7ThdsqCwN",
        "outputId": "d92f10fd-6648-4e10-a8ae-52301e69b468"
      },
      "execution_count": 59,
      "outputs": [
        {
          "output_type": "execute_result",
          "data": {
            "text/plain": [
              "[('Date', 'date'),\n",
              " ('Price', 'float'),\n",
              " ('Open', 'float'),\n",
              " ('High', 'float'),\n",
              " ('Low', 'float'),\n",
              " ('Volume', 'int')]"
            ]
          },
          "metadata": {},
          "execution_count": 59
        }
      ]
    },
    {
      "cell_type": "code",
      "source": [
        "df3.show()"
      ],
      "metadata": {
        "colab": {
          "base_uri": "https://localhost:8080/"
        },
        "id": "9ZdsBp4ZvfkE",
        "outputId": "30a3423c-2254-40b2-c63d-a45e88e3d7c3"
      },
      "execution_count": 7,
      "outputs": [
        {
          "output_type": "stream",
          "name": "stdout",
          "text": [
            "+----------+------+------+------+------+---------+\n",
            "|      Date| Price|  Open|  High|   Low|   Volume|\n",
            "+----------+------+------+------+------+---------+\n",
            "|05/12/2023|172.57|173.62|174.06| 171.0| 45530000|\n",
            "|05/11/2023|173.75|173.85|174.59|172.17| 49510000|\n",
            "|05/10/2023|173.55|173.02|174.03| 171.9| 53720000|\n",
            "|05/09/2023|171.77|173.05|173.54| 171.6| 45330000|\n",
            "|05/08/2023| 173.5|172.48|173.85|172.11| 55960000|\n",
            "|05/05/2023|173.57|170.98| 174.3|170.76|113450000|\n",
            "|05/04/2023|165.79|164.89|167.04|164.31| 70380000|\n",
            "|05/03/2023|167.45| 169.5|170.92|167.16| 59440000|\n",
            "|05/02/2023|168.54|170.09|170.35|167.54| 48430000|\n",
            "|05/01/2023|169.59|169.28|170.45|168.64| 49390000|\n",
            "|04/28/2023|169.68|168.49|169.85|167.88| 55280000|\n",
            "|04/27/2023|168.41|165.19|168.56|165.19| 64220000|\n",
            "|04/26/2023|163.76|163.05|165.28| 162.8| 44110000|\n",
            "|04/25/2023|163.77|165.19| 166.3|163.73| 48170000|\n",
            "|04/24/2023|165.33| 165.0| 165.6|163.89| 38990000|\n",
            "|04/21/2023|165.02|165.05|166.45|164.49| 58340000|\n",
            "|04/20/2023|166.65|166.09|167.87|165.56| 52460000|\n",
            "|04/19/2023|167.63| 165.8|168.16|165.54| 47240000|\n",
            "|04/18/2023|166.47| 166.1|167.41|165.65| 48410000|\n",
            "|04/17/2023|165.23|165.09|165.39|164.03| 41520000|\n",
            "+----------+------+------+------+------+---------+\n",
            "only showing top 20 rows\n",
            "\n"
          ]
        }
      ]
    },
    {
      "cell_type": "markdown",
      "source": [
        "**Attaching a schema when creating a dataframe.**"
      ],
      "metadata": {
        "id": "ELwslDUVivbK"
      }
    },
    {
      "cell_type": "code",
      "source": [
        "# creating a maptype with key type StringType and value type IntegerType\n",
        "\n",
        "# map_type = MapType(StringType(),IntegerType())"
      ],
      "metadata": {
        "id": "lns6QIkVSojB"
      },
      "execution_count": 21,
      "outputs": []
    },
    {
      "cell_type": "code",
      "source": [
        "# creating a dataframe column from the maptype\n",
        "\n",
        "schema = StructType([StructField('name',StringType(),True),\n",
        "                     StructField('age',IntegerType(),True),\n",
        "                     StructField('address',MapType(StringType(),IntegerType()),True)])"
      ],
      "metadata": {
        "id": "lJGkOTCPSobK"
      },
      "execution_count": 22,
      "outputs": []
    },
    {
      "cell_type": "code",
      "source": [
        "# Creating and populating the dataframe\n",
        "\n",
        "data = [{'name':'John','age':30,'address':{'home':32232,'office':566435}},\n",
        "        {'name':'Noman','age':27,'address':{'home':11223,'office':988972}}]\n",
        "\n",
        "df2 = spark.createDataFrame(data,schema)\n",
        "\n",
        "df2.printSchema()"
      ],
      "metadata": {
        "colab": {
          "base_uri": "https://localhost:8080/"
        },
        "id": "D1Jv2r7uSoW6",
        "outputId": "4b0095d4-937a-441e-e7ba-c3c04ef8cb2a"
      },
      "execution_count": 24,
      "outputs": [
        {
          "output_type": "stream",
          "name": "stdout",
          "text": [
            "root\n",
            " |-- name: string (nullable = true)\n",
            " |-- age: integer (nullable = true)\n",
            " |-- address: map (nullable = true)\n",
            " |    |-- key: string\n",
            " |    |-- value: integer (valueContainsNull = true)\n",
            "\n"
          ]
        }
      ]
    },
    {
      "cell_type": "code",
      "source": [
        "df2.show()"
      ],
      "metadata": {
        "colab": {
          "base_uri": "https://localhost:8080/"
        },
        "id": "2ZINdO_eSoSp",
        "outputId": "bb33a5a1-cb0c-42a5-fddf-b5f57ee5bd4d"
      },
      "execution_count": 25,
      "outputs": [
        {
          "output_type": "stream",
          "name": "stdout",
          "text": [
            "+-----+---+--------------------+\n",
            "| name|age|             address|\n",
            "+-----+---+--------------------+\n",
            "| John| 30|{office -> 566435...|\n",
            "|Noman| 27|{office -> 988972...|\n",
            "+-----+---+--------------------+\n",
            "\n"
          ]
        }
      ]
    },
    {
      "cell_type": "markdown",
      "source": [
        "**Grabbing the data**"
      ],
      "metadata": {
        "id": "5FWhr3TIy4aa"
      }
    },
    {
      "cell_type": "code",
      "source": [
        "type(df2['age'])"
      ],
      "metadata": {
        "colab": {
          "base_uri": "https://localhost:8080/"
        },
        "id": "SOXRcQP7SoOj",
        "outputId": "99d5573f-0365-4018-cc60-680bd4d7e328"
      },
      "execution_count": 70,
      "outputs": [
        {
          "output_type": "execute_result",
          "data": {
            "text/plain": [
              "pyspark.sql.column.Column"
            ]
          },
          "metadata": {},
          "execution_count": 70
        }
      ]
    },
    {
      "cell_type": "code",
      "source": [
        "df3.select('Price')"
      ],
      "metadata": {
        "colab": {
          "base_uri": "https://localhost:8080/"
        },
        "id": "Tnht4tCsSoKc",
        "outputId": "5aeeeba3-68b7-4448-f58d-547eecb402d6"
      },
      "execution_count": 71,
      "outputs": [
        {
          "output_type": "execute_result",
          "data": {
            "text/plain": [
              "DataFrame[Price: float]"
            ]
          },
          "metadata": {},
          "execution_count": 71
        }
      ]
    },
    {
      "cell_type": "code",
      "source": [
        "df3.select('Price').show(5)"
      ],
      "metadata": {
        "colab": {
          "base_uri": "https://localhost:8080/"
        },
        "id": "AWIqNh5XSoGf",
        "outputId": "6ec1c7d7-8459-4c63-fd2e-7208c9d9b99f"
      },
      "execution_count": 75,
      "outputs": [
        {
          "output_type": "stream",
          "name": "stdout",
          "text": [
            "+------+\n",
            "| Price|\n",
            "+------+\n",
            "|172.57|\n",
            "|173.75|\n",
            "|173.55|\n",
            "|171.77|\n",
            "| 173.5|\n",
            "+------+\n",
            "only showing top 5 rows\n",
            "\n"
          ]
        }
      ]
    },
    {
      "cell_type": "code",
      "source": [
        "df3.head(2)"
      ],
      "metadata": {
        "colab": {
          "base_uri": "https://localhost:8080/"
        },
        "id": "MDmC0iOiSoCk",
        "outputId": "a6e4313c-789c-46ca-b5d3-487f0ad90e8a"
      },
      "execution_count": 82,
      "outputs": [
        {
          "output_type": "execute_result",
          "data": {
            "text/plain": [
              "[Row(Date='05/12/2023', Price=172.57000732421875, Open=173.6199951171875, High=174.05999755859375, Low=171.0, Volume=45530000),\n",
              " Row(Date='05/11/2023', Price=173.75, Open=173.85000610351562, High=174.58999633789062, Low=172.1699981689453, Volume=49510000)]"
            ]
          },
          "metadata": {},
          "execution_count": 82
        }
      ]
    },
    {
      "cell_type": "code",
      "source": [
        "df3.show(2)"
      ],
      "metadata": {
        "colab": {
          "base_uri": "https://localhost:8080/"
        },
        "id": "4xpLAufjSn-X",
        "outputId": "18b1b3ef-f62c-4705-e868-cefb3b19fef0"
      },
      "execution_count": 83,
      "outputs": [
        {
          "output_type": "stream",
          "name": "stdout",
          "text": [
            "+----------+------+------+------+------+--------+\n",
            "|      Date| Price|  Open|  High|   Low|  Volume|\n",
            "+----------+------+------+------+------+--------+\n",
            "|05/12/2023|172.57|173.62|174.06| 171.0|45530000|\n",
            "|05/11/2023|173.75|173.85|174.59|172.17|49510000|\n",
            "+----------+------+------+------+------+--------+\n",
            "only showing top 2 rows\n",
            "\n"
          ]
        }
      ]
    },
    {
      "cell_type": "code",
      "source": [
        "# creating new columns\n",
        "\n",
        "df3.withColumn('New_Low',df3['Low']).show(5)"
      ],
      "metadata": {
        "colab": {
          "base_uri": "https://localhost:8080/"
        },
        "id": "cwsQnKHLSn6k",
        "outputId": "312fd44b-6961-4d84-ac53-4ccbb8cf1ca1"
      },
      "execution_count": 85,
      "outputs": [
        {
          "output_type": "stream",
          "name": "stdout",
          "text": [
            "+----------+------+------+------+------+--------+-------+\n",
            "|      Date| Price|  Open|  High|   Low|  Volume|New_Low|\n",
            "+----------+------+------+------+------+--------+-------+\n",
            "|05/12/2023|172.57|173.62|174.06| 171.0|45530000|  171.0|\n",
            "|05/11/2023|173.75|173.85|174.59|172.17|49510000| 172.17|\n",
            "|05/10/2023|173.55|173.02|174.03| 171.9|53720000|  171.9|\n",
            "|05/09/2023|171.77|173.05|173.54| 171.6|45330000|  171.6|\n",
            "|05/08/2023| 173.5|172.48|173.85|172.11|55960000| 172.11|\n",
            "+----------+------+------+------+------+--------+-------+\n",
            "only showing top 5 rows\n",
            "\n"
          ]
        }
      ]
    },
    {
      "cell_type": "code",
      "source": [
        "df3.withColumn('Double_Low',df3['Low']*2).show(5)"
      ],
      "metadata": {
        "colab": {
          "base_uri": "https://localhost:8080/"
        },
        "id": "7ETybqCkSn2u",
        "outputId": "a33c5de7-b7f1-4092-ef22-9dc4155c0089"
      },
      "execution_count": 10,
      "outputs": [
        {
          "output_type": "stream",
          "name": "stdout",
          "text": [
            "+----------+------+------+------+------+--------+----------+\n",
            "|      Date| Price|  Open|  High|   Low|  Volume|Double_Low|\n",
            "+----------+------+------+------+------+--------+----------+\n",
            "|05/12/2023|172.57|173.62|174.06| 171.0|45530000|     342.0|\n",
            "|05/11/2023|173.75|173.85|174.59|172.17|49510000|    344.34|\n",
            "|05/10/2023|173.55|173.02|174.03| 171.9|53720000|     343.8|\n",
            "|05/09/2023|171.77|173.05|173.54| 171.6|45330000|     343.2|\n",
            "|05/08/2023| 173.5|172.48|173.85|172.11|55960000|    344.22|\n",
            "+----------+------+------+------+------+--------+----------+\n",
            "only showing top 5 rows\n",
            "\n"
          ]
        }
      ]
    },
    {
      "cell_type": "markdown",
      "source": [
        "**Running SQL Queries**"
      ],
      "metadata": {
        "id": "hGQbRESMjvck"
      }
    },
    {
      "cell_type": "code",
      "source": [
        "df3.createOrReplaceTempView('apple_temp_view')"
      ],
      "metadata": {
        "id": "giRO3juKSny3"
      },
      "execution_count": 8,
      "outputs": []
    },
    {
      "cell_type": "markdown",
      "source": [
        "**Filtering Data**"
      ],
      "metadata": {
        "id": "WhvZQSgaJouy"
      }
    },
    {
      "cell_type": "code",
      "source": [
        "# Row with an opening price of less than 500\n",
        "\n",
        "df3.filter(\"Open<500\").show(5)"
      ],
      "metadata": {
        "colab": {
          "base_uri": "https://localhost:8080/"
        },
        "id": "g6CfEdRUSnuw",
        "outputId": "95c08d2b-edd1-47c0-852c-1d1ab78d284b"
      },
      "execution_count": 13,
      "outputs": [
        {
          "output_type": "stream",
          "name": "stdout",
          "text": [
            "+----------+------+------+------+------+--------+\n",
            "|      Date| Price|  Open|  High|   Low|  Volume|\n",
            "+----------+------+------+------+------+--------+\n",
            "|05/12/2023|172.57|173.62|174.06| 171.0|45530000|\n",
            "|05/11/2023|173.75|173.85|174.59|172.17|49510000|\n",
            "|05/10/2023|173.55|173.02|174.03| 171.9|53720000|\n",
            "|05/09/2023|171.77|173.05|173.54| 171.6|45330000|\n",
            "|05/08/2023| 173.5|172.48|173.85|172.11|55960000|\n",
            "+----------+------+------+------+------+--------+\n",
            "only showing top 5 rows\n",
            "\n"
          ]
        }
      ]
    },
    {
      "cell_type": "code",
      "source": [
        "# selecting price and volumeof rows with an opening price of less than 500\n",
        "\n",
        "df3.filter(\"Open<500\").select(['Price','Volume']).show(5)"
      ],
      "metadata": {
        "colab": {
          "base_uri": "https://localhost:8080/"
        },
        "id": "uhuEiC9NSnhF",
        "outputId": "fce4fc82-af96-45f4-e7aa-17532eeaa390"
      },
      "execution_count": 16,
      "outputs": [
        {
          "output_type": "stream",
          "name": "stdout",
          "text": [
            "+------+--------+\n",
            "| Price|  Volume|\n",
            "+------+--------+\n",
            "|172.57|45530000|\n",
            "|173.75|49510000|\n",
            "|173.55|53720000|\n",
            "|171.77|45330000|\n",
            "| 173.5|55960000|\n",
            "+------+--------+\n",
            "only showing top 5 rows\n",
            "\n"
          ]
        }
      ]
    },
    {
      "cell_type": "markdown",
      "source": [
        "Using normal python comparison operators is another way to do this, they will look very similar to SQL operators, except you need to make sure you are calling the entire column within the dataframe, using the format: df[\"column name\"]\n",
        "\n",
        "Let's see some examples:"
      ],
      "metadata": {
        "id": "BeuS_bZhOA2U"
      }
    },
    {
      "cell_type": "code",
      "source": [
        "df3.filter(df3['Open'] < 500).show(5)"
      ],
      "metadata": {
        "colab": {
          "base_uri": "https://localhost:8080/"
        },
        "id": "Ew1hobtnSnRc",
        "outputId": "9725b9a0-a08f-47ea-dc28-2613624a5e2f"
      },
      "execution_count": 18,
      "outputs": [
        {
          "output_type": "stream",
          "name": "stdout",
          "text": [
            "+----------+------+------+------+------+--------+\n",
            "|      Date| Price|  Open|  High|   Low|  Volume|\n",
            "+----------+------+------+------+------+--------+\n",
            "|05/12/2023|172.57|173.62|174.06| 171.0|45530000|\n",
            "|05/11/2023|173.75|173.85|174.59|172.17|49510000|\n",
            "|05/10/2023|173.55|173.02|174.03| 171.9|53720000|\n",
            "|05/09/2023|171.77|173.05|173.54| 171.6|45330000|\n",
            "|05/08/2023| 173.5|172.48|173.85|172.11|55960000|\n",
            "+----------+------+------+------+------+--------+\n",
            "only showing top 5 rows\n",
            "\n"
          ]
        }
      ]
    },
    {
      "cell_type": "code",
      "source": [
        "df3.filter((df3['Open'] < 500) & (df3['High'] > 100)).show(5)"
      ],
      "metadata": {
        "colab": {
          "base_uri": "https://localhost:8080/"
        },
        "id": "BFh05eP5SnNn",
        "outputId": "bf99c23a-f81d-4817-a7fb-32f2f537319f"
      },
      "execution_count": 23,
      "outputs": [
        {
          "output_type": "stream",
          "name": "stdout",
          "text": [
            "+----------+------+------+------+------+--------+\n",
            "|      Date| Price|  Open|  High|   Low|  Volume|\n",
            "+----------+------+------+------+------+--------+\n",
            "|05/12/2023|172.57|173.62|174.06| 171.0|45530000|\n",
            "|05/11/2023|173.75|173.85|174.59|172.17|49510000|\n",
            "|05/10/2023|173.55|173.02|174.03| 171.9|53720000|\n",
            "|05/09/2023|171.77|173.05|173.54| 171.6|45330000|\n",
            "|05/08/2023| 173.5|172.48|173.85|172.11|55960000|\n",
            "+----------+------+------+------+------+--------+\n",
            "only showing top 5 rows\n",
            "\n"
          ]
        }
      ]
    },
    {
      "cell_type": "code",
      "source": [
        "df3.filter((df3['Open'] < 500) | (df3['High'] > 100)).show(5)"
      ],
      "metadata": {
        "colab": {
          "base_uri": "https://localhost:8080/"
        },
        "id": "rNbPhQtjSnJa",
        "outputId": "a3654450-f45a-4f62-a248-549292123727"
      },
      "execution_count": 24,
      "outputs": [
        {
          "output_type": "stream",
          "name": "stdout",
          "text": [
            "+----------+------+------+------+------+--------+\n",
            "|      Date| Price|  Open|  High|   Low|  Volume|\n",
            "+----------+------+------+------+------+--------+\n",
            "|05/12/2023|172.57|173.62|174.06| 171.0|45530000|\n",
            "|05/11/2023|173.75|173.85|174.59|172.17|49510000|\n",
            "|05/10/2023|173.55|173.02|174.03| 171.9|53720000|\n",
            "|05/09/2023|171.77|173.05|173.54| 171.6|45330000|\n",
            "|05/08/2023| 173.5|172.48|173.85|172.11|55960000|\n",
            "+----------+------+------+------+------+--------+\n",
            "only showing top 5 rows\n",
            "\n"
          ]
        }
      ]
    },
    {
      "cell_type": "markdown",
      "source": [
        "Collecting results as Python Objects.\n",
        "\n",
        "Reasons:\n",
        "\n",
        "1.   To work with the results in Python ie average etc\n",
        "2.   To save the results to a file\n",
        "3.   To pass the results to another Spark operation\n",
        "\n",
        "\n",
        "\n",
        "\n",
        "\n"
      ],
      "metadata": {
        "id": "a-vvBkBGSQu3"
      }
    },
    {
      "cell_type": "code",
      "source": [
        "result = df3.filter(df3[\"Low\"] == 171.0).collect()\n",
        "result\n",
        "# returns a nested structure"
      ],
      "metadata": {
        "colab": {
          "base_uri": "https://localhost:8080/"
        },
        "id": "GXUZs08fSnFk",
        "outputId": "ec6b7517-fe79-451b-b060-bc73ff0ebfd9"
      },
      "execution_count": 32,
      "outputs": [
        {
          "output_type": "execute_result",
          "data": {
            "text/plain": [
              "[Row(Date='05/12/2023', Price=172.57000732421875, Open=173.6199951171875, High=174.05999755859375, Low=171.0, Volume=45530000)]"
            ]
          },
          "metadata": {},
          "execution_count": 32
        }
      ]
    },
    {
      "cell_type": "code",
      "source": [
        "type(result)"
      ],
      "metadata": {
        "colab": {
          "base_uri": "https://localhost:8080/"
        },
        "id": "sKu75088SnBW",
        "outputId": "87507f84-44d3-4e6f-be78-3848d23755eb"
      },
      "execution_count": 30,
      "outputs": [
        {
          "output_type": "execute_result",
          "data": {
            "text/plain": [
              "list"
            ]
          },
          "metadata": {},
          "execution_count": 30
        }
      ]
    },
    {
      "cell_type": "code",
      "source": [
        "type(result[0])"
      ],
      "metadata": {
        "colab": {
          "base_uri": "https://localhost:8080/"
        },
        "id": "JtYz4dlzSm8t",
        "outputId": "4fc8cd09-2f60-4574-c6a1-684f9f6985db"
      },
      "execution_count": 31,
      "outputs": [
        {
          "output_type": "execute_result",
          "data": {
            "text/plain": [
              "pyspark.sql.types.Row"
            ]
          },
          "metadata": {},
          "execution_count": 31
        }
      ]
    },
    {
      "cell_type": "code",
      "source": [
        "# converting to a dict"
      ],
      "metadata": {
        "id": "TT8r-hktSm4w"
      },
      "execution_count": null,
      "outputs": []
    },
    {
      "cell_type": "code",
      "source": [
        "row = result[0]\n",
        "\n",
        "row.asDict()"
      ],
      "metadata": {
        "colab": {
          "base_uri": "https://localhost:8080/"
        },
        "id": "-0diX3rUSm0o",
        "outputId": "5073cdbf-1f74-4e8b-d52e-c6cb3da00d46"
      },
      "execution_count": 35,
      "outputs": [
        {
          "output_type": "execute_result",
          "data": {
            "text/plain": [
              "{'Date': '05/12/2023',\n",
              " 'Price': 172.57000732421875,\n",
              " 'Open': 173.6199951171875,\n",
              " 'High': 174.05999755859375,\n",
              " 'Low': 171.0,\n",
              " 'Volume': 45530000}"
            ]
          },
          "metadata": {},
          "execution_count": 35
        }
      ]
    },
    {
      "cell_type": "code",
      "source": [
        "# accessing all the elements in the list\n",
        "\n",
        "for i in result[0]:\n",
        "  print(i)"
      ],
      "metadata": {
        "colab": {
          "base_uri": "https://localhost:8080/"
        },
        "id": "7hWK0YBjSmwd",
        "outputId": "f0d8834a-789a-4207-9542-c91fb312f1fb"
      },
      "execution_count": 42,
      "outputs": [
        {
          "output_type": "stream",
          "name": "stdout",
          "text": [
            "05/12/2023\n",
            "172.57000732421875\n",
            "173.6199951171875\n",
            "174.05999755859375\n",
            "171.0\n",
            "45530000\n"
          ]
        }
      ]
    }
  ]
}