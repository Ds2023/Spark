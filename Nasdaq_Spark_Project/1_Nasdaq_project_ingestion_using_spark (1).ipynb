{
  "cells": [
    {
      "cell_type": "markdown",
      "metadata": {
        "id": "gNRlw_y4taSV"
      },
      "source": [
        "## Context\n",
        "\n",
        "To work constructively with any dataset, one needs to create an ingestion profile to make sure that the data at the source can be readily consumed. For this section of the predict, as the Data Engineer in the team, you will be required to design and implement the ingestion process. For the purposes of the project the AWS cloud storage service, namely, the S3 bucket service will act as your data source. All the data required can be found [here](https://processing-big-data-predict-stocks-data.s3.eu-west-1.amazonaws.com/stocks.zip).\n",
        "\n",
        "<div align=\"center\" style=\"width: 600px; font-size: 80%; text-align: center; margin: 0 auto\">\n",
        "<img src=\"https://raw.githubusercontent.com/Explore-AI/Pictures/master/data_engineering/transform/predict/DataIngestion.jpg\"\n",
        "     alt=\"Data Ingestion\"\n",
        "     style=\"float: center; padding-bottom=0.5em\"\n",
        "     width=40%/>\n",
        "     <p><em>Figure 1. Data Ingestion</em></p>\n",
        "</div>\n",
        "\n",
        "Your manager, Gnissecorp Atadgib, knowing very well that you've recently completed your Data Engineering qualification, asks you to make use of Apache Spark for the ingestion as well as the rest of the project. His rationale being, that stock market data is generated every day and is quite time-sensitive and would require scalability when deploying to a production environment.\n",
        "\n",
        "## Dataset - US Nasdaq\n",
        "\n",
        "\n",
        "\n",
        "\n",
        "<div align=\"center\" style=\"width: 600px; font-size: 80%; text-align: center; margin: 0 auto\">\n",
        "<img src=\"https://raw.githubusercontent.com/Explore-AI/Pictures/master/data_engineering/transform/predict/Nasdaq.png\"\n",
        "     alt=\"Nasdaq\"\n",
        "     style=\"float: center; padding-bottom=0.5em\"\n",
        "     width=50%/>\n",
        "     <p><em>Figure 2. Nasdaq</em></p>\n",
        "</div>\n",
        "\n",
        "The data that you will be working with is a historical snapshot of market data taken from the Nasdaq electronic market. This dataset contains historical daily prices for all tickers currently trading on Nasdaq. The up-to-date list can be found on their [website](https://www.nasdaq.com/)\n",
        "\n",
        "\n",
        "The provided data contains price data dating back from 02 January 1962 up until 01 April 2020. The data found in the S3 bucket has been stored in the following structure:\n",
        "\n",
        "```\n",
        "     stocks/<Year>/<Month>/<Day>/stocks.csv\n",
        "```\n",
        "Each CSV file for every trading day contains the following details:\n",
        "- **Date** - specifies trading date\n",
        "- **Open** - opening price\n",
        "- **High** - maximum price during the day\n",
        "- **Low** - minimum price during the day\n",
        "- **Close** - close price adjusted for splits\n",
        "- **Adj Close** - close price adjusted for both dividends and splits\n",
        "- **Volume** - the number of shares that changed hands during a given day"
      ]
    },
    {
      "cell_type": "markdown",
      "metadata": {
        "id": "58Rf2os1taSZ"
      },
      "source": [
        "## Basic initialisation\n",
        "To get you started, let's import some basic Python libraries as well as Spark modules and functions."
      ]
    },
    {
      "cell_type": "code",
      "source": [
        "pip install pyspark"
      ],
      "metadata": {
        "id": "VbVeORPCvnCc"
      },
      "execution_count": null,
      "outputs": []
    },
    {
      "cell_type": "code",
      "execution_count": 5,
      "metadata": {
        "id": "jKwdUQz6taSZ"
      },
      "outputs": [],
      "source": [
        "import pandas as pd\n",
        "import numpy as np\n",
        "import matplotlib.pyplot as plt\n",
        "\n",
        "from pyspark import SparkContext\n",
        "from pyspark.sql import SparkSession\n",
        "from pyspark.sql import functions as F\n",
        "# allows you to use the data types without having to specify the full module path.\n",
        "from pyspark.sql.types import *"
      ]
    },
    {
      "cell_type": "markdown",
      "metadata": {
        "id": "q75EmyeCtaSa"
      },
      "source": [
        "Remember that we need a `SparkContext` and `SparkSession` to interface with Spark.\n",
        "We will mostly be using the `SparkContext` to interact with RDDs and the `SparkSession` to interface with Python objects.\n",
        "\n",
        "> ℹ️ **Instructions** ℹ️\n",
        ">\n",
        ">Initialise a new **Spark Context** and **Session** that you will use to interface with Spark."
      ]
    },
    {
      "cell_type": "code",
      "execution_count": 6,
      "metadata": {
        "id": "jYLLrsAztaSa"
      },
      "outputs": [],
      "source": [
        "# creates a Spark session\n",
        "spark = SparkSession.builder.appName('nasdaq').getOrCreate()\n",
        "# assigns the SparkContext of the Spark session to the variable sc\n",
        "sc = spark.sparkContext\n",
        "# creates a new Spark session from the existing SparkContext\n",
        "spark = SparkSession(sc)"
      ]
    },
    {
      "cell_type": "markdown",
      "metadata": {
        "id": "X1RPnT6ztaSb"
      },
      "source": [
        "## Investigate dataset schema\n",
        "At this point, it is enough to read in a single file to ascertain the data structure. You will be required to use the information obtained from the small subset to create a data schema. This data schema will be used when reading the entire dataset using Spark.\n",
        "\n",
        "> ℹ️ **Instructions** ℹ️\n",
        ">\n",
        ">Make use of Pandas to read in a single file and investigate the plausible data types to be used when creating a Spark data schema.\n",
        ">\n",
        ">*You may use as many coding cells as necessary.*"
      ]
    },
    {
      "cell_type": "code",
      "source": [
        "from google.colab import drive\n",
        "drive.mount('/content/drive')"
      ],
      "metadata": {
        "colab": {
          "base_uri": "https://localhost:8080/"
        },
        "id": "hLkFqH2W9yKI",
        "outputId": "7801a715-121b-4003-e081-1a32cef987a5"
      },
      "execution_count": 7,
      "outputs": [
        {
          "output_type": "stream",
          "name": "stdout",
          "text": [
            "Mounted at /content/drive\n"
          ]
        }
      ]
    },
    {
      "cell_type": "code",
      "source": [
        "!unzip /content/drive/MyDrive/stocks.zip"
      ],
      "metadata": {
        "id": "KlVyXkxp-Khb"
      },
      "execution_count": null,
      "outputs": []
    },
    {
      "cell_type": "code",
      "source": [
        "df = pd.read_csv('/content/stocks/2018/01/02/stocks.csv')\n",
        "df.head()"
      ],
      "metadata": {
        "colab": {
          "base_uri": "https://localhost:8080/",
          "height": 204
        },
        "id": "peLB2-LN-KWp",
        "outputId": "d334f233-ada4-4c7d-e3fc-8a79d1b5e1bf"
      },
      "execution_count": 9,
      "outputs": [
        {
          "output_type": "execute_result",
          "data": {
            "text/plain": [
              "         Date       Open       High        Low      Close  Adj Close  \\\n",
              "0  2018-01-02  67.419998  67.889999  67.339996  67.599998  66.243683   \n",
              "1  2018-01-02  54.060001  55.220001  53.910000  55.169998  55.169998   \n",
              "2  2018-01-02  52.330002  53.099998  51.900002  52.990002  51.647556   \n",
              "3  2018-01-02  81.599998  81.599998  81.599998  81.599998  81.599998   \n",
              "4  2018-01-02   3.460000   3.460000   3.250000   3.250000   3.204487   \n",
              "\n",
              "      Volume stock  \n",
              "0  1047800.0     A  \n",
              "1  2928900.0    AA  \n",
              "2  4084700.0   AAL  \n",
              "3        0.0  AAMC  \n",
              "4     2300.0  AAME  "
            ],
            "text/html": [
              "\n",
              "\n",
              "  <div id=\"df-cd3344d1-1d57-4522-b3b0-3d9c679a4f97\">\n",
              "    <div class=\"colab-df-container\">\n",
              "      <div>\n",
              "<style scoped>\n",
              "    .dataframe tbody tr th:only-of-type {\n",
              "        vertical-align: middle;\n",
              "    }\n",
              "\n",
              "    .dataframe tbody tr th {\n",
              "        vertical-align: top;\n",
              "    }\n",
              "\n",
              "    .dataframe thead th {\n",
              "        text-align: right;\n",
              "    }\n",
              "</style>\n",
              "<table border=\"1\" class=\"dataframe\">\n",
              "  <thead>\n",
              "    <tr style=\"text-align: right;\">\n",
              "      <th></th>\n",
              "      <th>Date</th>\n",
              "      <th>Open</th>\n",
              "      <th>High</th>\n",
              "      <th>Low</th>\n",
              "      <th>Close</th>\n",
              "      <th>Adj Close</th>\n",
              "      <th>Volume</th>\n",
              "      <th>stock</th>\n",
              "    </tr>\n",
              "  </thead>\n",
              "  <tbody>\n",
              "    <tr>\n",
              "      <th>0</th>\n",
              "      <td>2018-01-02</td>\n",
              "      <td>67.419998</td>\n",
              "      <td>67.889999</td>\n",
              "      <td>67.339996</td>\n",
              "      <td>67.599998</td>\n",
              "      <td>66.243683</td>\n",
              "      <td>1047800.0</td>\n",
              "      <td>A</td>\n",
              "    </tr>\n",
              "    <tr>\n",
              "      <th>1</th>\n",
              "      <td>2018-01-02</td>\n",
              "      <td>54.060001</td>\n",
              "      <td>55.220001</td>\n",
              "      <td>53.910000</td>\n",
              "      <td>55.169998</td>\n",
              "      <td>55.169998</td>\n",
              "      <td>2928900.0</td>\n",
              "      <td>AA</td>\n",
              "    </tr>\n",
              "    <tr>\n",
              "      <th>2</th>\n",
              "      <td>2018-01-02</td>\n",
              "      <td>52.330002</td>\n",
              "      <td>53.099998</td>\n",
              "      <td>51.900002</td>\n",
              "      <td>52.990002</td>\n",
              "      <td>51.647556</td>\n",
              "      <td>4084700.0</td>\n",
              "      <td>AAL</td>\n",
              "    </tr>\n",
              "    <tr>\n",
              "      <th>3</th>\n",
              "      <td>2018-01-02</td>\n",
              "      <td>81.599998</td>\n",
              "      <td>81.599998</td>\n",
              "      <td>81.599998</td>\n",
              "      <td>81.599998</td>\n",
              "      <td>81.599998</td>\n",
              "      <td>0.0</td>\n",
              "      <td>AAMC</td>\n",
              "    </tr>\n",
              "    <tr>\n",
              "      <th>4</th>\n",
              "      <td>2018-01-02</td>\n",
              "      <td>3.460000</td>\n",
              "      <td>3.460000</td>\n",
              "      <td>3.250000</td>\n",
              "      <td>3.250000</td>\n",
              "      <td>3.204487</td>\n",
              "      <td>2300.0</td>\n",
              "      <td>AAME</td>\n",
              "    </tr>\n",
              "  </tbody>\n",
              "</table>\n",
              "</div>\n",
              "      <button class=\"colab-df-convert\" onclick=\"convertToInteractive('df-cd3344d1-1d57-4522-b3b0-3d9c679a4f97')\"\n",
              "              title=\"Convert this dataframe to an interactive table.\"\n",
              "              style=\"display:none;\">\n",
              "\n",
              "  <svg xmlns=\"http://www.w3.org/2000/svg\" height=\"24px\"viewBox=\"0 0 24 24\"\n",
              "       width=\"24px\">\n",
              "    <path d=\"M0 0h24v24H0V0z\" fill=\"none\"/>\n",
              "    <path d=\"M18.56 5.44l.94 2.06.94-2.06 2.06-.94-2.06-.94-.94-2.06-.94 2.06-2.06.94zm-11 1L8.5 8.5l.94-2.06 2.06-.94-2.06-.94L8.5 2.5l-.94 2.06-2.06.94zm10 10l.94 2.06.94-2.06 2.06-.94-2.06-.94-.94-2.06-.94 2.06-2.06.94z\"/><path d=\"M17.41 7.96l-1.37-1.37c-.4-.4-.92-.59-1.43-.59-.52 0-1.04.2-1.43.59L10.3 9.45l-7.72 7.72c-.78.78-.78 2.05 0 2.83L4 21.41c.39.39.9.59 1.41.59.51 0 1.02-.2 1.41-.59l7.78-7.78 2.81-2.81c.8-.78.8-2.07 0-2.86zM5.41 20L4 18.59l7.72-7.72 1.47 1.35L5.41 20z\"/>\n",
              "  </svg>\n",
              "      </button>\n",
              "\n",
              "\n",
              "\n",
              "    <div id=\"df-42b46586-5a50-4247-afcc-f1b680c74206\">\n",
              "      <button class=\"colab-df-quickchart\" onclick=\"quickchart('df-42b46586-5a50-4247-afcc-f1b680c74206')\"\n",
              "              title=\"Suggest charts.\"\n",
              "              style=\"display:none;\">\n",
              "\n",
              "<svg xmlns=\"http://www.w3.org/2000/svg\" height=\"24px\"viewBox=\"0 0 24 24\"\n",
              "     width=\"24px\">\n",
              "    <g>\n",
              "        <path d=\"M19 3H5c-1.1 0-2 .9-2 2v14c0 1.1.9 2 2 2h14c1.1 0 2-.9 2-2V5c0-1.1-.9-2-2-2zM9 17H7v-7h2v7zm4 0h-2V7h2v10zm4 0h-2v-4h2v4z\"/>\n",
              "    </g>\n",
              "</svg>\n",
              "      </button>\n",
              "    </div>\n",
              "\n",
              "<style>\n",
              "  .colab-df-quickchart {\n",
              "    background-color: #E8F0FE;\n",
              "    border: none;\n",
              "    border-radius: 50%;\n",
              "    cursor: pointer;\n",
              "    display: none;\n",
              "    fill: #1967D2;\n",
              "    height: 32px;\n",
              "    padding: 0 0 0 0;\n",
              "    width: 32px;\n",
              "  }\n",
              "\n",
              "  .colab-df-quickchart:hover {\n",
              "    background-color: #E2EBFA;\n",
              "    box-shadow: 0px 1px 2px rgba(60, 64, 67, 0.3), 0px 1px 3px 1px rgba(60, 64, 67, 0.15);\n",
              "    fill: #174EA6;\n",
              "  }\n",
              "\n",
              "  [theme=dark] .colab-df-quickchart {\n",
              "    background-color: #3B4455;\n",
              "    fill: #D2E3FC;\n",
              "  }\n",
              "\n",
              "  [theme=dark] .colab-df-quickchart:hover {\n",
              "    background-color: #434B5C;\n",
              "    box-shadow: 0px 1px 3px 1px rgba(0, 0, 0, 0.15);\n",
              "    filter: drop-shadow(0px 1px 2px rgba(0, 0, 0, 0.3));\n",
              "    fill: #FFFFFF;\n",
              "  }\n",
              "</style>\n",
              "\n",
              "    <script>\n",
              "      async function quickchart(key) {\n",
              "        const containerElement = document.querySelector('#' + key);\n",
              "        const charts = await google.colab.kernel.invokeFunction(\n",
              "            'suggestCharts', [key], {});\n",
              "      }\n",
              "    </script>\n",
              "\n",
              "      <script>\n",
              "\n",
              "function displayQuickchartButton(domScope) {\n",
              "  let quickchartButtonEl =\n",
              "    domScope.querySelector('#df-42b46586-5a50-4247-afcc-f1b680c74206 button.colab-df-quickchart');\n",
              "  quickchartButtonEl.style.display =\n",
              "    google.colab.kernel.accessAllowed ? 'block' : 'none';\n",
              "}\n",
              "\n",
              "        displayQuickchartButton(document);\n",
              "      </script>\n",
              "      <style>\n",
              "    .colab-df-container {\n",
              "      display:flex;\n",
              "      flex-wrap:wrap;\n",
              "      gap: 12px;\n",
              "    }\n",
              "\n",
              "    .colab-df-convert {\n",
              "      background-color: #E8F0FE;\n",
              "      border: none;\n",
              "      border-radius: 50%;\n",
              "      cursor: pointer;\n",
              "      display: none;\n",
              "      fill: #1967D2;\n",
              "      height: 32px;\n",
              "      padding: 0 0 0 0;\n",
              "      width: 32px;\n",
              "    }\n",
              "\n",
              "    .colab-df-convert:hover {\n",
              "      background-color: #E2EBFA;\n",
              "      box-shadow: 0px 1px 2px rgba(60, 64, 67, 0.3), 0px 1px 3px 1px rgba(60, 64, 67, 0.15);\n",
              "      fill: #174EA6;\n",
              "    }\n",
              "\n",
              "    [theme=dark] .colab-df-convert {\n",
              "      background-color: #3B4455;\n",
              "      fill: #D2E3FC;\n",
              "    }\n",
              "\n",
              "    [theme=dark] .colab-df-convert:hover {\n",
              "      background-color: #434B5C;\n",
              "      box-shadow: 0px 1px 3px 1px rgba(0, 0, 0, 0.15);\n",
              "      filter: drop-shadow(0px 1px 2px rgba(0, 0, 0, 0.3));\n",
              "      fill: #FFFFFF;\n",
              "    }\n",
              "  </style>\n",
              "\n",
              "      <script>\n",
              "        const buttonEl =\n",
              "          document.querySelector('#df-cd3344d1-1d57-4522-b3b0-3d9c679a4f97 button.colab-df-convert');\n",
              "        buttonEl.style.display =\n",
              "          google.colab.kernel.accessAllowed ? 'block' : 'none';\n",
              "\n",
              "        async function convertToInteractive(key) {\n",
              "          const element = document.querySelector('#df-cd3344d1-1d57-4522-b3b0-3d9c679a4f97');\n",
              "          const dataTable =\n",
              "            await google.colab.kernel.invokeFunction('convertToInteractive',\n",
              "                                                     [key], {});\n",
              "          if (!dataTable) return;\n",
              "\n",
              "          const docLinkHtml = 'Like what you see? Visit the ' +\n",
              "            '<a target=\"_blank\" href=https://colab.research.google.com/notebooks/data_table.ipynb>data table notebook</a>'\n",
              "            + ' to learn more about interactive tables.';\n",
              "          element.innerHTML = '';\n",
              "          dataTable['output_type'] = 'display_data';\n",
              "          await google.colab.output.renderOutput(dataTable, element);\n",
              "          const docLink = document.createElement('div');\n",
              "          docLink.innerHTML = docLinkHtml;\n",
              "          element.appendChild(docLink);\n",
              "        }\n",
              "      </script>\n",
              "    </div>\n",
              "  </div>\n"
            ]
          },
          "metadata": {},
          "execution_count": 9
        }
      ]
    },
    {
      "cell_type": "code",
      "source": [
        "df.info()"
      ],
      "metadata": {
        "colab": {
          "base_uri": "https://localhost:8080/"
        },
        "id": "GBJablNP-KM-",
        "outputId": "dd9610c1-a9ab-4831-8d24-535cd1167f32"
      },
      "execution_count": 10,
      "outputs": [
        {
          "output_type": "stream",
          "name": "stdout",
          "text": [
            "<class 'pandas.core.frame.DataFrame'>\n",
            "RangeIndex: 5076 entries, 0 to 5075\n",
            "Data columns (total 8 columns):\n",
            " #   Column     Non-Null Count  Dtype  \n",
            "---  ------     --------------  -----  \n",
            " 0   Date       5076 non-null   object \n",
            " 1   Open       5076 non-null   float64\n",
            " 2   High       5076 non-null   float64\n",
            " 3   Low        5076 non-null   float64\n",
            " 4   Close      5076 non-null   float64\n",
            " 5   Adj Close  5076 non-null   float64\n",
            " 6   Volume     5076 non-null   float64\n",
            " 7   stock      5076 non-null   object \n",
            "dtypes: float64(6), object(2)\n",
            "memory usage: 317.4+ KB\n"
          ]
        }
      ]
    },
    {
      "cell_type": "markdown",
      "metadata": {
        "id": "7rUf8WIStaSb"
      },
      "source": [
        "## Read CSV files\n",
        "\n",
        "When working with big data, it is often not tenable to keep processing an entire data batch when you are in the process of development - this can be quite time-consuming. If the data is uniform, it is sufficient to work with a smaller subset to create basic functionality. Your manager has identified the year **1962** to perform the initial testing for data ingestion.\n",
        "\n",
        "> ℹ️ **Instructions** ℹ️\n",
        ">\n",
        ">Read in the data for **1962** using a data schema that purely uses string data types. You will be required to convert to the appropriate data types at a later stage.\n",
        ">\n",
        ">*You may use as many coding cells as necessary.*"
      ]
    },
    {
      "cell_type": "code",
      "execution_count": 10,
      "metadata": {
        "id": "N9Z6aymutaSc"
      },
      "outputs": [],
      "source": [
        "df_spark = spark.read.csv('/content/stocks/1962/*/*/stocks.csv', header=True)"
      ]
    },
    {
      "cell_type": "code",
      "source": [
        "df_spark.printSchema()\n",
        "\n",
        "print('\\n')\n",
        "print('df_spark_size')\n",
        "print((df_spark.count(),len(df_spark.columns)))\n",
        "\n"
      ],
      "metadata": {
        "colab": {
          "base_uri": "https://localhost:8080/"
        },
        "id": "IIV9IrF_AtC0",
        "outputId": "fa8c6314-b701-401d-b4f8-334d5fc6e568"
      },
      "execution_count": 22,
      "outputs": [
        {
          "output_type": "stream",
          "name": "stdout",
          "text": [
            "root\n",
            " |-- Date: string (nullable = true)\n",
            " |-- Open: string (nullable = true)\n",
            " |-- High: string (nullable = true)\n",
            " |-- Low: string (nullable = true)\n",
            " |-- Close: string (nullable = true)\n",
            " |-- Adj Close: string (nullable = true)\n",
            " |-- Volume: string (nullable = true)\n",
            " |-- stock: string (nullable = true)\n",
            "\n",
            "\n",
            "\n",
            "df_spark_size\n",
            "(5106, 8)\n"
          ]
        }
      ]
    },
    {
      "cell_type": "code",
      "source": [
        "df_spark.show(5)"
      ],
      "metadata": {
        "colab": {
          "base_uri": "https://localhost:8080/"
        },
        "id": "3AKQEV3GAs_H",
        "outputId": "28e00a15-c3ec-42ed-b1bf-1a11ca31b089"
      },
      "execution_count": 18,
      "outputs": [
        {
          "output_type": "stream",
          "name": "stdout",
          "text": [
            "+----------+------------------+------------------+------------------+------------------+------------------+--------+-----+\n",
            "|      Date|              Open|              High|               Low|             Close|         Adj Close|  Volume|stock|\n",
            "+----------+------------------+------------------+------------------+------------------+------------------+--------+-----+\n",
            "|1962-02-19| 5.839290142059326| 5.907374858856201| 5.839290142059326| 5.863319873809815|1.3863292932510376| 29900.0|   AA|\n",
            "|1962-02-19| 5.481634140014648|5.5284857749938965| 5.481634140014648| 5.516772747039795|1.2804527282714844| 32000.0| ARNC|\n",
            "|1962-02-19|0.9074074029922484|0.9156378507614136|0.8991769552230835| 0.903292179107666|0.1614154428243637|619400.0|   BA|\n",
            "|1962-02-19|1.6770833730697632|1.6927083730697632|1.6614583730697632|1.6770833730697632|0.1440587043762207|170400.0|  CAT|\n",
            "|1962-02-19|               0.0|3.5788691043853764|              20.0| 3.549107074737549|0.0565012246370315|273600.0|  CVX|\n",
            "+----------+------------------+------------------+------------------+------------------+------------------+--------+-----+\n",
            "only showing top 5 rows\n",
            "\n"
          ]
        }
      ]
    },
    {
      "cell_type": "markdown",
      "metadata": {
        "id": "a5-aEu1YtaSc"
      },
      "source": [
        "## Update column names\n",
        "To make the data easier to work with, you will need to make a few changes:\n",
        "1. Column headers should all be in lowercase; and\n",
        "2. Whitespaces should be replaced with underscores.\n",
        "\n",
        "\n",
        "> ℹ️ **Instructions** ℹ️\n",
        ">\n",
        ">Make sure that the column headers are all in lowercase and that any whitespaces are replaced with underscores.\n",
        ">\n",
        ">*You may use as many coding cells as necessary.*"
      ]
    },
    {
      "cell_type": "code",
      "source": [
        "for column in df.columns:\n",
        "  df_spark = df_spark.withColumnRenamed(column,column.lower().replace(' ','_'))\n",
        "  #df_spark = df_spark.withColumnRenamed(column, '_'.join(column.split()).lower())\n",
        "\n",
        "df_spark.show(3)"
      ],
      "metadata": {
        "colab": {
          "base_uri": "https://localhost:8080/"
        },
        "id": "YMdluNSODYgF",
        "outputId": "9fe3266c-6e73-4b81-b869-ef9219f4f151"
      },
      "execution_count": 11,
      "outputs": [
        {
          "output_type": "stream",
          "name": "stdout",
          "text": [
            "+----------+------------------+------------------+------------------+-----------------+------------------+--------+-----+\n",
            "|      date|              open|              high|               low|            close|         adj_close|  volume|stock|\n",
            "+----------+------------------+------------------+------------------+-----------------+------------------+--------+-----+\n",
            "|1962-02-19| 5.839290142059326| 5.907374858856201| 5.839290142059326|5.863319873809815|1.3863292932510376| 29900.0|   AA|\n",
            "|1962-02-19| 5.481634140014648|5.5284857749938965| 5.481634140014648|5.516772747039795|1.2804527282714844| 32000.0| ARNC|\n",
            "|1962-02-19|0.9074074029922484|0.9156378507614136|0.8991769552230835|0.903292179107666|0.1614154428243637|619400.0|   BA|\n",
            "+----------+------------------+------------------+------------------+-----------------+------------------+--------+-----+\n",
            "only showing top 3 rows\n",
            "\n"
          ]
        }
      ]
    },
    {
      "cell_type": "markdown",
      "metadata": {
        "id": "NcpoGhaUtaSc"
      },
      "source": [
        "## Null Values\n",
        "Null values often represent missing pieces of data. It is always good to know where your null values lie - so you can quickly identify and remedy any issues stemming from these.\n",
        "\n",
        "> ℹ️ **Instructions** ℹ️\n",
        ">\n",
        ">Write code to count the number of null values found in each column.\n",
        ">\n",
        ">*You may use as many coding cells as necessary.*"
      ]
    },
    {
      "cell_type": "code",
      "source": [
        "from pyspark.sql.functions import col, isnan, when, count"
      ],
      "metadata": {
        "id": "7XXUBqkUYARf"
      },
      "execution_count": 13,
      "outputs": []
    },
    {
      "cell_type": "code",
      "source": [
        "new_df = df_spark.select([count(when(col(c).contains('None') | col(c).contains('NULL')| col(c).isNull() | (col(c) == ''),c)).alias (c)\n",
        "for c in df_spark.columns])\n",
        "new_df.show(3)"
      ],
      "metadata": {
        "colab": {
          "base_uri": "https://localhost:8080/"
        },
        "id": "VXXHS4QSeugL",
        "outputId": "43e4cbf8-f976-4cd7-d0e9-05f12be59a2e"
      },
      "execution_count": 35,
      "outputs": [
        {
          "output_type": "stream",
          "name": "stdout",
          "text": [
            "+----+----+----+---+-----+---------+------+-----+\n",
            "|date|open|high|low|close|adj_close|volume|stock|\n",
            "+----+----+----+---+-----+---------+------+-----+\n",
            "|   0|   0|   0| 22|    0|        0|    21|    0|\n",
            "+----+----+----+---+-----+---------+------+-----+\n",
            "\n"
          ]
        }
      ]
    },
    {
      "cell_type": "markdown",
      "metadata": {
        "id": "NvdYZzqztaSc"
      },
      "source": [
        "## Data type conversion - The final data schema\n",
        "\n",
        "Now that we have identified the number of missing values in the data set, we'll move on to convert our data schema to the required data types.\n",
        "\n",
        "> ℹ️ **Instructions** ℹ️\n",
        ">\n",
        ">Use typecasting to convert the string data types in your current data schema to more appropriate data types.\n",
        ">\n",
        ">*You may use as many coding cells as necessary.*"
      ]
    },
    {
      "cell_type": "code",
      "execution_count": 37,
      "metadata": {
        "id": "ahxBOJ38taSc"
      },
      "outputs": [],
      "source": [
        "from pyspark.sql.types import StructField,StructType,StringType,FloatType\n",
        "\n",
        "df_spark = df_spark.withColumn('date',F.to_timestamp(F.col('date'))) \\\n",
        "  .withColumn('open',col('open').cast(FloatType())) \\\n",
        "  .withColumn('high',col('high').cast(FloatType())) \\\n",
        "  .withColumn('low',col('low').cast(FloatType())) \\\n",
        "  .withColumn('close',col('close').cast(FloatType())) \\\n",
        "  .withColumn('adj_close',col('adj_close').cast(FloatType())) \\\n",
        "  .withColumn('volume',col('volume').cast(FloatType())) \\\n",
        "  .withColumn('stock',col('stock').cast(StringType()))"
      ]
    },
    {
      "cell_type": "code",
      "source": [
        "# confirming the changed schema\n",
        "\n",
        "df_spark.printSchema()"
      ],
      "metadata": {
        "colab": {
          "base_uri": "https://localhost:8080/"
        },
        "id": "hUIQxyFIro5a",
        "outputId": "92459e5a-5c4d-45c9-ad89-2e5675436dae"
      },
      "execution_count": 38,
      "outputs": [
        {
          "output_type": "stream",
          "name": "stdout",
          "text": [
            "root\n",
            " |-- date: timestamp (nullable = true)\n",
            " |-- open: float (nullable = true)\n",
            " |-- high: float (nullable = true)\n",
            " |-- low: float (nullable = true)\n",
            " |-- close: float (nullable = true)\n",
            " |-- adj_close: float (nullable = true)\n",
            " |-- volume: float (nullable = true)\n",
            " |-- stock: string (nullable = true)\n",
            "\n"
          ]
        }
      ]
    },
    {
      "cell_type": "markdown",
      "metadata": {
        "id": "KCpbsxBftaSd"
      },
      "source": [
        "## Consolidate missing values\n",
        "We have to check if the data type conversion above was done correctly.\n",
        "If the casting was not successful, a null value gets inserted into the dataframe. You can thus check for successful conversion by determining if any null values are included in the resulting dataframe.\n",
        "\n",
        "\n",
        "> ℹ️ **Instructions** ℹ️\n",
        ">\n",
        ">Write code to compare the number of invalid entries (nulls) pre-conversion and post-conversion.\n",
        ">\n",
        ">*You may use as many coding cells as necessary.*"
      ]
    },
    {
      "cell_type": "code",
      "source": [
        "new_count = df_spark.select([count(when ((col(c) == '')| col(c).isNull() | col(c).contains('None') | col(c).contains('NULL'),c)).alias(c)\n",
        "  for c in df_spark.columns])\n",
        "new_count.show()\n",
        "\n",
        "# seems like we have ore missing values in low"
      ],
      "metadata": {
        "colab": {
          "base_uri": "https://localhost:8080/"
        },
        "id": "hi48XAMYtpjj",
        "outputId": "e73e5575-a2b8-4814-92f5-2abaab4300f6"
      },
      "execution_count": 41,
      "outputs": [
        {
          "output_type": "stream",
          "name": "stdout",
          "text": [
            "+----+----+----+---+-----+---------+------+-----+\n",
            "|date|open|high|low|close|adj_close|volume|stock|\n",
            "+----+----+----+---+-----+---------+------+-----+\n",
            "|   0|   0|   0| 42|    0|       21|    21|    0|\n",
            "+----+----+----+---+-----+---------+------+-----+\n",
            "\n"
          ]
        }
      ]
    },
    {
      "cell_type": "markdown",
      "metadata": {
        "id": "kr91rh69taSd"
      },
      "source": [
        "Here you should be able to see if any of your casts went wrong.\n",
        "Do not attempt to correct any missing values at this point. This will be dealt with in later sections of the predict."
      ]
    },
    {
      "cell_type": "markdown",
      "metadata": {
        "id": "gWjFVh7KtaSd"
      },
      "source": [
        "## Generate parquet files\n",
        "When writing in Spark, we typically use parquet format. This format allows parallel writing using Spark's optimisation while maintaining other useful things like metadata.\n",
        "\n",
        "When writing, it is good to make sure that the data is sufficiently partitioned.\n",
        "\n",
        "Generally, data should be partitioned with one partition for every 200MB of data, but this also depends on the size of your cluster and executors.\n"
      ]
    },
    {
      "cell_type": "markdown",
      "metadata": {
        "id": "D-0NtK2VtaSd"
      },
      "source": [
        "### Check the size of the dataframe before partitioning"
      ]
    },
    {
      "cell_type": "code",
      "execution_count": 44,
      "metadata": {
        "id": "ov0vyGxQtaSd"
      },
      "outputs": [],
      "source": [
        "from pyspark.serializers import PickleSerializer, AutoBatchedSerializer"
      ]
    },
    {
      "cell_type": "code",
      "execution_count": 45,
      "metadata": {
        "id": "b73j8qxitaSd",
        "colab": {
          "base_uri": "https://localhost:8080/"
        },
        "outputId": "a5e6497d-24ed-44b5-b8fc-4b8984a352c2"
      },
      "outputs": [
        {
          "output_type": "stream",
          "name": "stdout",
          "text": [
            "The dataframe is 7.410488 MB\n"
          ]
        }
      ],
      "source": [
        "rdd = df_spark.rdd._reserialize(AutoBatchedSerializer(PickleSerializer()))\n",
        "obj = rdd.ctx._jvm.org.apache.spark.mllib.api.python.SerDe.pythonToJava(rdd._jrdd, True)\n",
        "size = sc._jvm.org.apache.spark.util.SizeEstimator.estimate(obj)\n",
        "size_MB = size/1000000\n",
        "partitions = max(int(size_MB/200), 2)\n",
        "print(f'The dataframe is {size_MB} MB')"
      ]
    },
    {
      "cell_type": "code",
      "source": [
        "partitions"
      ],
      "metadata": {
        "colab": {
          "base_uri": "https://localhost:8080/"
        },
        "id": "mYLQEou9zNLH",
        "outputId": "87c35783-18c6-450b-e8fc-924069db487d"
      },
      "execution_count": 46,
      "outputs": [
        {
          "output_type": "execute_result",
          "data": {
            "text/plain": [
              "2"
            ]
          },
          "metadata": {},
          "execution_count": 46
        }
      ]
    },
    {
      "cell_type": "markdown",
      "metadata": {
        "id": "vm1xDzUmtaSd"
      },
      "source": [
        "### Write parquet files to the local directory\n",
        "> ℹ️ **Instructions** ℹ️\n",
        ">\n",
        "> Use the **coalesce** function and the number of **partitions** derived above to write parquet files to your local directory\n",
        ">\n",
        ">*You may use as many coding cells as necessary.*"
      ]
    },
    {
      "cell_type": "code",
      "source": [
        "df_spark.coalesce(partitions).write.format('parquet').mode('append').save('/content/drive/MyDrive/nasdaq.parqeut')"
      ],
      "metadata": {
        "id": "KZXbr5DSylC9"
      },
      "execution_count": 47,
      "outputs": []
    }
  ],
  "metadata": {
    "celltoolbar": "Raw Cell Format",
    "interpreter": {
      "hash": "24a0a2ddc4dffcb168e507551dd24967ddc40ea2df7a72a200a74e0ae6d88beb"
    },
    "kernelspec": {
      "display_name": "Python 3.8.11 64-bit ('spark': conda)",
      "name": "python3"
    },
    "language_info": {
      "codemirror_mode": {
        "name": "ipython",
        "version": 3
      },
      "file_extension": ".py",
      "mimetype": "text/x-python",
      "name": "python",
      "nbconvert_exporter": "python",
      "pygments_lexer": "ipython3",
      "version": "3.8.11"
    },
    "colab": {
      "provenance": []
    }
  },
  "nbformat": 4,
  "nbformat_minor": 0
}