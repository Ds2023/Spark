{
  "cells": [
    {
      "cell_type": "markdown",
      "metadata": {
        "id": "QNVDHa6tuZdO"
      },
      "source": [
        "## Context\n",
        "\n",
        "Having completed the first step - data ingestion, the data now needs to be thoroughly prepared so that it is readable, reliable and robust. As the Data Engineer in the team, this will be your responsibility. The Data Scientists are looking to you to clean this data so that model development and deployment become seamless when the data is used in a production environment. You being a Data Engineer, your manager Gnissecorp Atadgid, asks you to create data summaries and perform checks using the six dimensions of data quality.\n",
        "\n",
        "<div align=\"center\" style=\"width: 600px; font-size: 80%; text-align: center; margin: 0 auto\">\n",
        "<img src=\"https://github.com/Explore-AI/Pictures/raw/master/data_engineering/transform/predict/DataQuality.jpg\"\n",
        "     alt=\"Data Quality\"\n",
        "     style=\"float: center; padding-bottom=0.5em\"\n",
        "     width=100%/>\n",
        "     <p><em>Figure 1. Six dimensions of data quality</em></p>\n",
        "</div>"
      ]
    },
    {
      "cell_type": "markdown",
      "metadata": {
        "id": "hkYbGZ42uZdR"
      },
      "source": [
        "## Import libraries\n",
        "Below we import the libraries required to complete this section of the predict."
      ]
    },
    {
      "cell_type": "code",
      "source": [
        "!pip install pyspark --quiet"
      ],
      "metadata": {
        "id": "XF9b0avrju21"
      },
      "execution_count": 28,
      "outputs": []
    },
    {
      "cell_type": "code",
      "execution_count": 25,
      "metadata": {
        "id": "oHfM6IXXuZdR"
      },
      "outputs": [],
      "source": [
        "import pandas as pd\n",
        "import seaborn as sns\n",
        "import numpy as np\n",
        "import matplotlib.pyplot as plt\n",
        "\n",
        "from pyspark import SparkContext\n",
        "from pyspark.sql import SparkSession\n",
        "from pyspark.sql import functions as F\n",
        "from pyspark.sql.types import *"
      ]
    },
    {
      "cell_type": "code",
      "source": [
        "from google.colab import drive\n",
        "drive.mount('/content/drive')"
      ],
      "metadata": {
        "colab": {
          "base_uri": "https://localhost:8080/"
        },
        "id": "SGVZMvMKjey5",
        "outputId": "a4a5b032-202e-4ab5-cd8e-e435491b5253"
      },
      "execution_count": 3,
      "outputs": [
        {
          "output_type": "stream",
          "name": "stdout",
          "text": [
            "Mounted at /content/drive\n"
          ]
        }
      ]
    },
    {
      "cell_type": "markdown",
      "metadata": {
        "id": "9I5Q6BdxuZdS"
      },
      "source": [
        "Remember that we need a `SparkContext` and `SparkSession` to interface with Spark.\n",
        "We will mostly be using the `SparkContext` to interact with RDDs\n",
        "and the `SparkSession` to interface with Python objects.\n",
        "\n",
        "> ℹ️ **Instructions** ℹ️\n",
        ">\n",
        ">Initialise a new **Spark Context** and **Session** that you will use to interface with Spark."
      ]
    },
    {
      "cell_type": "code",
      "execution_count": 30,
      "metadata": {
        "id": "Jpxaa1O3uZdS"
      },
      "outputs": [],
      "source": [
        "spark = SparkSession.builder.appName('data_profiling').getOrCreate()"
      ]
    },
    {
      "cell_type": "markdown",
      "metadata": {
        "id": "KdE8jdtHuZdT"
      },
      "source": [
        "## Parquet files\n",
        "In the previous section of the predict, you generated parquet files to your local directory. You will be making use of these files to continue with this section of the predict. Please make sure that your parquet files are specifically for the year **1962**. Any other year used outside of **1962** will produce incorrect answers and have a negative impact on your overall predict mark.\n",
        "\n",
        "> ℹ️ **Instructions** ℹ️\n",
        ">\n",
        "> Read the parquet files stored in your directory for the year **1962** into a Spark DataFrame."
      ]
    },
    {
      "cell_type": "code",
      "execution_count": 31,
      "metadata": {
        "id": "9Rl35JwDuZdT"
      },
      "outputs": [],
      "source": [
        "#TODO: Write your code here\n",
        "\n",
        "df = spark.read.parquet('/content/drive/MyDrive/nasdaq.parqeut')"
      ]
    },
    {
      "cell_type": "code",
      "source": [
        "df.printSchema()"
      ],
      "metadata": {
        "colab": {
          "base_uri": "https://localhost:8080/"
        },
        "id": "GSjnyvV2lLim",
        "outputId": "e207cb92-7b58-4d7a-c051-fe189a411243"
      },
      "execution_count": 7,
      "outputs": [
        {
          "output_type": "stream",
          "name": "stdout",
          "text": [
            "root\n",
            " |-- date: timestamp (nullable = true)\n",
            " |-- open: float (nullable = true)\n",
            " |-- high: float (nullable = true)\n",
            " |-- low: float (nullable = true)\n",
            " |-- close: float (nullable = true)\n",
            " |-- adj_close: float (nullable = true)\n",
            " |-- volume: float (nullable = true)\n",
            " |-- stock: string (nullable = true)\n",
            "\n"
          ]
        }
      ]
    },
    {
      "cell_type": "code",
      "source": [
        "df.show(5)"
      ],
      "metadata": {
        "colab": {
          "base_uri": "https://localhost:8080/"
        },
        "id": "KLNKBLGalPNV",
        "outputId": "0594300c-7af7-4f03-d48c-dfcc5070eb6c"
      },
      "execution_count": 33,
      "outputs": [
        {
          "output_type": "stream",
          "name": "stdout",
          "text": [
            "+-------------------+---------+----------+----------+---------+-----------+--------+-----+\n",
            "|               date|     open|      high|       low|    close|  adj_close|  volume|stock|\n",
            "+-------------------+---------+----------+----------+---------+-----------+--------+-----+\n",
            "|1962-02-19 00:00:00|  5.83929|  5.907375|   5.83929|  5.86332|  1.3863293| 29900.0|   AA|\n",
            "|1962-02-19 00:00:00| 5.481634|  5.528486|  5.481634|5.5167727|  1.2804527| 32000.0| ARNC|\n",
            "|1962-02-19 00:00:00|0.9074074|0.91563785|0.89917696|0.9032922| 0.16141544|619400.0|   BA|\n",
            "|1962-02-19 00:00:00|1.6770834| 1.6927084| 1.6614584|1.6770834|  0.1440587|170400.0|  CAT|\n",
            "|1962-02-19 00:00:00|      0.0|  3.578869|      20.0| 3.549107|0.056501225|273600.0|  CVX|\n",
            "+-------------------+---------+----------+----------+---------+-----------+--------+-----+\n",
            "only showing top 5 rows\n",
            "\n"
          ]
        }
      ]
    },
    {
      "cell_type": "code",
      "source": [
        "print('df_size')\n",
        "print((df.count(),len(df.columns)))"
      ],
      "metadata": {
        "colab": {
          "base_uri": "https://localhost:8080/"
        },
        "id": "JPB8rmcYmZai",
        "outputId": "f9080aed-6a4e-45e4-cc1d-8ee299cda14d"
      },
      "execution_count": 6,
      "outputs": [
        {
          "output_type": "stream",
          "name": "stdout",
          "text": [
            "df_size\n",
            "(5106, 8)\n"
          ]
        }
      ]
    },
    {
      "cell_type": "markdown",
      "metadata": {
        "id": "q5eYO3anuZdT"
      },
      "source": [
        "## Metadata\n",
        "\n",
        "Metadata is data containing additional information about the data itself. In the cloud storage, there is a metadata file called [`symbols_valid_meta.csv`](https://processing-big-data-predict-stocks-data.s3.eu-west-1.amazonaws.com/symbols_valid_meta.csv) that is collocated with the stock market data. You will need to download this to use when performing your data quality checks.\n",
        "\n",
        "> ℹ️ **Instructions** ℹ️\n",
        ">\n",
        "> Download the metadata from the S3 bucket and read it into a Spark DataFrame."
      ]
    },
    {
      "cell_type": "code",
      "execution_count": 32,
      "metadata": {
        "id": "yuktGgq1uZdT"
      },
      "outputs": [],
      "source": [
        "df_meta = spark.read.csv('/content/drive/MyDrive/symbols_valid_meta.csv',header=True)\n"
      ]
    },
    {
      "cell_type": "code",
      "source": [
        "df_meta.printSchema()\n",
        "print('\\n')\n",
        "print('df_meta size')\n",
        "print((df_meta.count(),len(df_meta.columns)))"
      ],
      "metadata": {
        "colab": {
          "base_uri": "https://localhost:8080/"
        },
        "id": "EQCtIxGynvbR",
        "outputId": "dcff158e-e1c3-4a6f-81ee-fb56aac15593"
      },
      "execution_count": 8,
      "outputs": [
        {
          "output_type": "stream",
          "name": "stdout",
          "text": [
            "root\n",
            " |-- Nasdaq Traded: string (nullable = true)\n",
            " |-- Symbol: string (nullable = true)\n",
            " |-- Security Name: string (nullable = true)\n",
            " |-- Listing Exchange: string (nullable = true)\n",
            " |-- Market Category: string (nullable = true)\n",
            " |-- ETF: string (nullable = true)\n",
            " |-- Round Lot Size: string (nullable = true)\n",
            " |-- Test Issue: string (nullable = true)\n",
            " |-- Financial Status: string (nullable = true)\n",
            " |-- CQS Symbol: string (nullable = true)\n",
            " |-- NASDAQ Symbol: string (nullable = true)\n",
            " |-- NextShares: string (nullable = true)\n",
            "\n",
            "\n",
            "\n",
            "df_meta size\n",
            "(8049, 12)\n"
          ]
        }
      ]
    },
    {
      "cell_type": "markdown",
      "metadata": {
        "id": "4WFeF-kduZdT"
      },
      "source": [
        "## Data Accuracy\n",
        "Data accuracy is the degree to which data correctly describes a \"real world\" object or event.\n",
        "\n",
        "It is important to do checks to determine the basic integrity of the dataset; do the values fall within expected ranges?\n",
        "\n",
        "Most of the possible errors relating to data accuracy can occur at collection time. In our case, it is not possible to test the collection time accuracy, so we have to infer from ranges and summary statistics. Here you need to look closely at each field to see if its values make sense, with no strange surprises.\n",
        "\n",
        "In assessing accuracy, it is important to look into precision as well. Do you need seven decimals, or will one or two suffice?\n",
        "\n",
        "- **Measured by**: The degree to which the data mirrors the characteristics of the real-world object or objects it represents;\n",
        "- **Units**: The percentage of data entries that pass the data accuracy rules;\n",
        "- **Related to**: Validity, Uniqueness, Consistency."
      ]
    },
    {
      "cell_type": "markdown",
      "metadata": {
        "id": "TwEUULv1uZdU"
      },
      "source": [
        "> ℹ️ **Instructions** ℹ️\n",
        ">\n",
        "> Generate summary statistics to explore your data. Make sure you understand the ranges, means, extremums, and deviations found in the data set."
      ]
    },
    {
      "cell_type": "code",
      "execution_count": 14,
      "metadata": {
        "id": "EQIlEbyVuZdU",
        "colab": {
          "base_uri": "https://localhost:8080/"
        },
        "outputId": "b720b335-13b2-43ee-f6b1-bb4cdaa80e21"
      },
      "outputs": [
        {
          "output_type": "stream",
          "name": "stdout",
          "text": [
            "+-------+------------------+------------------+------------------+-----------------+-----------------+-----------------+\n",
            "|summary|              open|              high|               low|            close|        adj_close|           volume|\n",
            "+-------+------------------+------------------+------------------+-----------------+-----------------+-----------------+\n",
            "|  count|              5106|              5106|              5064|             5106|             5085|             5085|\n",
            "|   mean|1.0904873526012002|16.757624946793637|15.728619917198033|16.64199179044607|5.986642513535306|540930.2458210423|\n",
            "| stddev|  2.36445352530491| 53.91407348193546| 51.32292289814399|53.54677139900802|24.64637054715319|864596.2440525505|\n",
            "|    min|               0.0|               0.0|       0.052377883|      0.053624976|     4.0381454E-7|              0.0|\n",
            "|    max|              20.0|             287.5|             282.5|            285.0|        127.45936|        1.95456E7|\n",
            "+-------+------------------+------------------+------------------+-----------------+-----------------+-----------------+\n",
            "\n"
          ]
        }
      ],
      "source": [
        "#TODO: Write your code here\n",
        "\n",
        "# allows us to pass desired fields\n",
        "df_stats = df.describe('open','high','low','close','adj_close','volume')\n",
        "df_stats.show()"
      ]
    },
    {
      "cell_type": "code",
      "source": [
        "# allows you to pass in a particlur statistic as well ie mean etc\n",
        "df2_stats = df.summary()\n",
        "df2_stats.show()"
      ],
      "metadata": {
        "colab": {
          "base_uri": "https://localhost:8080/"
        },
        "id": "MG4arxJUdUB7",
        "outputId": "742d17c8-4ea1-477b-c671-1a32b893aeea"
      },
      "execution_count": 15,
      "outputs": [
        {
          "output_type": "stream",
          "name": "stdout",
          "text": [
            "+-------+------------------+------------------+------------------+-----------------+-----------------+-----------------+-----+\n",
            "|summary|              open|              high|               low|            close|        adj_close|           volume|stock|\n",
            "+-------+------------------+------------------+------------------+-----------------+-----------------+-----------------+-----+\n",
            "|  count|              5106|              5106|              5064|             5106|             5085|             5085| 5106|\n",
            "|   mean|1.0904873526012002|16.757624946793637|15.728619917198033|16.64199179044607|5.986642513535306|540930.2458210423| null|\n",
            "| stddev|  2.36445352530491| 53.91407348193546| 51.32292289814399|53.54677139900802|24.64637054715319|864596.2440525505| null|\n",
            "|    min|               0.0|               0.0|       0.052377883|      0.053624976|     4.0381454E-7|              0.0|   AA|\n",
            "|    25%|               0.0|         0.2454427|        0.24348958|       0.24739583|      0.006592116|          38400.0| null|\n",
            "|    50%|               0.0|         1.8046875|         1.7851562|        1.8007812|       0.12449309|         177600.0| null|\n",
            "|    75%|        0.69547325|          6.903353|         6.7916665|        6.8333335|        0.7141595|         734400.0| null|\n",
            "|    max|              20.0|             287.5|             282.5|            285.0|        127.45936|        1.95456E7|  XOM|\n",
            "+-------+------------------+------------------+------------------+-----------------+-----------------+-----------------+-----+\n",
            "\n"
          ]
        }
      ]
    },
    {
      "cell_type": "markdown",
      "metadata": {
        "id": "hJ9JDGncuZdU"
      },
      "source": [
        "> ℹ️ **Instructions** ℹ️\n",
        ">\n",
        "> Generate histograms for the six numerical attributes found in the data to understand the distribution of values.\n",
        ">\n",
        ">*You may use as many coding cells as necessary.*"
      ]
    },
    {
      "cell_type": "code",
      "source": [
        "df.select(\"close\").rdd.flatMap(lambda x: x).histogram(10)"
      ],
      "metadata": {
        "colab": {
          "base_uri": "https://localhost:8080/"
        },
        "id": "tiOuw2tf7XbR",
        "outputId": "45ff1b34-962f-48ec-fbdb-9ea2c12003a9"
      },
      "execution_count": 68,
      "outputs": [
        {
          "output_type": "execute_result",
          "data": {
            "text/plain": [
              "([0.05362497642636299,\n",
              "  28.548262478783727,\n",
              "  57.04289998114109,\n",
              "  85.53753748349845,\n",
              "  114.03217498585582,\n",
              "  142.52681248821318,\n",
              "  171.02144999057055,\n",
              "  199.5160874929279,\n",
              "  228.01072499528527,\n",
              "  256.50536249764264,\n",
              "  285.0],\n",
              " [4696, 158, 0, 0, 0, 0, 0, 23, 133, 96])"
            ]
          },
          "metadata": {},
          "execution_count": 68
        }
      ]
    },
    {
      "cell_type": "code",
      "source": [
        "bins,count = df.select(\"close\").rdd.flatMap(lambda x: x).histogram(10)"
      ],
      "metadata": {
        "id": "nJtpn5TWBztY"
      },
      "execution_count": 78,
      "outputs": []
    },
    {
      "cell_type": "code",
      "source": [
        "plt.hist(bins[:-1],weights=count)\n",
        "plt.show()"
      ],
      "metadata": {
        "colab": {
          "base_uri": "https://localhost:8080/",
          "height": 430
        },
        "id": "uH7og9ihGzF8",
        "outputId": "ab6da63c-c557-4bf3-ecff-9dd21810d0cc"
      },
      "execution_count": 79,
      "outputs": [
        {
          "output_type": "display_data",
          "data": {
            "text/plain": [
              "<Figure size 640x480 with 1 Axes>"
            ],
            "image/png": "[encoded data removed]"
          },
          "metadata": {}
        }
      ]
    },
    {
      "cell_type": "code",
      "source": [
        "parquet_pandas_df = df.toPandas()\n",
        "parquet_pandas_df.head(5)"
      ],
      "metadata": {
        "colab": {
          "base_uri": "https://localhost:8080/",
          "height": 204
        },
        "id": "kKXZOGa1qMyl",
        "outputId": "5e94c09a-9ff9-4bbd-d180-bea3b809ee4e"
      },
      "execution_count": 49,
      "outputs": [
        {
          "output_type": "execute_result",
          "data": {
            "text/plain": [
              "        date      open      high        low     close  adj_close    volume  \\\n",
              "0 1962-02-19  5.839290  5.907375   5.839290  5.863320   1.386329   29900.0   \n",
              "1 1962-02-19  5.481634  5.528486   5.481634  5.516773   1.280453   32000.0   \n",
              "2 1962-02-19  0.907407  0.915638   0.899177  0.903292   0.161415  619400.0   \n",
              "3 1962-02-19  1.677083  1.692708   1.661458  1.677083   0.144059  170400.0   \n",
              "4 1962-02-19  0.000000  3.578869  20.000000  3.549107   0.056501  273600.0   \n",
              "\n",
              "  stock  \n",
              "0    AA  \n",
              "1  ARNC  \n",
              "2    BA  \n",
              "3   CAT  \n",
              "4   CVX  "
            ],
            "text/html": [
              "\n",
              "\n",
              "  <div id=\"df-f4f4199b-764c-4dc1-b0bb-b36e01a83bed\">\n",
              "    <div class=\"colab-df-container\">\n",
              "      <div>\n",
              "<style scoped>\n",
              "    .dataframe tbody tr th:only-of-type {\n",
              "        vertical-align: middle;\n",
              "    }\n",
              "\n",
              "    .dataframe tbody tr th {\n",
              "        vertical-align: top;\n",
              "    }\n",
              "\n",
              "    .dataframe thead th {\n",
              "        text-align: right;\n",
              "    }\n",
              "</style>\n",
              "<table border=\"1\" class=\"dataframe\">\n",
              "  <thead>\n",
              "    <tr style=\"text-align: right;\">\n",
              "      <th></th>\n",
              "      <th>date</th>\n",
              "      <th>open</th>\n",
              "      <th>high</th>\n",
              "      <th>low</th>\n",
              "      <th>close</th>\n",
              "      <th>adj_close</th>\n",
              "      <th>volume</th>\n",
              "      <th>stock</th>\n",
              "    </tr>\n",
              "  </thead>\n",
              "  <tbody>\n",
              "    <tr>\n",
              "      <th>0</th>\n",
              "      <td>1962-02-19</td>\n",
              "      <td>5.839290</td>\n",
              "      <td>5.907375</td>\n",
              "      <td>5.839290</td>\n",
              "      <td>5.863320</td>\n",
              "      <td>1.386329</td>\n",
              "      <td>29900.0</td>\n",
              "      <td>AA</td>\n",
              "    </tr>\n",
              "    <tr>\n",
              "      <th>1</th>\n",
              "      <td>1962-02-19</td>\n",
              "      <td>5.481634</td>\n",
              "      <td>5.528486</td>\n",
              "      <td>5.481634</td>\n",
              "      <td>5.516773</td>\n",
              "      <td>1.280453</td>\n",
              "      <td>32000.0</td>\n",
              "      <td>ARNC</td>\n",
              "    </tr>\n",
              "    <tr>\n",
              "      <th>2</th>\n",
              "      <td>1962-02-19</td>\n",
              "      <td>0.907407</td>\n",
              "      <td>0.915638</td>\n",
              "      <td>0.899177</td>\n",
              "      <td>0.903292</td>\n",
              "      <td>0.161415</td>\n",
              "      <td>619400.0</td>\n",
              "      <td>BA</td>\n",
              "    </tr>\n",
              "    <tr>\n",
              "      <th>3</th>\n",
              "      <td>1962-02-19</td>\n",
              "      <td>1.677083</td>\n",
              "      <td>1.692708</td>\n",
              "      <td>1.661458</td>\n",
              "      <td>1.677083</td>\n",
              "      <td>0.144059</td>\n",
              "      <td>170400.0</td>\n",
              "      <td>CAT</td>\n",
              "    </tr>\n",
              "    <tr>\n",
              "      <th>4</th>\n",
              "      <td>1962-02-19</td>\n",
              "      <td>0.000000</td>\n",
              "      <td>3.578869</td>\n",
              "      <td>20.000000</td>\n",
              "      <td>3.549107</td>\n",
              "      <td>0.056501</td>\n",
              "      <td>273600.0</td>\n",
              "      <td>CVX</td>\n",
              "    </tr>\n",
              "  </tbody>\n",
              "</table>\n",
              "</div>\n",
              "      <button class=\"colab-df-convert\" onclick=\"convertToInteractive('df-f4f4199b-764c-4dc1-b0bb-b36e01a83bed')\"\n",
              "              title=\"Convert this dataframe to an interactive table.\"\n",
              "              style=\"display:none;\">\n",
              "\n",
              "  <svg xmlns=\"http://www.w3.org/2000/svg\" height=\"24px\"viewBox=\"0 0 24 24\"\n",
              "       width=\"24px\">\n",
              "    <path d=\"M0 0h24v24H0V0z\" fill=\"none\"/>\n",
              "    <path d=\"M18.56 5.44l.94 2.06.94-2.06 2.06-.94-2.06-.94-.94-2.06-.94 2.06-2.06.94zm-11 1L8.5 8.5l.94-2.06 2.06-.94-2.06-.94L8.5 2.5l-.94 2.06-2.06.94zm10 10l.94 2.06.94-2.06 2.06-.94-2.06-.94-.94-2.06-.94 2.06-2.06.94z\"/><path d=\"M17.41 7.96l-1.37-1.37c-.4-.4-.92-.59-1.43-.59-.52 0-1.04.2-1.43.59L10.3 9.45l-7.72 7.72c-.78.78-.78 2.05 0 2.83L4 21.41c.39.39.9.59 1.41.59.51 0 1.02-.2 1.41-.59l7.78-7.78 2.81-2.81c.8-.78.8-2.07 0-2.86zM5.41 20L4 18.59l7.72-7.72 1.47 1.35L5.41 20z\"/>\n",
              "  </svg>\n",
              "      </button>\n",
              "\n",
              "\n",
              "\n",
              "    <div id=\"df-4addeddd-92aa-4ea6-9ddb-0f15d1b01a82\">\n",
              "      <button class=\"colab-df-quickchart\" onclick=\"quickchart('df-4addeddd-92aa-4ea6-9ddb-0f15d1b01a82')\"\n",
              "              title=\"Suggest charts.\"\n",
              "              style=\"display:none;\">\n",
              "\n",
              "<svg xmlns=\"http://www.w3.org/2000/svg\" height=\"24px\"viewBox=\"0 0 24 24\"\n",
              "     width=\"24px\">\n",
              "    <g>\n",
              "        <path d=\"M19 3H5c-1.1 0-2 .9-2 2v14c0 1.1.9 2 2 2h14c1.1 0 2-.9 2-2V5c0-1.1-.9-2-2-2zM9 17H7v-7h2v7zm4 0h-2V7h2v10zm4 0h-2v-4h2v4z\"/>\n",
              "    </g>\n",
              "</svg>\n",
              "      </button>\n",
              "    </div>\n",
              "\n",
              "<style>\n",
              "  .colab-df-quickchart {\n",
              "    background-color: #E8F0FE;\n",
              "    border: none;\n",
              "    border-radius: 50%;\n",
              "    cursor: pointer;\n",
              "    display: none;\n",
              "    fill: #1967D2;\n",
              "    height: 32px;\n",
              "    padding: 0 0 0 0;\n",
              "    width: 32px;\n",
              "  }\n",
              "\n",
              "  .colab-df-quickchart:hover {\n",
              "    background-color: #E2EBFA;\n",
              "    box-shadow: 0px 1px 2px rgba(60, 64, 67, 0.3), 0px 1px 3px 1px rgba(60, 64, 67, 0.15);\n",
              "    fill: #174EA6;\n",
              "  }\n",
              "\n",
              "  [theme=dark] .colab-df-quickchart {\n",
              "    background-color: #3B4455;\n",
              "    fill: #D2E3FC;\n",
              "  }\n",
              "\n",
              "  [theme=dark] .colab-df-quickchart:hover {\n",
              "    background-color: #434B5C;\n",
              "    box-shadow: 0px 1px 3px 1px rgba(0, 0, 0, 0.15);\n",
              "    filter: drop-shadow(0px 1px 2px rgba(0, 0, 0, 0.3));\n",
              "    fill: #FFFFFF;\n",
              "  }\n",
              "</style>\n",
              "\n",
              "    <script>\n",
              "      async function quickchart(key) {\n",
              "        const containerElement = document.querySelector('#' + key);\n",
              "        const charts = await google.colab.kernel.invokeFunction(\n",
              "            'suggestCharts', [key], {});\n",
              "      }\n",
              "    </script>\n",
              "\n",
              "      <script>\n",
              "\n",
              "function displayQuickchartButton(domScope) {\n",
              "  let quickchartButtonEl =\n",
              "    domScope.querySelector('#df-4addeddd-92aa-4ea6-9ddb-0f15d1b01a82 button.colab-df-quickchart');\n",
              "  quickchartButtonEl.style.display =\n",
              "    google.colab.kernel.accessAllowed ? 'block' : 'none';\n",
              "}\n",
              "\n",
              "        displayQuickchartButton(document);\n",
              "      </script>\n",
              "      <style>\n",
              "    .colab-df-container {\n",
              "      display:flex;\n",
              "      flex-wrap:wrap;\n",
              "      gap: 12px;\n",
              "    }\n",
              "\n",
              "    .colab-df-convert {\n",
              "      background-color: #E8F0FE;\n",
              "      border: none;\n",
              "      border-radius: 50%;\n",
              "      cursor: pointer;\n",
              "      display: none;\n",
              "      fill: #1967D2;\n",
              "      height: 32px;\n",
              "      padding: 0 0 0 0;\n",
              "      width: 32px;\n",
              "    }\n",
              "\n",
              "    .colab-df-convert:hover {\n",
              "      background-color: #E2EBFA;\n",
              "      box-shadow: 0px 1px 2px rgba(60, 64, 67, 0.3), 0px 1px 3px 1px rgba(60, 64, 67, 0.15);\n",
              "      fill: #174EA6;\n",
              "    }\n",
              "\n",
              "    [theme=dark] .colab-df-convert {\n",
              "      background-color: #3B4455;\n",
              "      fill: #D2E3FC;\n",
              "    }\n",
              "\n",
              "    [theme=dark] .colab-df-convert:hover {\n",
              "      background-color: #434B5C;\n",
              "      box-shadow: 0px 1px 3px 1px rgba(0, 0, 0, 0.15);\n",
              "      filter: drop-shadow(0px 1px 2px rgba(0, 0, 0, 0.3));\n",
              "      fill: #FFFFFF;\n",
              "    }\n",
              "  </style>\n",
              "\n",
              "      <script>\n",
              "        const buttonEl =\n",
              "          document.querySelector('#df-f4f4199b-764c-4dc1-b0bb-b36e01a83bed button.colab-df-convert');\n",
              "        buttonEl.style.display =\n",
              "          google.colab.kernel.accessAllowed ? 'block' : 'none';\n",
              "\n",
              "        async function convertToInteractive(key) {\n",
              "          const element = document.querySelector('#df-f4f4199b-764c-4dc1-b0bb-b36e01a83bed');\n",
              "          const dataTable =\n",
              "            await google.colab.kernel.invokeFunction('convertToInteractive',\n",
              "                                                     [key], {});\n",
              "          if (!dataTable) return;\n",
              "\n",
              "          const docLinkHtml = 'Like what you see? Visit the ' +\n",
              "            '<a target=\"_blank\" href=https://colab.research.google.com/notebooks/data_table.ipynb>data table notebook</a>'\n",
              "            + ' to learn more about interactive tables.';\n",
              "          element.innerHTML = '';\n",
              "          dataTable['output_type'] = 'display_data';\n",
              "          await google.colab.output.renderOutput(dataTable, element);\n",
              "          const docLink = document.createElement('div');\n",
              "          docLink.innerHTML = docLinkHtml;\n",
              "          element.appendChild(docLink);\n",
              "        }\n",
              "      </script>\n",
              "    </div>\n",
              "  </div>\n"
            ]
          },
          "metadata": {},
          "execution_count": 49
        }
      ]
    },
    {
      "cell_type": "code",
      "source": [
        "viz_df = parquet_pandas_df.drop(['date','stock'],axis=1)"
      ],
      "metadata": {
        "id": "FXLy9mXEqXs3"
      },
      "execution_count": 52,
      "outputs": []
    },
    {
      "cell_type": "code",
      "source": [
        "viz_df.head()"
      ],
      "metadata": {
        "colab": {
          "base_uri": "https://localhost:8080/",
          "height": 204
        },
        "id": "3axbSTwyqqaH",
        "outputId": "5040b87c-b7cb-4836-96e2-947aea9f9502"
      },
      "execution_count": 53,
      "outputs": [
        {
          "output_type": "execute_result",
          "data": {
            "text/plain": [
              "       open      high        low     close  adj_close    volume\n",
              "0  5.839290  5.907375   5.839290  5.863320   1.386329   29900.0\n",
              "1  5.481634  5.528486   5.481634  5.516773   1.280453   32000.0\n",
              "2  0.907407  0.915638   0.899177  0.903292   0.161415  619400.0\n",
              "3  1.677083  1.692708   1.661458  1.677083   0.144059  170400.0\n",
              "4  0.000000  3.578869  20.000000  3.549107   0.056501  273600.0"
            ],
            "text/html": [
              "\n",
              "\n",
              "  <div id=\"df-bf9360da-12e2-4233-95e6-bd4f352316c9\">\n",
              "    <div class=\"colab-df-container\">\n",
              "      <div>\n",
              "<style scoped>\n",
              "    .dataframe tbody tr th:only-of-type {\n",
              "        vertical-align: middle;\n",
              "    }\n",
              "\n",
              "    .dataframe tbody tr th {\n",
              "        vertical-align: top;\n",
              "    }\n",
              "\n",
              "    .dataframe thead th {\n",
              "        text-align: right;\n",
              "    }\n",
              "</style>\n",
              "<table border=\"1\" class=\"dataframe\">\n",
              "  <thead>\n",
              "    <tr style=\"text-align: right;\">\n",
              "      <th></th>\n",
              "      <th>open</th>\n",
              "      <th>high</th>\n",
              "      <th>low</th>\n",
              "      <th>close</th>\n",
              "      <th>adj_close</th>\n",
              "      <th>volume</th>\n",
              "    </tr>\n",
              "  </thead>\n",
              "  <tbody>\n",
              "    <tr>\n",
              "      <th>0</th>\n",
              "      <td>5.839290</td>\n",
              "      <td>5.907375</td>\n",
              "      <td>5.839290</td>\n",
              "      <td>5.863320</td>\n",
              "      <td>1.386329</td>\n",
              "      <td>29900.0</td>\n",
              "    </tr>\n",
              "    <tr>\n",
              "      <th>1</th>\n",
              "      <td>5.481634</td>\n",
              "      <td>5.528486</td>\n",
              "      <td>5.481634</td>\n",
              "      <td>5.516773</td>\n",
              "      <td>1.280453</td>\n",
              "      <td>32000.0</td>\n",
              "    </tr>\n",
              "    <tr>\n",
              "      <th>2</th>\n",
              "      <td>0.907407</td>\n",
              "      <td>0.915638</td>\n",
              "      <td>0.899177</td>\n",
              "      <td>0.903292</td>\n",
              "      <td>0.161415</td>\n",
              "      <td>619400.0</td>\n",
              "    </tr>\n",
              "    <tr>\n",
              "      <th>3</th>\n",
              "      <td>1.677083</td>\n",
              "      <td>1.692708</td>\n",
              "      <td>1.661458</td>\n",
              "      <td>1.677083</td>\n",
              "      <td>0.144059</td>\n",
              "      <td>170400.0</td>\n",
              "    </tr>\n",
              "    <tr>\n",
              "      <th>4</th>\n",
              "      <td>0.000000</td>\n",
              "      <td>3.578869</td>\n",
              "      <td>20.000000</td>\n",
              "      <td>3.549107</td>\n",
              "      <td>0.056501</td>\n",
              "      <td>273600.0</td>\n",
              "    </tr>\n",
              "  </tbody>\n",
              "</table>\n",
              "</div>\n",
              "      <button class=\"colab-df-convert\" onclick=\"convertToInteractive('df-bf9360da-12e2-4233-95e6-bd4f352316c9')\"\n",
              "              title=\"Convert this dataframe to an interactive table.\"\n",
              "              style=\"display:none;\">\n",
              "\n",
              "  <svg xmlns=\"http://www.w3.org/2000/svg\" height=\"24px\"viewBox=\"0 0 24 24\"\n",
              "       width=\"24px\">\n",
              "    <path d=\"M0 0h24v24H0V0z\" fill=\"none\"/>\n",
              "    <path d=\"M18.56 5.44l.94 2.06.94-2.06 2.06-.94-2.06-.94-.94-2.06-.94 2.06-2.06.94zm-11 1L8.5 8.5l.94-2.06 2.06-.94-2.06-.94L8.5 2.5l-.94 2.06-2.06.94zm10 10l.94 2.06.94-2.06 2.06-.94-2.06-.94-.94-2.06-.94 2.06-2.06.94z\"/><path d=\"M17.41 7.96l-1.37-1.37c-.4-.4-.92-.59-1.43-.59-.52 0-1.04.2-1.43.59L10.3 9.45l-7.72 7.72c-.78.78-.78 2.05 0 2.83L4 21.41c.39.39.9.59 1.41.59.51 0 1.02-.2 1.41-.59l7.78-7.78 2.81-2.81c.8-.78.8-2.07 0-2.86zM5.41 20L4 18.59l7.72-7.72 1.47 1.35L5.41 20z\"/>\n",
              "  </svg>\n",
              "      </button>\n",
              "\n",
              "\n",
              "\n",
              "    <div id=\"df-496f9574-a7af-4589-9ce6-bcb87db99484\">\n",
              "      <button class=\"colab-df-quickchart\" onclick=\"quickchart('df-496f9574-a7af-4589-9ce6-bcb87db99484')\"\n",
              "              title=\"Suggest charts.\"\n",
              "              style=\"display:none;\">\n",
              "\n",
              "<svg xmlns=\"http://www.w3.org/2000/svg\" height=\"24px\"viewBox=\"0 0 24 24\"\n",
              "     width=\"24px\">\n",
              "    <g>\n",
              "        <path d=\"M19 3H5c-1.1 0-2 .9-2 2v14c0 1.1.9 2 2 2h14c1.1 0 2-.9 2-2V5c0-1.1-.9-2-2-2zM9 17H7v-7h2v7zm4 0h-2V7h2v10zm4 0h-2v-4h2v4z\"/>\n",
              "    </g>\n",
              "</svg>\n",
              "      </button>\n",
              "    </div>\n",
              "\n",
              "<style>\n",
              "  .colab-df-quickchart {\n",
              "    background-color: #E8F0FE;\n",
              "    border: none;\n",
              "    border-radius: 50%;\n",
              "    cursor: pointer;\n",
              "    display: none;\n",
              "    fill: #1967D2;\n",
              "    height: 32px;\n",
              "    padding: 0 0 0 0;\n",
              "    width: 32px;\n",
              "  }\n",
              "\n",
              "  .colab-df-quickchart:hover {\n",
              "    background-color: #E2EBFA;\n",
              "    box-shadow: 0px 1px 2px rgba(60, 64, 67, 0.3), 0px 1px 3px 1px rgba(60, 64, 67, 0.15);\n",
              "    fill: #174EA6;\n",
              "  }\n",
              "\n",
              "  [theme=dark] .colab-df-quickchart {\n",
              "    background-color: #3B4455;\n",
              "    fill: #D2E3FC;\n",
              "  }\n",
              "\n",
              "  [theme=dark] .colab-df-quickchart:hover {\n",
              "    background-color: #434B5C;\n",
              "    box-shadow: 0px 1px 3px 1px rgba(0, 0, 0, 0.15);\n",
              "    filter: drop-shadow(0px 1px 2px rgba(0, 0, 0, 0.3));\n",
              "    fill: #FFFFFF;\n",
              "  }\n",
              "</style>\n",
              "\n",
              "    <script>\n",
              "      async function quickchart(key) {\n",
              "        const containerElement = document.querySelector('#' + key);\n",
              "        const charts = await google.colab.kernel.invokeFunction(\n",
              "            'suggestCharts', [key], {});\n",
              "      }\n",
              "    </script>\n",
              "\n",
              "      <script>\n",
              "\n",
              "function displayQuickchartButton(domScope) {\n",
              "  let quickchartButtonEl =\n",
              "    domScope.querySelector('#df-496f9574-a7af-4589-9ce6-bcb87db99484 button.colab-df-quickchart');\n",
              "  quickchartButtonEl.style.display =\n",
              "    google.colab.kernel.accessAllowed ? 'block' : 'none';\n",
              "}\n",
              "\n",
              "        displayQuickchartButton(document);\n",
              "      </script>\n",
              "      <style>\n",
              "    .colab-df-container {\n",
              "      display:flex;\n",
              "      flex-wrap:wrap;\n",
              "      gap: 12px;\n",
              "    }\n",
              "\n",
              "    .colab-df-convert {\n",
              "      background-color: #E8F0FE;\n",
              "      border: none;\n",
              "      border-radius: 50%;\n",
              "      cursor: pointer;\n",
              "      display: none;\n",
              "      fill: #1967D2;\n",
              "      height: 32px;\n",
              "      padding: 0 0 0 0;\n",
              "      width: 32px;\n",
              "    }\n",
              "\n",
              "    .colab-df-convert:hover {\n",
              "      background-color: #E2EBFA;\n",
              "      box-shadow: 0px 1px 2px rgba(60, 64, 67, 0.3), 0px 1px 3px 1px rgba(60, 64, 67, 0.15);\n",
              "      fill: #174EA6;\n",
              "    }\n",
              "\n",
              "    [theme=dark] .colab-df-convert {\n",
              "      background-color: #3B4455;\n",
              "      fill: #D2E3FC;\n",
              "    }\n",
              "\n",
              "    [theme=dark] .colab-df-convert:hover {\n",
              "      background-color: #434B5C;\n",
              "      box-shadow: 0px 1px 3px 1px rgba(0, 0, 0, 0.15);\n",
              "      filter: drop-shadow(0px 1px 2px rgba(0, 0, 0, 0.3));\n",
              "      fill: #FFFFFF;\n",
              "    }\n",
              "  </style>\n",
              "\n",
              "      <script>\n",
              "        const buttonEl =\n",
              "          document.querySelector('#df-bf9360da-12e2-4233-95e6-bd4f352316c9 button.colab-df-convert');\n",
              "        buttonEl.style.display =\n",
              "          google.colab.kernel.accessAllowed ? 'block' : 'none';\n",
              "\n",
              "        async function convertToInteractive(key) {\n",
              "          const element = document.querySelector('#df-bf9360da-12e2-4233-95e6-bd4f352316c9');\n",
              "          const dataTable =\n",
              "            await google.colab.kernel.invokeFunction('convertToInteractive',\n",
              "                                                     [key], {});\n",
              "          if (!dataTable) return;\n",
              "\n",
              "          const docLinkHtml = 'Like what you see? Visit the ' +\n",
              "            '<a target=\"_blank\" href=https://colab.research.google.com/notebooks/data_table.ipynb>data table notebook</a>'\n",
              "            + ' to learn more about interactive tables.';\n",
              "          element.innerHTML = '';\n",
              "          dataTable['output_type'] = 'display_data';\n",
              "          await google.colab.output.renderOutput(dataTable, element);\n",
              "          const docLink = document.createElement('div');\n",
              "          docLink.innerHTML = docLinkHtml;\n",
              "          element.appendChild(docLink);\n",
              "        }\n",
              "      </script>\n",
              "    </div>\n",
              "  </div>\n"
            ]
          },
          "metadata": {},
          "execution_count": 53
        }
      ]
    },
    {
      "cell_type": "code",
      "source": [
        "sns.set(font_scale=0.8)\n",
        "fig = plt.figure(figsize=(20,15))\n",
        "for i in range(len(viz_df.columns)):\n",
        "  fig.add_subplot(3,2,i+1)\n",
        "  sns.histplot(data = viz_df.iloc[:,i],bins=10)"
      ],
      "metadata": {
        "colab": {
          "base_uri": "https://localhost:8080/",
          "height": 878
        },
        "id": "fYlwbQF4hCRP",
        "outputId": "c66cfd90-46bc-4de5-a00d-e230f2615f0a"
      },
      "execution_count": 59,
      "outputs": [
        {
          "output_type": "display_data",
          "data": {
            "text/plain": [
              "<Figure size 2000x1500 with 6 Axes>"
            ],
            "image/png": "[encoded data removed]"
          },
          "metadata": {}
        }
      ]
    },
    {
      "cell_type": "code",
      "source": [
        "# alternatively ...\n",
        "\n",
        "# fig,ax = plt.subplots(2,3,figsize=(20,15))\n",
        "# data = df.select('open').toPandas()\n",
        "# sns.histplot(data=data, bins=10,ax=ax[0,0])\n",
        "# data = df.select('close').toPandas()\n",
        "# sns.histplot(data=data, bins=10,ax=ax[0,1])\n",
        "# data = df.select('low').toPandas()\n",
        "# sns.histplot(data=data, bins=10,ax=ax[0,2])\n",
        "# data = df.select('high').toPandas()\n",
        "# sns.histplot(data=data, bins=10,ax=ax[1,0])\n",
        "# data = df.select('adj_close').toPandas()\n",
        "# sns.histplot(data=data, bins=10,ax=ax[1,1])\n",
        "# data = df.select('volume').toPandas()\n",
        "# sns.histplot(data=data, bins=10,ax=ax[1,2])"
      ],
      "metadata": {
        "id": "7BRfYGyPKJ64"
      },
      "execution_count": null,
      "outputs": []
    },
    {
      "cell_type": "markdown",
      "metadata": {
        "id": "3LnxOCiDuZdU"
      },
      "source": [
        "> ℹ️ **Instructions** ℹ️\n",
        ">\n",
        "> Investigate the **open** column to identify stocks that have open values greater than 2, and note any anomalies that you find in the data.\n",
        ">\n",
        ">*You may use as many coding cells as necessary.*"
      ]
    },
    {
      "cell_type": "code",
      "source": [
        "df.select('stock').distinct().count()"
      ],
      "metadata": {
        "colab": {
          "base_uri": "https://localhost:8080/"
        },
        "id": "VLbZ8DBcX7PE",
        "outputId": "604ea47c-af05-4782-9b9e-2401c761a2a1"
      },
      "execution_count": 120,
      "outputs": [
        {
          "output_type": "execute_result",
          "data": {
            "text/plain": [
              "21"
            ]
          },
          "metadata": {},
          "execution_count": 120
        }
      ]
    },
    {
      "cell_type": "code",
      "execution_count": 122,
      "metadata": {
        "id": "TrEZHNasuZdU",
        "colab": {
          "base_uri": "https://localhost:8080/"
        },
        "outputId": "5b76b635-bb05-4f06-f5e3-f6d2a4628b91"
      },
      "outputs": [
        {
          "output_type": "stream",
          "name": "stdout",
          "text": [
            "+-------------------+---------+---------+---------+---------+----------+--------+-----+\n",
            "|               date|     open|     high|      low|    close| adj_close|  volume|stock|\n",
            "+-------------------+---------+---------+---------+---------+----------+--------+-----+\n",
            "|1962-02-19 00:00:00|  5.83929| 5.907375|  5.83929|  5.86332| 1.3863293| 29900.0|   AA|\n",
            "|1962-02-19 00:00:00| 5.481634| 5.528486| 5.481634|5.5167727| 1.2804527| 32000.0| ARNC|\n",
            "|1962-02-19 00:00:00|     7.26|7.2933335| 7.173333|7.1866665| 0.5825691|280000.0|  IBM|\n",
            "|1962-02-14 00:00:00|  5.83929|  5.83929| 5.747175|  5.80725| 1.3730713| 56500.0|   AA|\n",
            "|1962-02-14 00:00:00| 5.481634| 5.481634| 5.399644|5.4347825| 1.2614225| 60400.0| ARNC|\n",
            "|1962-02-14 00:00:00| 7.306667|7.3333335|     7.28|7.2933335|0.59121627|208000.0|  IBM|\n",
            "|1962-02-13 00:00:00|  5.85531| 5.915385|  5.85531|  5.86332| 1.3863293| 62500.0|   AA|\n",
            "|1962-02-13 00:00:00|  5.50506| 5.540199|  5.50506|5.5167727| 1.2804527| 66800.0| ARNC|\n",
            "|1962-02-13 00:00:00|7.4266667|7.4333334| 7.306667| 7.306667|0.59229714|256000.0|  IBM|\n",
            "|1962-02-26 00:00:00|  6.05556| 6.107625| 5.955435| 6.107625| 1.4440926| 82500.0|   AA|\n",
            "|1962-02-26 00:00:00|5.6924663| 5.715892| 5.598763| 5.715892| 1.3266692| 88100.0| ARNC|\n",
            "|1962-02-26 00:00:00|     7.16|7.1666665|     7.12| 7.133333|  0.578246|299200.0|  IBM|\n",
            "|1962-02-06 00:00:00| 5.915385| 5.915385|  5.82327|  5.85531| 1.3844348| 40500.0|   AA|\n",
            "|1962-02-06 00:00:00| 5.540199| 5.540199|5.4582086|  5.50506| 1.2777345| 43300.0| ARNC|\n",
            "|1962-02-06 00:00:00| 7.346667|     7.36|     7.32|7.3533335|0.59607965|256000.0|  IBM|\n",
            "|1962-02-02 00:00:00| 5.931405| 5.955435| 5.907375| 5.915385| 1.3915651| 30500.0|   AA|\n",
            "|1962-02-02 00:00:00|5.5636244| 5.598763| 5.528486| 5.540199| 1.2794067| 32600.0| ARNC|\n",
            "|1962-02-02 00:00:00|7.3933334|     7.44|     7.36|     7.44| 0.6030228|507200.0|  IBM|\n",
            "|1962-02-16 00:00:00| 5.739165|  5.83128| 5.739165|  5.83128| 1.3787535| 55900.0|   AA|\n",
            "|1962-02-16 00:00:00| 5.387931| 5.469921| 5.387931| 5.469921| 1.2695786| 59700.0| ARNC|\n",
            "+-------------------+---------+---------+---------+---------+----------+--------+-----+\n",
            "only showing top 20 rows\n",
            "\n"
          ]
        }
      ],
      "source": [
        "#TODO: Write your code here\n",
        "\n",
        "open = df[df.open > 2]\n",
        "open.show()"
      ]
    },
    {
      "cell_type": "code",
      "source": [
        "open.groupby('stock').count().show()"
      ],
      "metadata": {
        "colab": {
          "base_uri": "https://localhost:8080/"
        },
        "id": "nqWR8UxpYzCt",
        "outputId": "095115d7-a8df-4186-8448-3dc5a04d1663"
      },
      "execution_count": 125,
      "outputs": [
        {
          "output_type": "stream",
          "name": "stdout",
          "text": [
            "+-----+-----+\n",
            "|stock|count|\n",
            "+-----+-----+\n",
            "|   AA|  252|\n",
            "|ARNCA|   21|\n",
            "|   PG|   23|\n",
            "|  IBM|  252|\n",
            "| ARNC|  231|\n",
            "+-----+-----+\n",
            "\n"
          ]
        }
      ]
    },
    {
      "cell_type": "code",
      "source": [
        "# alternatively ...\n",
        "\n",
        "df.filter(df.open>2).groupBy(df.stock).count().show()"
      ],
      "metadata": {
        "colab": {
          "base_uri": "https://localhost:8080/"
        },
        "id": "HsSkaHlfiVie",
        "outputId": "f9489b6a-70e5-49e5-8e40-2b1614a39c41"
      },
      "execution_count": 60,
      "outputs": [
        {
          "output_type": "stream",
          "name": "stdout",
          "text": [
            "+-----+-----+\n",
            "|stock|count|\n",
            "+-----+-----+\n",
            "|   AA|  252|\n",
            "|ARNCA|   21|\n",
            "|   PG|   23|\n",
            "|  IBM|  252|\n",
            "| ARNC|  231|\n",
            "+-----+-----+\n",
            "\n"
          ]
        }
      ]
    },
    {
      "cell_type": "markdown",
      "metadata": {
        "id": "XwGZHC2auZdU"
      },
      "source": [
        " ## 📔️**Notes** 📔️\n",
        "\n",
        " *Use this cell to note down any potential findings.*\n",
        "\n",
        " 1.\n",
        " 2.\n",
        "    ...\n"
      ]
    },
    {
      "cell_type": "markdown",
      "metadata": {
        "id": "vEzU0kKquZdU"
      },
      "source": [
        "> ℹ️ **Instructions** ℹ️\n",
        ">\n",
        "> Investigate **high**, **low**, **close**, and **adj_close** to determine if any stocks may be deviating from the normal ranges of the data set. Note down the stock(s) that you come across.\n",
        ">\n",
        ">*You may use as many coding cells as necessary.*"
      ]
    },
    {
      "cell_type": "code",
      "source": [
        "df.filter(df.high>50).groupBy('stock').count().show()"
      ],
      "metadata": {
        "colab": {
          "base_uri": "https://localhost:8080/"
        },
        "id": "ZuOK-FxxfqGD",
        "outputId": "edfc731e-ee29-4b96-e01c-ba3afea4d78d"
      },
      "execution_count": 64,
      "outputs": [
        {
          "output_type": "stream",
          "name": "stdout",
          "text": [
            "+-----+-----+\n",
            "|stock|count|\n",
            "+-----+-----+\n",
            "|  NAV|  252|\n",
            "+-----+-----+\n",
            "\n"
          ]
        }
      ]
    },
    {
      "cell_type": "code",
      "source": [
        "df.filter(df.low>50).groupBy('stock').count().show()"
      ],
      "metadata": {
        "colab": {
          "base_uri": "https://localhost:8080/"
        },
        "id": "4EYcybf61RYM",
        "outputId": "c74c911e-a015-44f5-c64c-33467f88fd62"
      },
      "execution_count": 65,
      "outputs": [
        {
          "output_type": "stream",
          "name": "stdout",
          "text": [
            "+-----+-----+\n",
            "|stock|count|\n",
            "+-----+-----+\n",
            "|  NAV|  232|\n",
            "+-----+-----+\n",
            "\n"
          ]
        }
      ]
    },
    {
      "cell_type": "code",
      "source": [
        "df.filter(df.close>50).groupBy('stock').count().show()"
      ],
      "metadata": {
        "colab": {
          "base_uri": "https://localhost:8080/"
        },
        "id": "7YC1nKS41ys1",
        "outputId": "f277c212-ce1f-4c5d-cdfa-4cb0096f74e6"
      },
      "execution_count": 67,
      "outputs": [
        {
          "output_type": "stream",
          "name": "stdout",
          "text": [
            "+-----+-----+\n",
            "|stock|count|\n",
            "+-----+-----+\n",
            "|  NAV|  252|\n",
            "+-----+-----+\n",
            "\n"
          ]
        }
      ]
    },
    {
      "cell_type": "code",
      "source": [
        "df.filter(df.adj_close>50).groupBy('stock').count().show()"
      ],
      "metadata": {
        "colab": {
          "base_uri": "https://localhost:8080/"
        },
        "id": "CoCDemYx2K6F",
        "outputId": "c63413fb-6cb6-41ab-8d41-15be91e90354"
      },
      "execution_count": 68,
      "outputs": [
        {
          "output_type": "stream",
          "name": "stdout",
          "text": [
            "+-----+-----+\n",
            "|stock|count|\n",
            "+-----+-----+\n",
            "|  NAV|  252|\n",
            "+-----+-----+\n",
            "\n"
          ]
        }
      ]
    },
    {
      "cell_type": "code",
      "source": [
        "df_meta.filter(df_meta.Symbol == 'NAV').show()"
      ],
      "metadata": {
        "colab": {
          "base_uri": "https://localhost:8080/"
        },
        "id": "dHGmYxAO2zaG",
        "outputId": "7bb57429-365b-4e54-8025-e68b23ab6e0b"
      },
      "execution_count": 71,
      "outputs": [
        {
          "output_type": "stream",
          "name": "stdout",
          "text": [
            "+-------------+------+--------------------+----------------+---------------+---+--------------+----------+----------------+----------+-------------+----------+\n",
            "|Nasdaq Traded|Symbol|       Security Name|Listing Exchange|Market Category|ETF|Round Lot Size|Test Issue|Financial Status|CQS Symbol|NASDAQ Symbol|NextShares|\n",
            "+-------------+------+--------------------+----------------+---------------+---+--------------+----------+----------------+----------+-------------+----------+\n",
            "|            Y|   NAV|Navistar Internat...|               N|               |  N|         100.0|         N|            null|       NAV|          NAV|         N|\n",
            "+-------------+------+--------------------+----------------+---------------+---+--------------+----------+----------------+----------+-------------+----------+\n",
            "\n"
          ]
        }
      ]
    },
    {
      "cell_type": "markdown",
      "metadata": {
        "id": "50Cd5GUsuZdV"
      },
      "source": [
        " ## 📔️**Notes** 📔️\n",
        "\n",
        " *Use this cell to note down any potential findings.*\n",
        "\n",
        " 1.\n",
        " 2.\n",
        "    ..."
      ]
    },
    {
      "cell_type": "code",
      "source": [
        "df_meta.show()"
      ],
      "metadata": {
        "colab": {
          "base_uri": "https://localhost:8080/"
        },
        "id": "c5Ei1He62nOO",
        "outputId": "bc17e398-4d56-48d2-fafb-8a99ed33e693"
      },
      "execution_count": 69,
      "outputs": [
        {
          "output_type": "stream",
          "name": "stdout",
          "text": [
            "+-------------+------+--------------------+----------------+---------------+---+--------------+----------+----------------+----------+-------------+----------+\n",
            "|Nasdaq Traded|Symbol|       Security Name|Listing Exchange|Market Category|ETF|Round Lot Size|Test Issue|Financial Status|CQS Symbol|NASDAQ Symbol|NextShares|\n",
            "+-------------+------+--------------------+----------------+---------------+---+--------------+----------+----------------+----------+-------------+----------+\n",
            "|            Y|     A|Agilent Technolog...|               N|               |  N|         100.0|         N|            null|         A|            A|         N|\n",
            "|            Y|    AA|Alcoa Corporation...|               N|               |  N|         100.0|         N|            null|        AA|           AA|         N|\n",
            "|            Y|  AAAU|Perth Mint Physic...|               P|               |  Y|         100.0|         N|            null|      AAAU|         AAAU|         N|\n",
            "|            Y|  AACG|ATA Creativity Gl...|               Q|              G|  N|         100.0|         N|               N|      null|         AACG|         N|\n",
            "|            Y|  AADR|AdvisorShares Dor...|               P|               |  Y|         100.0|         N|            null|      AADR|         AADR|         N|\n",
            "|            Y|   AAL|American Airlines...|               Q|              Q|  N|         100.0|         N|               N|      null|          AAL|         N|\n",
            "|            Y|  AAMC|Altisource Asset ...|               A|               |  N|         100.0|         N|            null|      AAMC|         AAMC|         N|\n",
            "|            Y|  AAME|Atlantic American...|               Q|              G|  N|         100.0|         N|               N|      null|         AAME|         N|\n",
            "|            Y|   AAN|Aaron's, Inc. Com...|               N|               |  N|         100.0|         N|            null|       AAN|          AAN|         N|\n",
            "|            Y|  AAOI|Applied Optoelect...|               Q|              G|  N|         100.0|         N|               N|      null|         AAOI|         N|\n",
            "|            Y|  AAON|AAON, Inc. - Comm...|               Q|              Q|  N|         100.0|         N|               N|      null|         AAON|         N|\n",
            "|            Y|   AAP|Advance Auto Part...|               N|               |  N|         100.0|         N|            null|       AAP|          AAP|         N|\n",
            "|            Y|  AAPL|Apple Inc. - Comm...|               Q|              Q|  N|         100.0|         N|               N|      null|         AAPL|         N|\n",
            "|            Y|   AAT|American Assets T...|               N|               |  N|         100.0|         N|            null|       AAT|          AAT|         N|\n",
            "|            Y|   AAU|Almaden Minerals,...|               A|               |  N|         100.0|         N|            null|       AAU|          AAU|         N|\n",
            "|            Y|  AAWW|Atlas Air Worldwi...|               Q|              Q|  N|         100.0|         N|               N|      null|         AAWW|         N|\n",
            "|            Y|  AAXJ|iShares MSCI All ...|               Q|              G|  Y|         100.0|         N|               N|      null|         AAXJ|         N|\n",
            "|            Y|  AAXN|Axon Enterprise, ...|               Q|              Q|  N|         100.0|         N|               N|      null|         AAXN|         N|\n",
            "|            Y|    AB|AllianceBernstein...|               N|               |  N|         100.0|         N|            null|        AB|           AB|         N|\n",
            "|            Y|   ABB|ABB Ltd Common Stock|               N|               |  N|         100.0|         N|            null|       ABB|          ABB|         N|\n",
            "+-------------+------+--------------------+----------------+---------------+---+--------------+----------+----------------+----------+-------------+----------+\n",
            "only showing top 20 rows\n",
            "\n"
          ]
        }
      ]
    },
    {
      "cell_type": "markdown",
      "source": [
        "It appears mos"
      ],
      "metadata": {
        "id": "HIIjUF0O2i2C"
      }
    },
    {
      "cell_type": "markdown",
      "metadata": {
        "id": "6o0ORfD_uZdV"
      },
      "source": [
        "\n",
        "\n",
        "## Completeness\n",
        "\n",
        "Completeness is the proportion of stored data against the potential of “100% complete\". This is the degree to which the required data is in the dataset.\n",
        "\n",
        "Does the dataset have missing values, or if it is time-series data, does it have time period gaps? Has a bias been introduced that may change your assumptions or affect your results?\n",
        "\n",
        "Completeness issues can occur at the row level (gaps within the dataset) or the field level (one entry missing). At the field level, entire fields can being empty, or >80% of a field's data missing.\n",
        "\n",
        "Another issue that may occur is default values. A typical example of this is where a logger sends back a 0 instead of a null value, which can greatly skew any attempts at modelling. This is where it is instrumental to employ domain knowledge when assessing a dataset.\n",
        "\n",
        "- **Measured by**: A measure of the absence of blank (null) values or the presence of non-blank values;\n",
        "- **Units**: Percentage;\n",
        "- **Related to**: Validity and Accuracy."
      ]
    },
    {
      "cell_type": "markdown",
      "metadata": {
        "id": "vFewj8lvuZdV"
      },
      "source": [
        "### Missing values\n",
        "\n",
        "> ℹ️ **Instructions** ℹ️\n",
        ">\n",
        "> Write code to identify and count the number of missing values (nulls) in the dataset. Include a percentage to describe the proportion of missing values per column. Output the results in the following manner:\n",
        ">\n",
        "> `There are <number_of_missing_values> (<percentage>) null values in <column_name> column`\n",
        ">\n",
        ">*You may use as many coding cells as necessary.*"
      ]
    },
    {
      "cell_type": "code",
      "source": [
        "from pyspark.sql.functions import col, isnan, when, count"
      ],
      "metadata": {
        "id": "87plvTXrjjo8"
      },
      "execution_count": 33,
      "outputs": []
    },
    {
      "cell_type": "code",
      "execution_count": 8,
      "metadata": {
        "id": "F-BnJs7FuZdV",
        "colab": {
          "base_uri": "https://localhost:8080/"
        },
        "outputId": "cb2f82a1-9954-48aa-b75d-25f979faac7e"
      },
      "outputs": [
        {
          "output_type": "stream",
          "name": "stdout",
          "text": [
            "+----+----+----+---+-----+---------+------+-----+\n",
            "|date|open|high|low|close|adj_close|volume|stock|\n",
            "+----+----+----+---+-----+---------+------+-----+\n",
            "|   0|   0|   0| 42|    0|       21|    21|    0|\n",
            "+----+----+----+---+-----+---------+------+-----+\n",
            "\n"
          ]
        }
      ],
      "source": [
        "#TODO: Write your code here\n",
        "\n",
        "miss_df = df.select([count(when(col(c).contains('None') | col(c).contains('NULL') |\n",
        "                                col(c).isNull() | (col(c) == ''),c)).alias (c) for c in df.columns])\n",
        "miss_df.show()"
      ]
    },
    {
      "cell_type": "code",
      "source": [
        "for col in miss_df.columns:\n",
        "  count = miss_df.select(col).collect()[0][0]\n",
        "  perc = miss_df.select(col).collect()[0][0] / (df.count()) * 100\n",
        "  print(f'There are {count} missing values, {round(perc,3)} percentage of null values in the {col} column')"
      ],
      "metadata": {
        "colab": {
          "base_uri": "https://localhost:8080/"
        },
        "id": "9D0IeMB3TxMr",
        "outputId": "2c1c23b7-a4b1-4aa0-9cd0-fa6e70175b86"
      },
      "execution_count": 83,
      "outputs": [
        {
          "output_type": "stream",
          "name": "stdout",
          "text": [
            "There are 0 missing values, 0.0 percentage of null values in the date column\n",
            "There are 0 missing values, 0.0 percentage of null values in the open column\n",
            "There are 0 missing values, 0.0 percentage of null values in the high column\n",
            "There are 42 missing values, 0.823 percentage of null values in the low column\n",
            "There are 0 missing values, 0.0 percentage of null values in the close column\n",
            "There are 21 missing values, 0.411 percentage of null values in the adj_close column\n",
            "There are 21 missing values, 0.411 percentage of null values in the volume column\n",
            "There are 0 missing values, 0.0 percentage of null values in the stock column\n"
          ]
        }
      ]
    },
    {
      "cell_type": "markdown",
      "metadata": {
        "id": "7rmLGdnDuZdV"
      },
      "source": [
        "### Columns with missing values"
      ]
    },
    {
      "cell_type": "markdown",
      "metadata": {
        "id": "hIkkCBTXuZdV"
      },
      "source": [
        "\n",
        "> ℹ️ **Instructions** ℹ️\n",
        ">\n",
        "> From the above result, probe the columns that are affected by the missing data to find out which stocks were affected.\n",
        ">\n",
        ">*You may use as many coding cells as necessary.*"
      ]
    },
    {
      "cell_type": "code",
      "source": [
        "missing_rows = df.filter(df.low.isNull() | df.adj_close.isNull() | df.volume.isNull())\n"
      ],
      "metadata": {
        "id": "_mQ27N2Aas8l"
      },
      "execution_count": 9,
      "outputs": []
    },
    {
      "cell_type": "code",
      "source": [
        "missing_rows.groupby('stock').count().show()"
      ],
      "metadata": {
        "colab": {
          "base_uri": "https://localhost:8080/"
        },
        "id": "A6BSnfkpeUdN",
        "outputId": "b467b903-e39c-4149-8394-67f8e492c9e7"
      },
      "execution_count": 10,
      "outputs": [
        {
          "output_type": "stream",
          "name": "stdout",
          "text": [
            "+-----+-----+\n",
            "|stock|count|\n",
            "+-----+-----+\n",
            "|  JNJ|   21|\n",
            "|  CAT|   22|\n",
            "|   FL|   21|\n",
            "|  NAV|   20|\n",
            "+-----+-----+\n",
            "\n"
          ]
        }
      ]
    },
    {
      "cell_type": "markdown",
      "metadata": {
        "id": "fqfvHibzuZdV"
      },
      "source": [
        "#### Fix Completeness\n",
        "\n",
        "How do we deal with incomplete data?\n",
        "- Dropping missing values\n",
        "- Discard the incomplete column\n",
        "- Discard the rows containing missing data\n",
        "- Case deletion\n",
        "\n",
        "> ℹ️ **Instructions** ℹ️\n",
        ">\n",
        "> Use the appropriate strategy to remedy the missing data.\n",
        ">\n",
        ">*You may use as many coding cells as necessary.*"
      ]
    },
    {
      "cell_type": "code",
      "execution_count": 15,
      "metadata": {
        "id": "FlkKrbBUuZdV"
      },
      "outputs": [],
      "source": [
        "#TODO: Write your code here\n",
        "\n",
        "# Dropping the null values\n",
        "\n",
        "df = df.na.drop()\n",
        "\n"
      ]
    },
    {
      "cell_type": "code",
      "source": [
        "miss_df = df.select([count(when(col(c).contains('None') | col(c).contains('NULL') |\n",
        "                                col(c).isNull() | (col(c) == ''),c)).alias (c) for c in df.columns])"
      ],
      "metadata": {
        "id": "EYFxGqG16lJv"
      },
      "execution_count": null,
      "outputs": []
    },
    {
      "cell_type": "code",
      "source": [
        "# confirming whether we've dropped\n",
        "\n",
        "new_missing_df = df.select([count(when(col(c).contains('None') | col(c).contains('NULL') | (col(c) == '') | col(c).isNull(),c)).alias(c) for c in df.columns])\n",
        "new_missing_df.show()"
      ],
      "metadata": {
        "colab": {
          "base_uri": "https://localhost:8080/"
        },
        "id": "QXxNJfKq4HPy",
        "outputId": "17cb3ed1-b2be-4195-9cca-2e2f6b717bc3"
      },
      "execution_count": 23,
      "outputs": [
        {
          "output_type": "stream",
          "name": "stdout",
          "text": [
            "+----+----+----+---+-----+---------+------+-----+\n",
            "|date|open|high|low|close|adj_close|volume|stock|\n",
            "+----+----+----+---+-----+---------+------+-----+\n",
            "|   0|   0|   0|  0|    0|        0|     0|    0|\n",
            "+----+----+----+---+-----+---------+------+-----+\n",
            "\n"
          ]
        }
      ]
    },
    {
      "cell_type": "code",
      "source": [
        "df.select('open').count()"
      ],
      "metadata": {
        "colab": {
          "base_uri": "https://localhost:8080/"
        },
        "id": "Rw_SbRmo_fpu",
        "outputId": "cb002d6d-8b82-4580-86d6-094550fe0dca"
      },
      "execution_count": 26,
      "outputs": [
        {
          "output_type": "execute_result",
          "data": {
            "text/plain": [
              "5022"
            ]
          },
          "metadata": {},
          "execution_count": 26
        }
      ]
    },
    {
      "cell_type": "markdown",
      "metadata": {
        "id": "FiTfxf90uZdV"
      },
      "source": [
        "### Zero Values\n",
        "\n",
        "Take a deeper look into the entries with many zero values."
      ]
    },
    {
      "cell_type": "markdown",
      "metadata": {
        "id": "UzU7pF0ZuZdV"
      },
      "source": [
        "#### Fix Completeness\n",
        "\n",
        "Completeness issues can be fixed through imputation of the missing data through:\n",
        "- imputation by mean/mode/median;\n",
        "- regression; or\n",
        "- KNN.\n",
        "\n",
        "> ℹ️ **Instructions** ℹ️\n",
        ">\n",
        "> Write code to identify and count the number of zeros (0) in the dataset. Include a percentage to describe the proportion of missing values per column. Output the results in the following manner:\n",
        ">\n",
        "> `There are <number_of_zeros> (<percentage>) zero values in <column_name> column`\n",
        ">\n",
        ">*You may use as many coding cells as necessary.*"
      ]
    },
    {
      "cell_type": "code",
      "execution_count": 10,
      "metadata": {
        "id": "JFdX1WEyuZdV",
        "colab": {
          "base_uri": "https://localhost:8080/"
        },
        "outputId": "e396be87-ac4f-47c2-da70-00cf1657b572"
      },
      "outputs": [
        {
          "output_type": "stream",
          "name": "stdout",
          "text": [
            "There are 2768, (54.211)% of zero values in open column\n",
            "There are 20, (0.392)% of zero values in high column\n",
            "There are 0, (0.0)% of zero values in low column\n",
            "There are 0, (0.0)% of zero values in close column\n",
            "There are 0, (0.0)% of zero values in adj_close column\n",
            "There are 27, (0.529)% of zero values in volume column\n"
          ]
        }
      ],
      "source": [
        "for column in  ['open','high','low','close','adj_close','volume']:\n",
        "  count_ = df.filter(df[column] == 0).count()\n",
        "  total_count = df.select(df[column]).count()\n",
        "  print(f\"There are {count_}, ({round(count_/total_count*100,3)})% of zero values in {column} column\")"
      ]
    },
    {
      "cell_type": "markdown",
      "metadata": {
        "id": "3gROLH-vuZdV"
      },
      "source": [
        "From the above section, you find that there are a few columns that contain zero values. However, some of these are true zeros and are explainable. Your task is to distinguish which column should undergo data imputation.\n",
        "\n",
        "> ℹ️ **Instructions** ℹ️\n",
        ">\n",
        "> Investigate the columns with zero values and determine which one should undergo data imputation. Take note of the stock and month on which zero values occurred.\n",
        ">\n",
        ">*You may use as many coding cells as necessary.*"
      ]
    },
    {
      "cell_type": "code",
      "execution_count": 11,
      "metadata": {
        "id": "ZvbcmkhSuZdW"
      },
      "outputs": [],
      "source": [
        "#TODO: Write your code here\n",
        "zero_entries_vol = df.filter(df.volume == 0)\n",
        "zero_entries_open = df.filter(df.open == 0)\n",
        "zero_entries_high = df.filter(df.high == 0)"
      ]
    },
    {
      "cell_type": "code",
      "source": [
        "zero_entries_vol.groupBy('stock').count().show()"
      ],
      "metadata": {
        "colab": {
          "base_uri": "https://localhost:8080/"
        },
        "id": "mPz_8jhVOs3w",
        "outputId": "db4df45f-adf3-4c86-cf03-9e78816f7ea3"
      },
      "execution_count": 12,
      "outputs": [
        {
          "output_type": "stream",
          "name": "stdout",
          "text": [
            "+-----+-----+\n",
            "|stock|count|\n",
            "+-----+-----+\n",
            "|  XOM|   22|\n",
            "|  JNJ|    4|\n",
            "|   GE|    1|\n",
            "+-----+-----+\n",
            "\n"
          ]
        }
      ]
    },
    {
      "cell_type": "code",
      "source": [
        "zero_entries_open.groupBy('stock').count().show()"
      ],
      "metadata": {
        "colab": {
          "base_uri": "https://localhost:8080/"
        },
        "id": "cytCdRRaO-os",
        "outputId": "0ee1f9c4-aec9-4b6e-f44a-57d88bd691ea"
      },
      "execution_count": 13,
      "outputs": [
        {
          "output_type": "stream",
          "name": "stdout",
          "text": [
            "+-----+-----+\n",
            "|stock|count|\n",
            "+-----+-----+\n",
            "|  XOM|  252|\n",
            "|   PG|  229|\n",
            "|   GT|  252|\n",
            "|   MO|  252|\n",
            "|  JNJ|  252|\n",
            "|  CVX|  252|\n",
            "|  DTE|  252|\n",
            "|   IP|  252|\n",
            "|   FL|  252|\n",
            "|   ED|  271|\n",
            "|  NAV|  252|\n",
            "+-----+-----+\n",
            "\n"
          ]
        }
      ]
    },
    {
      "cell_type": "code",
      "source": [
        "zero_entries_high.groupBy('stock').count().show()"
      ],
      "metadata": {
        "colab": {
          "base_uri": "https://localhost:8080/"
        },
        "id": "jK6032a_PEj3",
        "outputId": "c63b4f4c-71c7-4f9b-c1c5-ee35c07c3077"
      },
      "execution_count": 14,
      "outputs": [
        {
          "output_type": "stream",
          "name": "stdout",
          "text": [
            "+-----+-----+\n",
            "|stock|count|\n",
            "+-----+-----+\n",
            "|  CAT|   20|\n",
            "+-----+-----+\n",
            "\n"
          ]
        }
      ]
    },
    {
      "cell_type": "code",
      "source": [
        "zero_entries_high.show()"
      ],
      "metadata": {
        "colab": {
          "base_uri": "https://localhost:8080/"
        },
        "id": "YmabfsfyZ09q",
        "outputId": "ecefaaf9-6147-44bc-c6c6-67859e65e3dc"
      },
      "execution_count": 15,
      "outputs": [
        {
          "output_type": "stream",
          "name": "stdout",
          "text": [
            "+-------------------+---------+----+---------+---------+----------+--------+-----+\n",
            "|               date|     open|high|      low|    close| adj_close|  volume|stock|\n",
            "+-------------------+---------+----+---------+---------+----------+--------+-----+\n",
            "|1962-11-05 00:00:00|1.4114584| 0.0|1.4114584|   1.4375|0.12620474|172800.0|  CAT|\n",
            "|1962-11-12 00:00:00| 1.453125| 0.0|1.4427084|1.4583334|0.12803373| 96000.0|  CAT|\n",
            "|1962-11-08 00:00:00|1.4583334| 0.0|1.4427084|1.4583334|0.12803373|129600.0|  CAT|\n",
            "|1962-11-01 00:00:00|1.3697916| 0.0|1.3697916|1.4010416| 0.1230039|136800.0|  CAT|\n",
            "|1962-11-29 00:00:00|1.5052084| 0.0|1.5052084|1.5052084|0.13214913|132000.0|  CAT|\n",
            "|1962-11-28 00:00:00|      1.5| 0.0|1.4947916|1.5052084|0.13214913|177600.0|  CAT|\n",
            "|1962-11-30 00:00:00|1.5052084| 0.0|1.5052084|1.5052084|0.13214913|124800.0|  CAT|\n",
            "|1962-11-26 00:00:00|      1.5| 0.0|1.4947916|      1.5|0.13169187|187200.0|  CAT|\n",
            "|1962-11-02 00:00:00|1.4010416| 0.0|1.3958334|1.4114584|0.12391846|211200.0|  CAT|\n",
            "|1962-11-21 00:00:00|      1.5| 0.0|1.4947916|      1.5|0.13169187|105600.0|  CAT|\n",
            "|1962-11-15 00:00:00|1.5052084| 0.0|1.4947916|      1.5|0.13169187|187200.0|  CAT|\n",
            "|1962-11-16 00:00:00|      1.5| 0.0|1.4947916|      1.5|0.13169187|127200.0|  CAT|\n",
            "|1962-11-20 00:00:00|      1.5| 0.0|1.4947916|      1.5|0.13169187|112800.0|  CAT|\n",
            "|1962-11-09 00:00:00| 1.453125| 0.0|   1.4375| 1.453125|0.12757647|120000.0|  CAT|\n",
            "|1962-11-19 00:00:00|      1.5| 0.0|1.4895834|      1.5|0.13169187|112800.0|  CAT|\n",
            "|1962-11-23 00:00:00|      1.5| 0.0|1.4947916|      1.5|0.13169187|228000.0|  CAT|\n",
            "|1962-11-27 00:00:00|      1.5| 0.0| 1.484375|      1.5|0.13169187|165600.0|  CAT|\n",
            "|1962-11-14 00:00:00| 1.484375| 0.0|1.4791666|1.5052084|0.13214913|261600.0|  CAT|\n",
            "|1962-11-13 00:00:00|1.4583334| 0.0| 1.453125| 1.484375| 0.1303201|216000.0|  CAT|\n",
            "|1962-11-07 00:00:00|   1.4375| 0.0|   1.4375|1.4583334|0.12803373|182400.0|  CAT|\n",
            "+-------------------+---------+----+---------+---------+----------+--------+-----+\n",
            "\n"
          ]
        }
      ]
    },
    {
      "cell_type": "code",
      "source": [
        "zero_entries_vol.show()"
      ],
      "metadata": {
        "colab": {
          "base_uri": "https://localhost:8080/"
        },
        "id": "meyQ_ZDMeV09",
        "outputId": "3c90e3d2-fac2-45ff-b3d2-2b66669cf707"
      },
      "execution_count": 18,
      "outputs": [
        {
          "output_type": "stream",
          "name": "stdout",
          "text": [
            "+-------------------+----+----------+----------+----------+------------+------+-----+\n",
            "|               date|open|      high|       low|     close|   adj_close|volume|stock|\n",
            "+-------------------+----+----------+----------+----------+------------+------+-----+\n",
            "|1962-05-18 00:00:00| 0.0| 1.6679688| 1.6484375| 1.6679688| 0.015032374|   0.0|  XOM|\n",
            "|1962-05-24 00:00:00| 0.0| 1.6328125| 1.6171875| 1.6289062|  0.01468032|   0.0|  XOM|\n",
            "|1962-09-28 00:00:00| 0.0|0.15914352| 0.1574074|0.15914352| 4.514184E-7|   0.0|  JNJ|\n",
            "|1962-05-08 00:00:00| 0.0| 1.7265625| 1.7109375| 1.7148438| 0.015285846|   0.0|  XOM|\n",
            "|1962-01-02 00:00:00| 0.0|0.22337963|0.22222222|0.22337963| 6.281419E-7|   0.0|  JNJ|\n",
            "|1962-05-14 00:00:00| 0.0|  1.640625| 1.5820312| 1.6328125| 0.014715531|   0.0|  XOM|\n",
            "|1962-05-28 00:00:00| 0.0|    1.5625| 1.4179688|    1.4375| 0.012955305|   0.0|  XOM|\n",
            "|1962-05-25 00:00:00| 0.0| 1.6328125|  1.578125|   1.59375|  0.01436349|   0.0|  XOM|\n",
            "|1962-05-29 00:00:00| 0.0|   1.59375| 1.4179688| 1.5898438| 0.014328282|   0.0|  XOM|\n",
            "|1962-05-02 00:00:00| 0.0| 1.7148438| 1.6992188| 1.7148438| 0.015285846|   0.0|  XOM|\n",
            "|1962-05-31 00:00:00| 0.0| 1.6328125|  1.609375|     1.625| 0.014645126|   0.0|  XOM|\n",
            "|1962-05-16 00:00:00| 0.0| 1.6953125|  1.671875| 1.6796875|0.0151379965|   0.0|  XOM|\n",
            "|1962-05-07 00:00:00| 0.0| 1.7148438| 1.7070312| 1.7148438| 0.015285846|   0.0|  XOM|\n",
            "|1962-05-10 00:00:00| 0.0|    1.6875| 1.6640625| 1.6679688| 0.015032374|   0.0|  XOM|\n",
            "|1962-05-15 00:00:00| 0.0| 1.6914062| 1.6445312| 1.6796875|0.0151379965|   0.0|  XOM|\n",
            "|1962-05-01 00:00:00| 0.0| 1.6992188| 1.6601562| 1.6992188| 0.015146574|   0.0|  XOM|\n",
            "|1962-05-11 00:00:00| 0.0|  1.671875| 1.6445312| 1.6445312| 0.014821144|   0.0|  XOM|\n",
            "|1962-05-17 00:00:00| 0.0| 1.6796875| 1.6484375| 1.6640625|  0.01499716|   0.0|  XOM|\n",
            "|1962-05-21 00:00:00| 0.0|   1.65625| 1.6445312|   1.65625| 0.014926753|   0.0|  XOM|\n",
            "|1962-05-23 00:00:00| 0.0| 1.6367188| 1.6171875| 1.6210938| 0.014609924|   0.0|  XOM|\n",
            "+-------------------+----+----------+----------+----------+------------+------+-----+\n",
            "only showing top 20 rows\n",
            "\n"
          ]
        }
      ]
    },
    {
      "cell_type": "code",
      "source": [
        "df.where([df['open'] == 0 | df['volume'] == 0]).show()"
      ],
      "metadata": {
        "id": "ZL13C1oofuR_"
      },
      "execution_count": null,
      "outputs": []
    },
    {
      "cell_type": "markdown",
      "metadata": {
        "id": "vkhN6qw8uZdW"
      },
      "source": [
        "> ℹ️ **Instructions** ℹ️\n",
        ">\n",
        "> Once you have identified the column that needs to undergo imputation, update the values for the affected records by using the average value for the affected stock.\n",
        ">\n",
        ">*You may use as many coding cells as necessary.*"
      ]
    },
    {
      "cell_type": "code",
      "execution_count": 23,
      "metadata": {
        "id": "6O-xabf_uZdW",
        "colab": {
          "base_uri": "https://localhost:8080/"
        },
        "outputId": "03b5935f-b336-493e-ce36-998f5eacec3f"
      },
      "outputs": [
        {
          "output_type": "stream",
          "name": "stdout",
          "text": [
            "+----+----+----+---+-----+---------+------+-----+\n",
            "|date|open|high|low|close|adj_close|volume|stock|\n",
            "+----+----+----+---+-----+---------+------+-----+\n",
            "+----+----+----+---+-----+---------+------+-----+\n",
            "\n"
          ]
        }
      ],
      "source": [
        "#TODO: Write your code here\n",
        "\n",
        "df = df.withColumn('open',F.when(F.col('open')==0, df.agg(F.avg('open')).collect()[0][0]).otherwise(F.col('open')))\n",
        "df.filter(df['open'] == 0).show()"
      ]
    },
    {
      "cell_type": "markdown",
      "metadata": {
        "id": "z9_vcakRuZdW"
      },
      "source": [
        "\n",
        "## Consistency\n",
        "\n",
        "Consistency is the absence of difference when comparing two or more representations of a thing against a reference.\n",
        "\n",
        "Data entries that refer to the same record or entity have to be consistent across all entries, e.g., if you are dealing with records from a logger in the field, the entries for that logger have to remain consistent, and the name or primary key of that logger cannot change from one entry to another.\n",
        "\n",
        "For example, 'Logger1', 'Loger1' and 'Logge1' are examples of inconsistent keys.\n",
        "\n",
        "This is not just within a single table but also becomes more important if you are dealing with relational data. In which case, the mappings between tables and systems must be consistent. If not, the relationships will be completely lost between the tables and referential integrity compromised.\n",
        "\n",
        "- **Measured by**: Analysis of pattern and/or value frequency;\n",
        "- **Units**: Percentage;\n",
        "- **Related to**: Accuracy, Validity, and Uniqueness."
      ]
    },
    {
      "cell_type": "markdown",
      "metadata": {
        "id": "qVXuAKBjuZdW"
      },
      "source": [
        "> ℹ️ **Instructions** ℹ️\n",
        ">\n",
        "> There currently exists a stock that has inconsistent naming. Make use of the metadata to determine which stock is inconsistently named, then update the dataframe appropriately to get rid of this inconsistency.\n",
        ">\n",
        ">*You may use as many coding cells as necessary.*"
      ]
    },
    {
      "cell_type": "code",
      "source": [
        "df_meta.select('Security Name').distinct().count(),df_meta.select('NASDAQ Symbol').distinct().count()"
      ],
      "metadata": {
        "colab": {
          "base_uri": "https://localhost:8080/"
        },
        "id": "a3sUGpswpFwI",
        "outputId": "e1ff0d6b-cdf6-4b4a-8446-70fb2ea25a17"
      },
      "execution_count": 104,
      "outputs": [
        {
          "output_type": "execute_result",
          "data": {
            "text/plain": [
              "(8045, 8049)"
            ]
          },
          "metadata": {},
          "execution_count": 104
        }
      ]
    },
    {
      "cell_type": "code",
      "source": [
        "tickers = []\n",
        "for row in df_meta.select('Symbol').toLocalIterator():\n",
        "    tickers.append(row[0])\n",
        "print(tickers)"
      ],
      "metadata": {
        "colab": {
          "base_uri": "https://localhost:8080/"
        },
        "id": "4wtjXiurI1KW",
        "outputId": "568803af-ad68-44db-9039-2d2bb5ae6d50"
      },
      "execution_count": 50,
      "outputs": [
        {
          "output_type": "stream",
          "name": "stdout",
          "text": [
            "['A', 'AA', 'AAAU', 'AACG', 'AADR', 'AAL', 'AAMC', 'AAME', 'AAN', 'AAOI', 'AAON', 'AAP', 'AAPL', 'AAT', 'AAU', 'AAWW', 'AAXJ', 'AAXN', 'AB', 'ABB', 'ABBV', 'ABC', 'ABCB', 'ABEO', 'ABEQ', 'ABEV', 'ABG', 'ABIO', 'ABM', 'ABMD', 'ABR', 'ABT', 'ABTX', 'ABUS', 'AC', 'ACA', 'ACAD', 'ACAM', 'ACAMU', 'ACB', 'ACBI', 'ACC', 'ACCO', 'ACEL', 'ACER', 'ACES', 'ACGL', 'ACGLO', 'ACGLP', 'ACH', 'ACHC', 'ACHV', 'ACIA', 'ACIO', 'ACIU', 'ACIW', 'ACLS', 'ACM', 'ACMR', 'ACN', 'ACNB', 'ACOR', 'ACP', 'ACRE', 'ACRS', 'ACRX', 'ACSG', 'ACSI', 'ACST', 'ACT', 'ACTG', 'ACTT', 'ACTTU', 'ACU', 'ACV', 'ACWF', 'ACWI', 'ACWV', 'ACWX', 'ACY', 'ADAP', 'ADBE', 'ADC', 'ADES', 'ADI', 'ADIL', 'ADM', 'ADMA', 'ADME', 'ADMP', 'ADMS', 'ADNT', 'ADP', 'ADPT', 'ADRE', 'ADRO', 'ADS', 'ADSK', 'ADSW', 'ADT', 'ADTN', 'ADUS', 'ADVM', 'ADX', 'ADXN', 'ADXS', 'AE', 'AEB', 'AEE', 'AEF', 'AEFC', 'AEG', 'AEGN', 'AEHR', 'AEIS', 'AEL', 'AEM', 'AEMD', 'AEO', 'AEP', 'AER', 'AERI', 'AES', 'AESE', 'AESR', 'AEY', 'AEYE', 'AEZS', 'AFB', 'AFC', 'AFG', 'AFGC', 'AFGH', 'AFH', 'AFI', 'AFIF', 'AFIN', 'AFINP', 'AFK', 'AFL', 'AFLG', 'AFMC', 'AFMD', 'AFSM', 'AFT', 'AFTY', 'AFYA', 'AG', 'AGBA', 'AGBAU', 'AGCO', 'AGD', 'AGE', 'AGEN', 'AGFS', 'AGG', 'AGGP', 'AGGY', 'AGI', 'AGIO', 'AGLE', 'AGM', 'AGM$A', 'AGMH', 'AGN', 'AGNC', 'AGNCM', 'AGNCN', 'AGNCO', 'AGNCP', 'AGND', 'AGO', 'AGQ', 'AGR', 'AGRO', 'AGRX', 'AGS', 'AGT', 'AGTC', 'AGX', 'AGYS', 'AGZ', 'AGZD', 'AHC', 'AHCO', 'AHH', 'AHPI', 'AHT', 'AI', 'AIA', 'AIC', 'AIEQ', 'AIF', 'AIG', 'AIH', 'AIHS', 'AIIQ', 'AIKI', 'AIM', 'AIMC', 'AIMT', 'AIN', 'AINC', 'AINV', 'AIO', 'AIQ', 'AIR', 'AIRG', 'AIRI', 'AIRR', 'AIRT', 'AIRTP', 'AIT', 'AIV', 'AIW', 'AIZ', 'AIZP', 'AJG', 'AJRD', 'AJX', 'AJXA', 'AKAM', 'AKBA', 'AKCA', 'AKER', 'AKG', 'AKR', 'AKRO', 'AKRX', 'AKTS', 'AKTX', 'AL', 'ALAC', 'ALACR', 'ALACU', 'ALB', 'ALBO', 'ALC', 'ALCO', 'ALDX', 'ALE', 'ALEC', 'ALEX', 'ALFA', 'ALG', 'ALGN', 'ALGR', 'ALGRU', 'ALGT', 'ALIM', 'ALJJ', 'ALK', 'ALKS', 'ALL', 'ALLE', 'ALLK', 'ALLO', 'ALLT', 'ALLY', 'ALNA', 'ALNY', 'ALO', 'ALOT', 'ALPN', 'ALRM', 'ALRN', 'ALRS', 'ALSK', 'ALSN', 'ALT', 'ALTG', 'ALTM', 'ALTR', 'ALTS', 'ALTY', 'ALUS', 'ALV', 'ALX', 'ALXN', 'ALYA', 'AM', 'AMAG', 'AMAL', 'AMAT', 'AMBA', 'AMBC', 'AMBO', 'AMC', 'AMCA', 'AMCI', 'AMCIU', 'AMCR', 'AMCX', 'AMD', 'AME', 'AMED', 'AMEH', 'AMG', 'AMGN', 'AMH', 'AMHC', 'AMHCU', 'AMJ', 'AMK', 'AMKR', 'AMLP', 'AMN', 'AMNB', 'AMOM', 'AMOT', 'AMOV', 'AMP', 'AMPE', 'AMPH', 'AMPY', 'AMRB', 'AMRC', 'AMRH', 'AMRK', 'AMRN', 'AMRS', 'AMRX', 'AMS', 'AMSC', 'AMSF', 'AMSWA', 'AMT', 'AMTB', 'AMTBB', 'AMTD', 'AMTX', 'AMU', 'AMUB', 'AMWD', 'AMX', 'AMZA', 'AMZN', 'AN', 'ANAB', 'ANAT', 'ANCN', 'ANDA', 'ANDAU', 'ANDE', 'ANET', 'ANF', 'ANGI', 'ANGL', 'ANGO', 'ANH', 'ANIK', 'ANIP', 'ANIX', 'ANPC', 'ANSS', 'ANTE', 'ANTM', 'ANVS', 'ANY', 'AOA', 'AOBC', 'AOD', 'AOK', 'AOM', 'AON', 'AOR', 'AOS', 'AOSL', 'AP', 'APA', 'APAM', 'APD', 'APDN', 'APEI', 'APEN', 'APEX', 'APH', 'APHA', 'APLE', 'APLS', 'APLT', 'APM', 'APO', 'APOG', 'APOP', 'APPF', 'APPN', 'APPS', 'APRE', 'APRN', 'APT', 'APTO', 'APTS', 'APTV', 'APTX', 'APVO', 'APWC', 'APXT', 'APXTU', 'APY', 'APYX', 'AQB', 'AQMS', 'AQN', 'AQNA', 'AQNB', 'AQST', 'AQUA', 'AR', 'ARA', 'ARAV', 'ARAY', 'ARC', 'ARCB', 'ARCC', 'ARCE', 'ARCH', 'ARCM', 'ARCO', 'ARCT', 'ARD', 'ARDC', 'ARDS', 'ARDX', 'ARE', 'AREC', 'ARES', 'ARGD', 'ARGO', 'ARGT', 'ARGX', 'ARI', 'ARKF', 'ARKG', 'ARKK', 'ARKQ', 'ARKR', 'ARKW', 'ARL', 'ARLO', 'ARLP', 'ARMK', 'ARMP', 'ARMR', 'ARNA', 'ARNC', 'AROC', 'AROW', 'ARPO', 'ARQT', 'ARR', 'ARTL', 'ARTNA', 'ARTW', 'ARVN', 'ARW', 'ARWR', 'ARYA', 'ARYAU', 'ASA', 'ASB', 'ASC', 'ASEA', 'ASET', 'ASFI', 'ASG', 'ASGN', 'ASH', 'ASHR', 'ASHS', 'ASHX', 'ASIX', 'ASLN', 'ASM', 'ASMB', 'ASML', 'ASNA', 'ASND', 'ASPN', 'ASPS', 'ASPU', 'ASR', 'ASRT', 'ASRV', 'ASRVP', 'ASTC', 'ASTE', 'ASUR', 'ASX', 'ASYS', 'AT', 'ATAX', 'ATCO', 'ATCX', 'ATEC', 'ATEN', 'ATEX', 'ATGE', 'ATH', 'ATHE', 'ATHM', 'ATHX', 'ATI', 'ATIF', 'ATKR', 'ATLC', 'ATLO', 'ATMP', 'ATNI', 'ATNM', 'ATNX', 'ATO', 'ATOM', 'ATOS', 'ATR', 'ATRA', 'ATRC', 'ATRI', 'ATRO', 'ATRS', 'ATSG', 'ATTO', 'ATUS', 'ATV', 'ATVI', 'ATXI', 'AU', 'AUB', 'AUBN', 'AUDC', 'AUG', 'AUMN', 'AUPH', 'AUSF', 'AUTL', 'AUTO', 'AUY', 'AVA', 'AVAL', 'AVAV', 'AVB', 'AVCO', 'AVD', 'AVDE', 'AVDL', 'AVDV', 'AVEM', 'AVEO', 'AVGO', 'AVGOP', 'AVGR', 'AVH', 'AVID', 'AVK', 'AVLR', 'AVNS', 'AVNW', 'AVRO', 'AVT', 'AVTR', 'AVUS', 'AVUV', 'AVXL', 'AVY', 'AVYA', 'AWAY', 'AWF', 'AWI', 'AWK', 'AWP', 'AWR', 'AWRE', 'AWTM', 'AWX', 'AX', 'AXAS', 'AXDX', 'AXE', 'AXGN', 'AXGT', 'AXJL', 'AXL', 'AXLA', 'AXNX', 'AXO', 'AXP', 'AXR', 'AXS', 'AXSM', 'AXTA', 'AXTI', 'AXU', 'AY', 'AYI', 'AYTU', 'AYX', 'AZN', 'AZO', 'AZPN', 'AZRE', 'AZRX', 'AZUL', 'AZZ', 'B', 'BA', 'BAB', 'BABA', 'BAC', 'BAF', 'BAH', 'BAK', 'BAL', 'BAM', 'BANC', 'BAND', 'BANF', 'BANFP', 'BANR', 'BANX', 'BAP', 'BAPR', 'BAR', 'BASI', 'BATL', 'BATRA', 'BATRK', 'BATT', 'BAUG', 'BAX', 'BB', 'BBAR', 'BBAX', 'BBBY', 'BBC', 'BBCA', 'BBCP', 'BBD', 'BBDC', 'BBDO', 'BBEU', 'BBF', 'BBGI', 'BBH', 'BBI', 'BBIN', 'BBIO', 'BBJP', 'BBK', 'BBL', 'BBN', 'BBP', 'BBQ', 'BBRE', 'BBSA', 'BBSI', 'BBU', 'BBUS', 'BBVA', 'BBW', 'BBX', 'BBY', 'BC', 'BCBP', 'BCC', 'BCD', 'BCDA', 'BCE', 'BCEI', 'BCEL', 'BCH', 'BCI', 'BCLI', 'BCM', 'BCML', 'BCO', 'BCOM', 'BCOR', 'BCOV', 'BCOW', 'BCPC', 'BCRX', 'BCS', 'BCSF', 'BCTF', 'BCV', 'BCX', 'BCYC', 'BDC', 'BDCS', 'BDCY', 'BDCZ', 'BDEC', 'BDGE', 'BDJ', 'BDL', 'BDN', 'BDR', 'BDRY', 'BDSI', 'BDTX', 'BDX', 'BDXA', 'BE', 'BEAM', 'BEAT', 'BECN', 'BEDU', 'BELFA', 'BELFB', 'BEN', 'BEP', 'BERY', 'BEST', 'BFAM', 'BFC', 'BFEB', 'BFIN', 'BFIT', 'BFK', 'BFO', 'BFOR', 'BFRA', 'BFS', 'BFST', 'BFY', 'BFYT', 'BFZ', 'BG', 'BGB', 'BGCP', 'BGFV', 'BGG', 'BGH', 'BGI', 'BGIO', 'BGNE', 'BGR', 'BGRN', 'BGS', 'BGSF', 'BGT', 'BGX', 'BGY', 'BH', 'BHAT', 'BHB', 'BHC', 'BHE', 'BHF', 'BHFAL', 'BHFAP', 'BHK', 'BHLB', 'BHP', 'BHR', 'BHTG', 'BHV', 'BHVN', 'BIB', 'BIBL', 'BICK', 'BIDU', 'BIF', 'BIG', 'BIIB', 'BIL', 'BILI', 'BILL', 'BIMI', 'BIO', 'BIOC', 'BIOL', 'BIOX', 'BIP', 'BIS', 'BIT', 'BITA', 'BIV', 'BIZD', 'BJ', 'BJAN', 'BJK', 'BJRI', 'BJUL', 'BJUN', 'BK', 'BKCC', 'BKD', 'BKE', 'BKEP', 'BKEPP', 'BKF', 'BKH', 'BKI', 'BKK', 'BKLN', 'BKN', 'BKNG', 'BKR', 'BKSC', 'BKT', 'BKTI', 'BKU', 'BKYI', 'BL', 'BLBD', 'BLCM', 'BLCN', 'BLD', 'BLDP', 'BLDR', 'BLE', 'BLES', 'BLFS', 'BLHY', 'BLIN', 'BLK', 'BLKB', 'BLL', 'BLMN', 'BLNK', 'BLOK', 'BLPH', 'BLRX', 'BLU', 'BLUE', 'BLV', 'BLW', 'BLX', 'BMA', 'BMAR', 'BMCH', 'BME', 'BMEZ', 'BMI', 'BMLP', 'BMO', 'BMRA', 'BMRC', 'BMRN', 'BMTC', 'BMY', 'BND', 'BNDC', 'BNDW', 'BNDX', 'BNED', 'BNFT', 'BNGO', 'BNKD', 'BNKO', 'BNKU', 'BNKZ', 'BNO', 'BNOV', 'BNS', 'BNSO', 'BNTC', 'BNTX', 'BNY', 'BOCH', 'BOCT', 'BOE', 'BOH', 'BOIL', 'BOKF', 'BOKFL', 'BOMN', 'BOND', 'BOOM', 'BOOT', 'BORR', 'BOSC', 'BOSS', 'BOTJ', 'BOTZ', 'BOUT', 'BOX', 'BOXL', 'BP', 'BPFH', 'BPMC', 'BPMP', 'BPMX', 'BPOP', 'BPOPM', 'BPOPN', 'BPRN', 'BPT', 'BPTH', 'BPY', 'BPYPN', 'BPYPO', 'BPYPP', 'BPYU', 'BPYUP', 'BQH', 'BR', 'BRBR', 'BRBS', 'BRC', 'BREW', 'BRF', 'BRFS', 'BRG', 'BRID', 'BRKL', 'BRKR', 'BRKS', 'BRMK', 'BRN', 'BRO', 'BROG', 'BRP', 'BRPA', 'BRPAR', 'BRPAU', 'BRQS', 'BRT', 'BRX', 'BRY', 'BRZU', 'BSA', 'BSAC', 'BSAE', 'BSBE', 'BSBK', 'BSBR', 'BSCE', 'BSCK', 'BSCL', 'BSCM', 'BSCN', 'BSCO', 'BSCP', 'BSCQ', 'BSCR', 'BSCS', 'BSCT', 'BSD', 'BSDE', 'BSE', 'BSEP', 'BSET', 'BSGM', 'BSIG', 'BSJK', 'BSJL', 'BSJM', 'BSJN', 'BSJO', 'BSJP', 'BSJQ', 'BSJR', 'BSL', 'BSM', 'BSML', 'BSMM', 'BSMN', 'BSMO', 'BSMP', 'BSMQ', 'BSMR', 'BSMS', 'BSMT', 'BSMX', 'BSQR', 'BSRR', 'BST', 'BSTC', 'BSTZ', 'BSV', 'BSVN', 'BSX', 'BTA', 'BTAI', 'BTAL', 'BTE', 'BTEC', 'BTG', 'BTI', 'BTN', 'BTO', 'BTT', 'BTU', 'BTYS', 'BTZ', 'BUD', 'BUG', 'BUI', 'BUL', 'BURL', 'BUSE', 'BUY', 'BUYN', 'BUYZ', 'BV', 'BVAL', 'BVN', 'BVSN', 'BVXV', 'BW', 'BWA', 'BWAY', 'BWB', 'BWEN', 'BWFG', 'BWG', 'BWMX', 'BWX', 'BWXT', 'BWZ', 'BX', 'BXC', 'BXG', 'BXMT', 'BXMX', 'BXP', 'BXRX', 'BXS', 'BY', 'BYD', 'BYFC', 'BYLD', 'BYM', 'BYND', 'BYSI', 'BZH', 'BZM', 'BZQ', 'BZUN', 'C', 'CAAP', 'CAAS', 'CABA', 'CABO', 'CAC', 'CACC', 'CACG', 'CACI', 'CADE', 'CAE', 'CAF', 'CAG', 'CAH', 'CAI', 'CAJ', 'CAKE', 'CAL', 'CALA', 'CALB', 'CALF', 'CALM', 'CALX', 'CAMP', 'CAMT', 'CAN', 'CANE', 'CANF', 'CANG', 'CAPE', 'CAPL', 'CAPR', 'CAR', 'CARA', 'CARE', 'CARG', 'CARO', 'CARR.V', 'CARS', 'CARV', 'CARZ', 'CASA', 'CASH', 'CASI', 'CASS', 'CASY', 'CAT', 'CATB', 'CATC', 'CATH', 'CATM', 'CATO', 'CATS', 'CATY', 'CB', 'CBAN', 'CBAT', 'CBAY', 'CBB', 'CBD', 'CBFV', 'CBH', 'CBIO', 'CBL', 'CBLI', 'CBMB', 'CBMG', 'CBNK', 'CBOE', 'CBON', 'CBPO', 'CBRE', 'CBRL', 'CBSH', 'CBSHP', 'CBT', 'CBTX', 'CBU', 'CBZ', 'CC', 'CCAP', 'CCB', 'CCBG', 'CCC', 'CCCL', 'CCD', 'CCEP', 'CCF', 'CCH', 'CCI', 'CCJ', 'CCK', 'CCL', 'CCLP', 'CCM', 'CCMP', 'CCNE', 'CCO', 'CCOI', 'CCOR', 'CCR', 'CCRC', 'CCRN', 'CCS', 'CCU', 'CCX', 'CCXI', 'CCZ', 'CDAY', 'CDC', 'CDE', 'CDEV', 'CDK', 'CDL', 'CDLX', 'CDMO', 'CDMOP', 'CDNA', 'CDNS', 'CDOR', 'CDR', 'CDTX', 'CDW', 'CDXC', 'CDXS', 'CDZI', 'CE', 'CEA', 'CECE', 'CEE', 'CEF', 'CEFS', 'CEI', 'CEIX', 'CEL', 'CELC', 'CELH', 'CELP', 'CEM', 'CEMB', 'CEMI', 'CEN', 'CENT', 'CENTA', 'CENX', 'CEO', 'CEPU', 'CEQP', 'CERC', 'CERN', 'CERS', 'CET', 'CETV', 'CETX', 'CETXP', 'CEV', 'CEVA', 'CEW', 'CEY', 'CEZ', 'CF', 'CFA', 'CFB', 'CFBI', 'CFBK', 'CFFA', 'CFFAU', 'CFFI', 'CFFN', 'CFG', 'CFMS', 'CFO', 'CFR', 'CFRX', 'CFX', 'CFXA', 'CG', 'CGA', 'CGBD', 'CGC', 'CGEN', 'CGIX', 'CGNX', 'CGO', 'CGW', 'CHA', 'CHAD', 'CHAP', 'CHAU', 'CHCI', 'CHCO', 'CHCT', 'CHD', 'CHDN', 'CHE', 'CHEF', 'CHEK', 'CHEP', 'CHFS', 'CHGG', 'CHGX', 'CHH', 'CHI', 'CHIC', 'CHIE', 'CHIH', 'CHII', 'CHIK', 'CHIL', 'CHIM', 'CHIQ', 'CHIR', 'CHIS', 'CHIU', 'CHIX', 'CHK', 'CHKP', 'CHL', 'CHMA', 'CHMG', 'CHMI', 'CHN', 'CHNA', 'CHNG', 'CHNGU', 'CHNR', 'CHPM', 'CHPMU', 'CHRA', 'CHRS', 'CHRW', 'CHS', 'CHSCL', 'CHSCM', 'CHSCN', 'CHSCO', 'CHSCP', 'CHT', 'CHTR', 'CHU', 'CHUY', 'CHW', 'CHWY', 'CHY', 'CI', 'CIA', 'CIB', 'CIBR', 'CID', 'CIDM', 'CIEN', 'CIF', 'CIFS', 'CIG', 'CIGI', 'CIH', 'CII', 'CIIC', 'CIICU', 'CIK', 'CIL', 'CIM', 'CINF', 'CINR', 'CIO', 'CIR', 'CIT', 'CIVB', 'CIX', 'CIZ', 'CIZN', 'CJJD', 'CKH', 'CKPT', 'CKX', 'CL', 'CLAR', 'CLB', 'CLBK', 'CLBS', 'CLCT', 'CLDB', 'CLDR', 'CLDT', 'CLDX', 'CLF', 'CLFD', 'CLGN', 'CLGX', 'CLH', 'CLI', 'CLIR', 'CLIX', 'CLLS', 'CLM', 'CLMT', 'CLNC', 'CLNE', 'CLNY', 'CLOU', 'CLPR', 'CLPS', 'CLPT', 'CLR', 'CLRB', 'CLRG', 'CLRO', 'CLS', 'CLSD', 'CLSK', 'CLSN', 'CLTL', 'CLUB', 'CLVS', 'CLW', 'CLWT', 'CLX', 'CLXT', 'CM', 'CMA', 'CMBM', 'CMBS', 'CMC', 'CMCL', 'CMCM', 'CMCO', 'CMCSA', 'CMCT', 'CMCTP', 'CMD', 'CMDY', 'CME', 'CMF', 'CMG', 'CMI', 'CMLS', 'CMO', 'CMP', 'CMPR', 'CMRE', 'CMRX', 'CMS', 'CMSA', 'CMSC', 'CMSD', 'CMT', 'CMTL', 'CMU', 'CN', 'CNA', 'CNAT', 'CNBKA', 'CNBS', 'CNC', 'CNCE', 'CNCR', 'CNDT', 'CNET', 'CNF', 'CNFR', 'CNFRL', 'CNHI', 'CNI', 'CNK', 'CNMD', 'CNNB', 'CNNE', 'CNO', 'CNOB', 'CNP', 'CNQ', 'CNR', 'CNRG', 'CNS', 'CNSL', 'CNSP', 'CNST', 'CNTG', 'CNTY', 'CNX', 'CNXM', 'CNXN', 'CNXT', 'CNYA', 'CO', 'COCP', 'CODA', 'CODI', 'CODX', 'COE', 'COF', 'COFS', 'COG', 'COHN', 'COHR', 'COHU', 'COKE', 'COLB', 'COLD', 'COLL', 'COLM', 'COM', 'COMB', 'COMM', 'COMT', 'CONE', 'CONN', 'COO', 'COOP', 'COP', 'COPX', 'COR', 'CORE', 'CORN', 'CORP', 'CORR', 'CORT', 'CORV', 'COST', 'COTY', 'COUP', 'COW', 'COWN', 'COWNL', 'COWNZ', 'COWZ', 'CP', 'CPA', 'CPAA', 'CPAAU', 'CPAC', 'CPAH', 'CPB', 'CPE', 'CPER', 'CPF', 'CPG', 'CPHC', 'CPHI', 'CPI', 'CPIX', 'CPK', 'CPLG', 'CPLP', 'CPRI', 'CPRT', 'CPRX', 'CPS', 'CPSH', 'CPSI', 'CPSS', 'CPST', 'CPT', 'CPTA', 'CPTAG', 'CPTAL', 'CPZ', 'CQP', 'CQQQ', 'CR', 'CRAI', 'CRAK', 'CRBN', 'CRBP', 'CRC', 'CREE', 'CREG', 'CRESY', 'CREX', 'CRF', 'CRH', 'CRHM', 'CRI', 'CRIS', 'CRK', 'CRL', 'CRM', 'CRMD', 'CRMT', 'CRNC', 'CRNT', 'CRNX', 'CROC', 'CRON', 'CROP', 'CROX', 'CRS', 'CRSA', 'CRSAU', 'CRSP', 'CRT', 'CRTO', 'CRTX', 'CRUS', 'CRVL', 'CRVS', 'CRWD', 'CRWS', 'CRY', 'CS', 'CSA', 'CSB', 'CSBR', 'CSCO', 'CSD', 'CSF', 'CSFL', 'CSGP', 'CSGS', 'CSII', 'CSIQ', 'CSL', 'CSLT', 'CSM', 'CSML', 'CSOD', 'CSPI', 'CSPR', 'CSQ', 'CSSE', 'CSSEP', 'CSTE', 'CSTL', 'CSTM', 'CSTR', 'CSU', 'CSV', 'CSWC', 'CSWCL', 'CSWI', 'CSX', 'CTAA', 'CTAS', 'CTB', 'CTBB', 'CTBI', 'CTDD', 'CTEK', 'CTG', 'CTHR', 'CTIB', 'CTIC', 'CTK', 'CTL', 'CTLT', 'CTMX', 'CTO', 'CTR', 'CTRA', 'CTRC', 'CTRE', 'CTRM', 'CTRN', 'CTS', 'CTSH', 'CTSO', 'CTT', 'CTV', 'CTVA', 'CTXR', 'CTXS', 'CTY', 'CTZ', 'CUB', 'CUBA', 'CUBB', 'CUBE', 'CUBI', 'CUE', 'CUI', 'CUK', 'CULP', 'CUO', 'CURE', 'CURO', 'CUT', 'CUTR', 'CUZ', 'CVA', 'CVBF', 'CVCO', 'CVCY', 'CVE', 'CVEO', 'CVET', 'CVGI', 'CVGW', 'CVI', 'CVIA', 'CVLT', 'CVLY', 'CVM', 'CVNA', 'CVR', 'CVS', 'CVTI', 'CVU', 'CVV', 'CVX', 'CVY', 'CW', 'CWB', 'CWBC', 'CWBR', 'CWCO', 'CWEB', 'CWEN', 'CWH', 'CWI', 'CWK', 'CWS', 'CWST', 'CWT', 'CX', 'CXDC', 'CXE', 'CXH', 'CXO', 'CXP', 'CXSE', 'CXW', 'CY', 'CYAD', 'CYAN', 'CYB', 'CYBE', 'CYBR', 'CYCC', 'CYCCP', 'CYCN', 'CYD', 'CYH', 'CYOU', 'CYRN', 'CYRX', 'CYTK', 'CZA', 'CZNC', 'CZR', 'CZWI', 'CZZ', 'D', 'DAC', 'DAIO', 'DAKT', 'DAL', 'DALI', 'DALT', 'DAN', 'DAO', 'DAR', 'DARE', 'DAUD', 'DAUG', 'DAVA', 'DAX', 'DB', 'DBA', 'DBAW', 'DBB', 'DBC', 'DBD', 'DBE', 'DBEF', 'DBEH', 'DBEM', 'DBEU', 'DBEZ', 'DBGR', 'DBI', 'DBJP', 'DBL', 'DBLV', 'DBMF', 'DBO', 'DBP', 'DBS', 'DBV', 'DBVT', 'DBX', 'DCAR', 'DCF', 'DCHF', 'DCI', 'DCO', 'DCOM', 'DCOMP', 'DCP', 'DCPH', 'DCUE', 'DD', 'DDD', 'DDF', 'DDG', 'DDIV', 'DDLS', 'DDM', 'DDOG', 'DDS', 'DDT', 'DDWM', 'DE', 'DEA', 'DEAC', 'DEACU', 'DECK', 'DEEF', 'DEF', 'DEFA', 'DEI', 'DELL', 'DEM', 'DENN', 'DEO', 'DES', 'DESP', 'DEUR', 'DEUS', 'DEW', 'DEX', 'DFE', 'DFEB', 'DFEN', 'DFFN', 'DFIN', 'DFJ', 'DFND', 'DFNL', 'DFNS', 'DFP', 'DFS', 'DFVL', 'DFVS', 'DG', 'DGAZ', 'DGBP', 'DGICA', 'DGICB', 'DGII', 'DGL', 'DGLD', 'DGLY', 'DGP', 'DGRE', 'DGRO', 'DGRS', 'DGRW', 'DGS', 'DGT', 'DGX', 'DGZ', 'DHC', 'DHCNI', 'DHF', 'DHI', 'DHIL', 'DHR', 'DHS', 'DHT', 'DHX', 'DHY', 'DIA', 'DIAL', 'DIAX', 'DIET', 'DIG', 'DIM', 'DIN', 'DINT', 'DIOD', 'DIS', 'DISCA', 'DISCB', 'DISCK', 'DISH', 'DIT', 'DIV', 'DIVA', 'DIVB', 'DIVC', 'DIVO', 'DIVY', 'DJCB', 'DJCI', 'DJCO', 'DJD', 'DJP', 'DJPY', 'DK', 'DKL', 'DKS', 'DL', 'DLA', 'DLB', 'DLBR', 'DLHC', 'DLN', 'DLNG', 'DLPH', 'DLPN', 'DLR', 'DLS', 'DLTH', 'DLTR', 'DLX', 'DLY', 'DMAC', 'DMB', 'DMDV', 'DMF', 'DMLP', 'DMO', 'DMPI', 'DMRC', 'DMRE', 'DMRI', 'DMRL', 'DMRM', 'DMRS', 'DMTK', 'DNI', 'DNJR', 'DNK', 'DNKN', 'DNL', 'DNLI', 'DNN', 'DNOV', 'DNOW', 'DNP', 'DNR', 'DO', 'DOC', 'DOCU', 'DOG', 'DOGS', 'DOGZ', 'DOL', 'DOMO', 'DON', 'DOO', 'DOOO', 'DOOR', 'DORM', 'DOV', 'DOW', 'DOX', 'DOYU', 'DPG', 'DPHC', 'DPHCU', 'DPST', 'DPW', 'DPZ', 'DQ', 'DRAD', 'DRADP', 'DRD', 'DRE', 'DRH', 'DRI', 'DRIO', 'DRIP', 'DRIV', 'DRN', 'DRNA', 'DRQ', 'DRR', 'DRRX', 'DRSK', 'DRTT', 'DRUA', 'DRV', 'DRW', 'DS', 'DSE', 'DSGX', 'DSI', 'DSKE', 'DSL', 'DSLV', 'DSM', 'DSPG', 'DSS', 'DSSI', 'DSTL', 'DSU', 'DSWL', 'DSX', 'DT', 'DTD', 'DTE', 'DTEA', 'DTEC', 'DTF', 'DTH', 'DTIL', 'DTJ', 'DTN', 'DTO', 'DTP', 'DTQ', 'DTSS', 'DTUL', 'DTUS', 'DTW', 'DTY', 'DTYL', 'DUC', 'DUG', 'DUK', 'DUKB', 'DUKH', 'DUO', 'DUOT', 'DURA', 'DUSA', 'DUSL', 'DUST', 'DVA', 'DVAX', 'DVD', 'DVLU', 'DVN', 'DVOL', 'DVOP', 'DVP', 'DVY', 'DVYA', 'DVYE', 'DWAS', 'DWAT', 'DWAW', 'DWCR', 'DWEQ', 'DWFI', 'DWLD', 'DWM', 'DWMC', 'DWMF', 'DWPP', 'DWSH', 'DWSN', 'DWT', 'DWUS', 'DWX', 'DX', 'DXB', 'DXC', 'DXCM', 'DXD', 'DXF', 'DXGE', 'DXJ', 'DXJS', 'DXLG', 'DXPE', 'DXR', 'DXYN', 'DY', 'DYAI', 'DYLS', 'DYNF', 'DYNT', 'DZK', 'DZSI', 'DZZ', 'E', 'EA', 'EAB', 'EAD', 'EAE', 'EAF', 'EAGG', 'EAI', 'EARN', 'EARS', 'EASG', 'EASI', 'EAST', 'EAT', 'EB', 'EBAY', 'EBAYL', 'EBF', 'EBIX', 'EBIZ', 'EBMT', 'EBND', 'EBR', 'EBS', 'EBSB', 'EBTC', 'EC', 'ECC', 'ECCB', 'ECCX', 'ECCY', 'ECF', 'ECH', 'ECHO', 'ECL', 'ECLN', 'ECNS', 'ECOL', 'ECOM', 'ECON', 'ECOR', 'ECOW', 'ECOZ', 'ECPG', 'ECT', 'ED', 'EDAP', 'EDC', 'EDD', 'EDEN', 'EDF', 'EDI', 'EDIT', 'EDIV', 'EDN', 'EDNT', 'EDOG', 'EDOW', 'EDRY', 'EDSA', 'EDU', 'EDUC', 'EDV', 'EDZ', 'EE', 'EEA', 'EEFT', 'EEH', 'EELV', 'EEM', 'EEMA', 'EEMD', 'EEMO', 'EEMS', 'EEMV', 'EEMX', 'EES', 'EET', 'EEV', 'EEX', 'EFA', 'EFAD', 'EFAS', 'EFAV', 'EFAX', 'EFC', 'EFF', 'EFG', 'EFL', 'EFNL', 'EFO', 'EFOI', 'EFR', 'EFSC', 'EFT', 'EFU', 'EFV', 'EFX', 'EFZ', 'EGAN', 'EGBN', 'EGF', 'EGHT', 'EGIF', 'EGLE', 'EGO', 'EGOV', 'EGP', 'EGPT', 'EGRX', 'EGY', 'EH', 'EHC', 'EHI', 'EHT', 'EHTH', 'EIC', 'EIDO', 'EIDX', 'EIG', 'EIGI', 'EIGR', 'EIM', 'EINC', 'EIRL', 'EIS', 'EIX', 'EJAN', 'EJUL', 'EKAR', 'EKSO', 'EL', 'ELA', 'ELAN', 'ELAT', 'ELC', 'ELD', 'ELF', 'ELGX', 'ELJ', 'ELLO', 'ELMD', 'ELOX', 'ELP', 'ELS', 'ELSE', 'ELTK', 'ELU', 'ELVT', 'ELY', 'EMAG', 'EMAN', 'EMB', 'EMBH', 'EMCB', 'EMCF', 'EMCG', 'EMD', 'EMDV', 'EME', 'EMF', 'EMFM', 'EMGF', 'EMHY', 'EMIF', 'EMIH', 'EMKR', 'EML', 'EMLC', 'EMLP', 'EMMF', 'EMMS', 'EMN', 'EMNT', 'EMO', 'EMP', 'EMQQ', 'EMR', 'EMSG', 'EMSH', 'EMTL', 'EMTY', 'EMX', 'EMXC', 'ENB', 'ENBA', 'ENBL', 'ENDP', 'ENFR', 'ENG', 'ENIA', 'ENIC', 'ENJ', 'ENLC', 'ENLV', 'ENO', 'ENOB', 'ENOR', 'ENPH', 'ENR', 'ENS', 'ENSG', 'ENSV', 'ENT', 'ENTA', 'ENTG', 'ENTR', 'ENTX', 'ENV', 'ENVA', 'ENX', 'ENZ', 'ENZL', 'EOD', 'EOG', 'EOI', 'EOLS', 'EOS', 'EOT', 'EPAC', 'EPAM', 'EPAY', 'EPC', 'EPD', 'EPHE', 'EPI', 'EPIX', 'EPM', 'EPOL', 'EPP', 'EPR', 'EPRF', 'EPRT', 'EPS', 'EPSN', 'EPU', 'EPV', 'EPZM', 'EQ', 'EQAL', 'EQBK', 'EQC', 'EQH', 'EQIX', 'EQL', 'EQM', 'EQNR', 'EQR', 'EQRR', 'EQS', 'EQT', 'EQWL', 'EQX', 'ERA', 'ERC', 'ERF', 'ERH', 'ERI', 'ERIC', 'ERIE', 'ERII', 'ERJ', 'ERM', 'EROS', 'ERSX', 'ERUS', 'ERX', 'ERY', 'ERYP', 'ES', 'ESBA', 'ESBK', 'ESCA', 'ESE', 'ESEA', 'ESG', 'ESGD', 'ESGE', 'ESGG', 'ESGN', 'ESGR', 'ESGRO', 'ESGRP', 'ESGS', 'ESGU', 'ESGV', 'ESI', 'ESLT', 'ESML', 'ESNG', 'ESNT', 'ESP', 'ESPO', 'ESPR', 'ESQ', 'ESRT', 'ESS', 'ESSA', 'ESSC', 'ESSCU', 'ESTA', 'ESTC', 'ESTE', 'ESXB', 'ET', 'ETB', 'ETFC', 'ETG', 'ETH', 'ETHO', 'ETJ', 'ETM', 'ETN', 'ETNB', 'ETO', 'ETON', 'ETR', 'ETRN', 'ETSY', 'ETTX', 'ETV', 'ETW', 'ETX', 'ETY', 'EUDG', 'EUDV', 'EUFN', 'EUFX', 'EUM', 'EUMF', 'EUMV', 'EUO', 'EURL', 'EURN', 'EURZ', 'EUSA', 'EUSC', 'EV', 'EVA', 'EVBG', 'EVBN', 'EVC', 'EVER', 'EVF', 'EVFM', 'EVG', 'EVGBC', 'EVGN', 'EVH', 'EVI', 'EVIX', 'EVK', 'EVLMC', 'EVLO', 'EVM', 'EVN', 'EVOK', 'EVOL', 'EVOP', 'EVR', 'EVRG', 'EVRI', 'EVSI', 'EVSTC', 'EVT', 'EVTC', 'EVV', 'EVX', 'EVY', 'EW', 'EWA', 'EWBC', 'EWC', 'EWCO', 'EWD', 'EWG', 'EWGS', 'EWH', 'EWI', 'EWJ', 'EWJE', 'EWJV', 'EWK', 'EWL', 'EWM', 'EWMC', 'EWN', 'EWO', 'EWP', 'EWQ', 'EWRE', 'EWS', 'EWSC', 'EWT', 'EWU', 'EWUS', 'EWV', 'EWW', 'EWX', 'EWY', 'EWZ', 'EWZS', 'EXAS', 'EXC', 'EXD', 'EXEL', 'EXFO', 'EXG', 'EXI', 'EXIV', 'EXK', 'EXLS', 'EXP', 'EXPC', 'EXPCU', 'EXPD', 'EXPE', 'EXPI', 'EXPO', 'EXPR', 'EXR', 'EXTN', 'EXTR', 'EYE', 'EYEG', 'EYEN', 'EYES', 'EYLD', 'EYPT', 'EZA', 'EZJ', 'EZM', 'EZPW', 'EZT', 'EZU', 'F', 'FAAR', 'FAB', 'FAD', 'FAF', 'FALN', 'FAM', 'FAMI', 'FAN', 'FANG', 'FANH', 'FARM', 'FARO', 'FAS', 'FAST', 'FAT', 'FATE', 'FAUG', 'FAUS', 'FAX', 'FAZ', 'FB', 'FBC', 'FBGX', 'FBHS', 'FBIO', 'FBIOP', 'FBIZ', 'FBK', 'FBM', 'FBMS', 'FBNC', 'FBND', 'FBP', 'FBSS', 'FBT', 'FBZ', 'FC', 'FCA', 'FCAL', 'FCAN', 'FCAP', 'FCAU', 'FCBC', 'FCBP', 'FCCO', 'FCCY', 'FCEF', 'FCEL', 'FCF', 'FCFS', 'FCG', 'FCN', 'FCNCA', 'FCNCP', 'FCO', 'FCOM', 'FCOR', 'FCPI', 'FCPT', 'FCT', 'FCTR', 'FCVT', 'FCX', 'FDBC', 'FDD', 'FDEF', 'FDEM', 'FDEU', 'FDEV', 'FDG', 'FDHY', 'FDIS', 'FDIV', 'FDL', 'FDLO', 'FDM', 'FDMO', 'FDN', 'FDNI', 'FDP', 'FDRR', 'FDS', 'FDT', 'FDTS', 'FDUS', 'FDUSG', 'FDUSZ', 'FDVV', 'FDX', 'FE', 'FEDU', 'FEI', 'FEIM', 'FELE', 'FEM', 'FEMB', 'FEMS', 'FEN', 'FENC', 'FENG', 'FENY', 'FEO', 'FEP', 'FET', 'FEUL', 'FEUZ', 'FEX', 'FEYE', 'FEZ', 'FF', 'FFA', 'FFBC', 'FFBW', 'FFC', 'FFEB', 'FFEU', 'FFG', 'FFHG', 'FFHL', 'FFIC', 'FFIN', 'FFIU', 'FFIV', 'FFNW', 'FFR', 'FFSG', 'FFTG', 'FFTI', 'FFTY', 'FFWM', 'FG', 'FGB', 'FGBI', 'FGD', 'FGEN', 'FGM', 'FHB', 'FHI', 'FHK', 'FHLC', 'FHN', 'FI', 'FIBK', 'FIBR', 'FICO', 'FID', 'FIDI', 'FIDU', 'FIEE', 'FIF', 'FIHD', 'FILL', 'FINS', 'FINV', 'FINX', 'FIS', 'FISI', 'FISK', 'FISR', 'FISV', 'FIT', 'FITB', 'FITBI', 'FITBO', 'FITBP', 'FITE', 'FIV', 'FIVA', 'FIVE', 'FIVG', 'FIVN', 'FIW', 'FIX', 'FIXD', 'FIXX', 'FIYY', 'FIZZ', 'FJNK', 'FJP', 'FKO', 'FKU', 'FL', 'FLAG', 'FLAT', 'FLAU', 'FLAX', 'FLBL', 'FLBR', 'FLC', 'FLCA', 'FLCB', 'FLCH', 'FLCO', 'FLDM', 'FLDR', 'FLEE', 'FLEH', 'FLEU', 'FLEX', 'FLFR', 'FLGB', 'FLGE', 'FLGR', 'FLGT', 'FLHK', 'FLHY', 'FLIA', 'FLIC', 'FLIN', 'FLIR', 'FLIY', 'FLJH', 'FLJP', 'FLKR', 'FLL', 'FLLA', 'FLLV', 'FLM', 'FLMB', 'FLMI', 'FLMN', 'FLMX', 'FLN', 'FLNG', 'FLNT', 'FLO', 'FLOT', 'FLOW', 'FLQD', 'FLQE', 'FLQG', 'FLQH', 'FLQL', 'FLQM', 'FLQS', 'FLR', 'FLRN', 'FLRT', 'FLRU', 'FLS', 'FLSA', 'FLSP', 'FLSW', 'FLT', 'FLTB', 'FLTR', 'FLTW', 'FLWS', 'FLXN', 'FLXS', 'FLY', 'FLYT', 'FLZA', 'FM', 'FMAO', 'FMAT', 'FMB', 'FMBH', 'FMBI', 'FMC', 'FMCI', 'FMCIU', 'FMF', 'FMHI', 'FMK', 'FMN', 'FMNB', 'FMO', 'FMS', 'FMX', 'FMY', 'FN', 'FNB', 'FNCB', 'FNCL', 'FND', 'FNDA', 'FNDB', 'FNDC', 'FNDE', 'FNDF', 'FNDX', 'FNF', 'FNGD', 'FNGO', 'FNGS', 'FNGU', 'FNGZ', 'FNHC', 'FNI', 'FNJN', 'FNK', 'FNKO', 'FNLC', 'FNOV', 'FNV', 'FNWB', 'FNX', 'FNY', 'FOCS', 'FOE', 'FOF', 'FOLD', 'FONR', 'FOR', 'FORD', 'FORK', 'FORM', 'FORR', 'FORTY', 'FOSL', 'FOVL', 'FOX', 'FOXA', 'FOXF', 'FPA', 'FPAC', 'FPAY', 'FPE', 'FPEI', 'FPF', 'FPH', 'FPI', 'FPL', 'FPRX', 'FPX', 'FPXE', 'FPXI', 'FQAL', 'FR', 'FRA', 'FRAF', 'FRAK', 'FRAN', 'FRBA', 'FRBK', 'FRC', 'FRD', 'FRDM', 'FREL', 'FREQ', 'FRG', 'FRGI', 'FRHC', 'FRI', 'FRLG', 'FRME', 'FRO', 'FRPH', 'FRPT', 'FRSX', 'FRT', 'FRTA', 'FSB', 'FSBC', 'FSBW', 'FSCT', 'FSD', 'FSEA', 'FSFG', 'FSI', 'FSK', 'FSLR', 'FSLY', 'FSM', 'FSMB', 'FSMD', 'FSP', 'FSRV', 'FSRVU', 'FSS', 'FSTA', 'FSTR', 'FSV', 'FSZ', 'FT', 'FTA', 'FTAC', 'FTACU', 'FTAG', 'FTAI', 'FTC', 'FTCH', 'FTCS', 'FTDR', 'FTEC', 'FTEK', 'FTF', 'FTFT', 'FTGC', 'FTHI', 'FTI', 'FTK', 'FTLB', 'FTLS', 'FTNT', 'FTR', 'FTRI', 'FTS', 'FTSD', 'FTSI', 'FTSL', 'FTSM', 'FTSV', 'FTV', 'FTXD', 'FTXG', 'FTXH', 'FTXL', 'FTXN', 'FTXO', 'FTXR', 'FUD', 'FUE', 'FUL', 'FULC', 'FULT', 'FUMB', 'FUN', 'FUNC', 'FUND', 'FUSB', 'FUT', 'FUTU', 'FUTY', 'FUV', 'FV', 'FVAL', 'FVC', 'FVCB', 'FVD', 'FVE', 'FVL', 'FVRR', 'FWDB', 'FWONA', 'FWONK', 'FWP', 'FWRD', 'FXA', 'FXB', 'FXC', 'FXD', 'FXE', 'FXF', 'FXG', 'FXH', 'FXI', 'FXL', 'FXN', 'FXNC', 'FXO', 'FXP', 'FXR', 'FXU', 'FXY', 'FXZ', 'FYC', 'FYLD', 'FYT', 'FYX', 'G', 'GAA', 'GAB', 'GABC', 'GAIA', 'GAIN', 'GAINL', 'GAINM', 'GAL', 'GALT', 'GAM', 'GAMR', 'GARS', 'GASS', 'GATX', 'GAZ', 'GBAB', 'GBCI', 'GBDC', 'GBDV', 'GBF', 'GBIL', 'GBL', 'GBLI', 'GBLIZ', 'GBR', 'GBT', 'GBUG', 'GBUY', 'GBX', 'GCAP', 'GCBC', 'GCC', 'GCE', 'GCI', 'GCO', 'GCOW', 'GCP', 'GCV', 'GD', 'GDAT', 'GDDY', 'GDEN', 'GDL', 'GDMA', 'GDNA', 'GDO', 'GDOT', 'GDP', 'GDS', 'GDV', 'GDVD', 'GDX', 'GDXJ', 'GDYN', 'GE', 'GEC', 'GECC', 'GECCN', 'GEF', 'GEL', 'GEM', 'GEN', 'GENC', 'GENE', 'GENY', 'GEO', 'GEOS', 'GER', 'GERN', 'GES', 'GEVO', 'GF', 'GFED', 'GFF', 'GFI', 'GFIN', 'GFL', 'GFLU', 'GFN', 'GFNCP', 'GFY', 'GGAL', 'GGB', 'GGG', 'GGM', 'GGN', 'GGO', 'GGT', 'GGZ', 'GH', 'GHC', 'GHG', 'GHIV', 'GHIVU', 'GHL', 'GHM', 'GHSI', 'GHY', 'GHYB', 'GHYG', 'GIB', 'GIFI', 'GIGB', 'GIGE', 'GIGM', 'GII', 'GIII', 'GIL', 'GILD', 'GILT', 'GIM', 'GIS', 'GIX', 'GJH', 'GJO', 'GJP', 'GJR', 'GJS', 'GJT', 'GKOS', 'GL', 'GLAD', 'GLADD', 'GLADL', 'GLBS', 'GLBY', 'GLBZ', 'GLD', 'GLDD', 'GLDI', 'GLDM', 'GLEO', 'GLG', 'GLIBA', 'GLIBP', 'GLIF', 'GLL', 'GLMD', 'GLNG', 'GLO', 'GLOB', 'GLOG', 'GLOP', 'GLP', 'GLPG', 'GLPI', 'GLQ', 'GLRE', 'GLT', 'GLTR', 'GLU', 'GLUU', 'GLV', 'GLW', 'GLYC', 'GM', 'GMAB', 'GMAN', 'GMDA', 'GME', 'GMED', 'GMF', 'GMHI', 'GMHIU', 'GMLP', 'GMLPP', 'GMO', 'GMOM', 'GMRE', 'GMS', 'GMTA', 'GMZ', 'GNAF', 'GNC', 'GNCA', 'GNE', 'GNFT', 'GNK', 'GNL', 'GNLN', 'GNMA', 'GNMK', 'GNOM', 'GNPX', 'GNR', 'GNRC', 'GNRSU', 'GNSS', 'GNT', 'GNTX', 'GNTY', 'GNUS', 'GNW', 'GO', 'GOAT', 'GOAU', 'GOEX', 'GOF', 'GOGL', 'GOGO', 'GOL', 'GOLD', 'GOLF', 'GOOD', 'GOODM', 'GOODN', 'GOOG', 'GOOGL', 'GOOS', 'GORO', 'GOSS', 'GOVT', 'GPAQ', 'GPAQU', 'GPC', 'GPI', 'GPJA', 'GPK', 'GPL', 'GPM', 'GPMT', 'GPN', 'GPOR', 'GPP', 'GPRE', 'GPRK', 'GPRO', 'GPS', 'GPX', 'GQRE', 'GRA', 'GRAF', 'GRAM', 'GRBK', 'GRC', 'GREK', 'GRES', 'GRF', 'GRFS', 'GRID', 'GRIF', 'GRIL', 'GRIN', 'GRMN', 'GRN', 'GRNB', 'GRNQ', 'GRNV', 'GRNVU', 'GROW', 'GRPN', 'GRTS', 'GRTX', 'GRU', 'GRUB', 'GRVY', 'GRWG', 'GRX', 'GS', 'GSAT', 'GSB', 'GSBC', 'GSBD', 'GSC', 'GSEU', 'GSEW', 'GSG', 'GSH', 'GSHD', 'GSIE', 'GSIT', 'GSJY', 'GSK', 'GSKY', 'GSL', 'GSLC', 'GSLD', 'GSM', 'GSMG', 'GSP', 'GSS', 'GSSC', 'GSST', 'GSUM', 'GSV', 'GSX', 'GSY', 'GT', 'GTE', 'GTEC', 'GTES', 'GTHX', 'GTIM', 'GTIP', 'GTLS', 'GTN', 'GTO', 'GTS', 'GTT', 'GTX', 'GTY', 'GTYH', 'GUDB', 'GULF', 'GUNR', 'GURE', 'GURU', 'GUSH', 'GUT', 'GV', 'GVA', 'GVAL', 'GVI', 'GVIP', 'GVP', 'GWB', 'GWGH', 'GWPH', 'GWRE', 'GWRS', 'GWW', 'GWX', 'GXC', 'GXF', 'GXG', 'GXGX', 'GXGXU', 'GXTG', 'GYC', 'GYLD', 'GYRO', 'H', 'HA', 'HACK', 'HAE', 'HAFC', 'HAIL', 'HAIN', 'HAL', 'HALL', 'HALO', 'HAP', 'HAPP', 'HARP', 'HAS', 'HASI', 'HAUD', 'HAUZ', 'HAWX', 'HAYN', 'HBAN', 'HBANN', 'HBANO', 'HBB', 'HBCP', 'HBI', 'HBIO', 'HBM', 'HBMD', 'HBNC', 'HBP', 'HBT', 'HCA', 'HCAC', 'HCACU', 'HCAP', 'HCAT', 'HCC', 'HCCH', 'HCCHU', 'HCCI', 'HCCO', 'HCCOU', 'HCFT', 'HCHC', 'HCI', 'HCKT', 'HCM', 'HCR', 'HCRB', 'HCSG', 'HCXY', 'HCXZ', 'HD', 'HDAW', 'HDB', 'HDEF', 'HDG', 'HDGE', 'HDIV', 'HDLB', 'HDMV', 'HDS', 'HDSN', 'HDV', 'HE', 'HEAR', 'HEBT', 'HECO', 'HEDJ', 'HEEM', 'HEES', 'HEFA', 'HEI', 'HELE', 'HELX', 'HEP', 'HEPA', 'HEQ', 'HERD', 'HERO', 'HES', 'HESM', 'HEWC', 'HEWG', 'HEWI', 'HEWJ', 'HEWL', 'HEWP', 'HEWU', 'HEWW', 'HEWY', 'HEXO', 'HEZU', 'HFBL', 'HFC', 'HFFG', 'HFRO', 'HFWA', 'HFXE', 'HFXI', 'HFXJ', 'HGH', 'HGLB', 'HGSH', 'HGV', 'HHC', 'HHHH', 'HHHHU', 'HHR', 'HHS', 'HHT', 'HI', 'HIBB', 'HIBL', 'HIBS', 'HIE', 'HIFS', 'HIG', 'HIHO', 'HII', 'HIL', 'HIMX', 'HIO', 'HIPS', 'HIW', 'HIX', 'HJLI', 'HJLIW', 'HJPX', 'HJV', 'HKIB', 'HL', 'HLAL', 'HLF', 'HLG', 'HLI', 'HLIO', 'HLIT', 'HLNE', 'HLT', 'HLX', 'HMC', 'HMG', 'HMHC', 'HMI', 'HMLP', 'HMN', 'HMNF', 'HMOP', 'HMST', 'HMSY', 'HMTV', 'HMY', 'HNDL', 'HNGR', 'HNI', 'HNNA', 'HNP', 'HNRG', 'HNW', 'HOFT', 'HOG', 'HOLD', 'HOLI', 'HOLX', 'HOMB', 'HOME', 'HOMZ', 'HON', 'HONE', 'HOOK', 'HOPE', 'HOTH', 'HOV', 'HOVNP', 'HP', 'HPE', 'HPF', 'HPI', 'HPP', 'HPQ', 'HPR', 'HPS', 'HQH', 'HQI', 'HQL', 'HQY', 'HR', 'HRB', 'HRC', 'HRI', 'HRL', 'HROW', 'HRTG', 'HRTX', 'HRZN', 'HSBC', 'HSC', 'HSCZ', 'HSDT', 'HSIC', 'HSII', 'HSKA', 'HSON', 'HSPX', 'HSRT', 'HST', 'HSTM', 'HSY', 'HT', 'HTA', 'HTAB', 'HTBI', 'HTBK', 'HTBX', 'HTD', 'HTEC', 'HTFA', 'HTGC', 'HTGM', 'HTH', 'HTHT', 'HTIA', 'HTLD', 'HTLF', 'HTRB', 'HTUS', 'HTY', 'HTZ', 'HUBB', 'HUBG', 'HUBS', 'HUD', 'HUGE', 'HUIZ', 'HUM', 'HUN', 'HURC', 'HURN', 'HUSA', 'HUSE', 'HUSV', 'HUYA', 'HVBC', 'HVT', 'HWBK', 'HWC', 'HWCC', 'HWCPL', 'HWKN', 'HX', 'HXL', 'HY', 'HYAC', 'HYACU', 'HYB', 'HYD', 'HYDB', 'HYDW', 'HYEM', 'HYG', 'HYGH', 'HYGV', 'HYHG', 'HYI', 'HYIH', 'HYLB', 'HYLD', 'HYLS', 'HYLV', 'HYMB', 'HYND', 'HYRE', 'HYS', 'HYT', 'HYTR', 'HYUP', 'HYXE', 'HYXU', 'HYZD', 'HZN', 'HZNP', 'HZO', 'I', 'IAA', 'IAC', 'IAE', 'IAF', 'IAG', 'IAGG', 'IAI', 'IAK', 'IART', 'IAT', 'IAU', 'IAUF', 'IBA', 'IBB', 'IBCE', 'IBCP', 'IBD', 'IBDD', 'IBDL', 'IBDM', 'IBDN', 'IBDO', 'IBDP', 'IBDQ', 'IBDR', 'IBDS', 'IBDT', 'IBDU', 'IBHA', 'IBHB', 'IBHC', 'IBHD', 'IBHE', 'IBIO', 'IBKC', 'IBKCN', 'IBKCO', 'IBKCP', 'IBKR', 'IBM', 'IBMI', 'IBMJ', 'IBMK', 'IBML', 'IBMM', 'IBMN', 'IBMO', 'IBMP', 'IBMQ', 'IBN', 'IBND', 'IBOC', 'IBP', 'IBTE', 'IBTF', 'IBTG', 'IBTH', 'IBTI', 'IBTJ', 'IBTX', 'IBUY', 'ICAD', 'ICBK', 'ICCC', 'ICCH', 'ICD', 'ICE', 'ICF', 'ICFI', 'ICHR', 'ICL', 'ICLK', 'ICLN', 'ICLR', 'ICMB', 'ICOL', 'ICON', 'ICOW', 'ICPT', 'ICSH', 'ICUI', 'ICVT', 'IDA', 'IDCC', 'IDE', 'IDEV', 'IDEX', 'IDHD', 'IDHQ', 'IDIV', 'IDLB', 'IDLV', 'IDMO', 'IDN', 'IDNA', 'IDOG', 'IDRA', 'IDRV', 'IDT', 'IDU', 'IDV', 'IDX', 'IDXG', 'IDXX', 'IDY', 'IDYA', 'IEA', 'IEC', 'IECS', 'IEDI', 'IEF', 'IEFA', 'IEFN', 'IEHS', 'IEI', 'IEIH', 'IEME', 'IEMG', 'IEO', 'IEP', 'IESC', 'IETC', 'IEUR', 'IEUS', 'IEV', 'IEX', 'IEZ', 'IFEU', 'IFF', 'IFFT', 'IFGL', 'IFLY', 'IFMK', 'IFN', 'IFRA', 'IFRX', 'IFS', 'IFV', 'IG', 'IGA', 'IGBH', 'IGC', 'IGD', 'IGE', 'IGEB', 'IGF', 'IGHG', 'IGI', 'IGIB', 'IGIC', 'IGIH', 'IGLB', 'IGM', 'IGMS', 'IGN', 'IGOV', 'IGR', 'IGRO', 'IGSB', 'IGT', 'IGV', 'IHAK', 'IHC', 'IHD', 'IHDG', 'IHE', 'IHF', 'IHG', 'IHI', 'IHIT', 'IHRT', 'IHT', 'IHTA', 'IHY', 'IID', 'IIF', 'IIGD', 'IIGV', 'III', 'IIIN', 'IIIV', 'IIM', 'IIN', 'IIPR', 'IIVI', 'IJAN', 'IJH', 'IJJ', 'IJK', 'IJR', 'IJS', 'IJT', 'IJUL', 'IKNX', 'ILF', 'ILMN', 'ILPT', 'ILTB', 'IMAB', 'IMAC', 'IMAX', 'IMBI', 'IMGN', 'IMH', 'IMKTA', 'IMLP', 'IMMP', 'IMMR', 'IMMU', 'IMO', 'IMOM', 'IMOS', 'IMRA', 'IMRN', 'IMTB', 'IMTE', 'IMTM', 'IMUX', 'IMV', 'IMVT', 'IMVTU', 'IMXI', 'INBK', 'INBKL', 'INBKZ', 'INCO', 'INCY', 'INDA', 'INDB', 'INDL', 'INDO', 'INDS', 'INDY', 'INFI', 'INFN', 'INFO', 'INFR', 'INFU', 'INFY', 'ING', 'INGN', 'INGR', 'INKM', 'INMB', 'INMD', 'INN', 'INNT', 'INO', 'INOD', 'INOV', 'INPX', 'INS', 'INSE', 'INSG', 'INSI', 'INSM', 'INSP', 'INSU', 'INSUU', 'INSW', 'INT', 'INTC', 'INTF', 'INTG', 'INTL', 'INTT', 'INTU', 'INUV', 'INVA', 'INVE', 'INVH', 'INWK', 'IO', 'IONS', 'IOO', 'IOR', 'IOSP', 'IOTS', 'IOVA', 'IP', 'IPAC', 'IPAR', 'IPAY', 'IPB', 'IPDN', 'IPFF', 'IPG', 'IPGP', 'IPHA', 'IPHI', 'IPI', 'IPKW', 'IPLDP', 'IPO', 'IPOS', 'IPV', 'IPWR', 'IQ', 'IQDE', 'IQDF', 'IQDG', 'IQDY', 'IQI', 'IQIN', 'IQLT', 'IQM', 'IQSI', 'IQSU', 'IQV', 'IR', 'IRBO', 'IRBT', 'IRCP', 'IRDM', 'IRET', 'IRIX', 'IRL', 'IRM', 'IRMD', 'IROQ', 'IRR', 'IRS', 'IRT', 'IRTC', 'IRWD', 'ISBC', 'ISCF', 'ISD', 'ISDR', 'ISDS', 'ISDX', 'ISEE', 'ISEM', 'ISHG', 'ISIG', 'ISMD', 'ISNS', 'ISR', 'ISRA', 'ISRG', 'ISSC', 'ISTB', 'ISTR', 'ISZE', 'IT', 'ITA', 'ITB', 'ITCB', 'ITCI', 'ITEQ', 'ITGR', 'ITI', 'ITIC', 'ITM', 'ITMR', 'ITOT', 'ITP', 'ITRI', 'ITRM', 'ITRN', 'ITT', 'ITUB', 'ITW', 'IUS', 'IUSB', 'IUSG', 'IUSS', 'IUSV', 'IVAC', 'IVAL', 'IVC', 'IVE', 'IVH', 'IVLU', 'IVOG', 'IVOL', 'IVOO', 'IVOV', 'IVR', 'IVV', 'IVW', 'IVZ', 'IWB', 'IWC', 'IWD', 'IWF', 'IWL', 'IWM', 'IWN', 'IWO', 'IWP', 'IWR', 'IWS', 'IWV', 'IWX', 'IWY', 'IX', 'IXC', 'IXG', 'IXJ', 'IXN', 'IXP', 'IXSE', 'IXUS', 'IYC', 'IYE', 'IYF', 'IYG', 'IYH', 'IYJ', 'IYK', 'IYLD', 'IYM', 'IYR', 'IYT', 'IYW', 'IYY', 'IYZ', 'IZEA', 'IZRL', 'J', 'JACK', 'JAGG', 'JAGX', 'JAKK', 'JAN', 'JAX', 'JAZZ', 'JBGS', 'JBHT', 'JBK', 'JBL', 'JBLU', 'JBN', 'JBR', 'JBSS', 'JBT', 'JCAP', 'JCE', 'JCI', 'JCO', 'JCOM', 'JCP', 'JCPB', 'JCS', 'JCTCF', 'JD', 'JDD', 'JDIV', 'JDST', 'JE', 'JEF', 'JELD', 'JEMD', 'JEQ', 'JETS', 'JFIN', 'JFK', 'JFKKU', 'JFR', 'JFU', 'JG', 'JGH', 'JHAA', 'JHB', 'JHCS', 'JHEM', 'JHG', 'JHI', 'JHMA', 'JHMC', 'JHMD', 'JHME', 'JHMF', 'JHMH', 'JHMI', 'JHML', 'JHMM', 'JHMS', 'JHMT', 'JHMU', 'JHS', 'JHSC', 'JHX', 'JHY', 'JIGB', 'JIH', 'JILL', 'JJA', 'JJC', 'JJE', 'JJG', 'JJM', 'JJN', 'JJP', 'JJS', 'JJSF', 'JJT', 'JJU', 'JKD', 'JKE', 'JKF', 'JKG', 'JKH', 'JKHY', 'JKI', 'JKJ', 'JKK', 'JKL', 'JKS', 'JLL', 'JLS', 'JMBS', 'JMEI', 'JMF', 'JMIA', 'JMIN', 'JMLP', 'JMM', 'JMOM', 'JMP', 'JMPNL', 'JMPNZ', 'JMST', 'JMUB', 'JNCE', 'JNJ', 'JNK', 'JNMF', 'JNPR', 'JNUG', 'JO', 'JOB', 'JOBS', 'JOE', 'JOF', 'JOUT', 'JOYY', 'JP', 'JPC', 'JPED', 'JPEM', 'JPEU', 'JPGB', 'JPGE', 'JPHF', 'JPHY', 'JPI', 'JPIN', 'JPLS', 'JPM', 'JPMB', 'JPME', 'JPMF', 'JPMV', 'JPN', 'JPNL', 'JPS', 'JPSE', 'JPST', 'JPT', 'JPUS', 'JPXN', 'JQC', 'JQUA', 'JRI', 'JRJC', 'JRO', 'JRS', 'JRSH', 'JRVR', 'JSD', 'JSM', 'JSMD', 'JSML', 'JT', 'JTA', 'JTD', 'JUST', 'JVA', 'JVAL', 'JWN', 'JXI', 'JYNT', 'K', 'KAI', 'KALA', 'KALL', 'KALU', 'KALV', 'KAMN', 'KAR', 'KARS', 'KB', 'KBA', 'KBAL', 'KBE', 'KBH', 'KBLM', 'KBLMU', 'KBR', 'KBSF', 'KBWB', 'KBWD', 'KBWP', 'KBWR', 'KBWY', 'KCCB', 'KCE', 'KCNY', 'KDFI', 'KDMN', 'KDP', 'KE', 'KELYA', 'KELYB', 'KEM', 'KEMQ', 'KEMX', 'KEN', 'KEP', 'KEQU', 'KERN', 'KEX', 'KEY', 'KEYS', 'KF', 'KFFB', 'KFRC', 'KFS', 'KFY', 'KFYP', 'KGC', 'KGJI', 'KGRN', 'KHC', 'KIDS', 'KIE', 'KIM', 'KIN', 'KINS', 'KIO', 'KIQ', 'KIRK', 'KJAN', 'KKR', 'KL', 'KLAC', 'KLCD', 'KLDO', 'KLDW', 'KLIC', 'KLR', 'KLXE', 'KMB', 'KMDA', 'KMED', 'KMF', 'KMI', 'KMPH', 'KMPR', 'KMT', 'KMX', 'KN', 'KNAB', 'KNDI', 'KNG', 'KNL', 'KNOP', 'KNOW', 'KNSA', 'KNSL', 'KNX', 'KO', 'KOCT', 'KOD', 'KODK', 'KOF', 'KOIN', 'KOL', 'KOLD', 'KOMP', 'KOP', 'KOPN', 'KORP', 'KORU', 'KOS', 'KOSS', 'KPTI', 'KR', 'KRA', 'KRC', 'KRE', 'KREF', 'KRG', 'KRKR', 'KRMA', 'KRMD', 'KRNT', 'KRNY', 'KRO', 'KRP', 'KRTX', 'KRUS', 'KRYS', 'KSA', 'KSCD', 'KSM', 'KSS', 'KSU', 'KT', 'KTB', 'KTCC', 'KTF', 'KTH', 'KTN', 'KTOS', 'KTOV', 'KTP', 'KURA', 'KURE', 'KVHI', 'KW', 'KWEB', 'KWR', 'KXI', 'KXIN', 'KYN', 'KZIA', 'KZR', 'L', 'LABD', 'LABU', 'LAC', 'LACK', 'LACQ', 'LACQU', 'LAD', 'LADR', 'LAIX', 'LAKE', 'LAMR', 'LANC', 'LAND', 'LANDP', 'LARK', 'LASR', 'LATN', 'LATNU', 'LAUR', 'LAWS', 'LAZ', 'LAZY', 'LB', 'LBAI', 'LBC', 'LBJ', 'LBRDA', 'LBRDK', 'LBRT', 'LBTYA', 'LBTYB', 'LBTYK', 'LBY', 'LC', 'LCA', 'LCAHU', 'LCI', 'LCII', 'LCNB', 'LCR', 'LCTX', 'LCUT', 'LD', 'LDEM', 'LDL', 'LDOS', 'LDP', 'LDRS', 'LDSF', 'LDUR', 'LE', 'LEA', 'LEAD', 'LEAF', 'LECO', 'LEDS', 'LEE', 'LEG', 'LEGH', 'LEGR', 'LEJU', 'LEMB', 'LEN', 'LEND', 'LEO', 'LEU', 'LEVI', 'LEVL', 'LFAC', 'LFACU', 'LFC', 'LFEQ', 'LFUS', 'LFVN', 'LGC', 'LGF.B', 'LGH', 'LGI', 'LGIH', 'LGL', 'LGLV', 'LGND', 'LGOV', 'LH', 'LHC', 'LHCG', 'LHX', 'LIFE', 'LII', 'LILA', 'LILAK', 'LIN', 'LINC', 'LIND', 'LINX', 'LIQT', 'LIT', 'LITB', 'LITE', 'LIVE', 'LIVK', 'LIVKU', 'LIVN', 'LIVX', 'LIZI', 'LJPC', 'LK', 'LKCO', 'LKFN', 'LKOR', 'LKQ', 'LL', 'LLEX', 'LLIT', 'LLNW', 'LLY', 'LM', 'LMAT', 'LMB', 'LMBS', 'LMFA', 'LMHA', 'LMHB', 'LMLB', 'LMNL', 'LMNR', 'LMNX', 'LMPX', 'LMRK', 'LMRKN', 'LMRKO', 'LMRKP', 'LMST', 'LMT', 'LN', 'LNC', 'LND', 'LNDC', 'LNG', 'LNGR', 'LNN', 'LNT', 'LNTH', 'LOAC', 'LOACU', 'LOAN', 'LOB', 'LOCO', 'LODE', 'LOGC', 'LOGI', 'LOGM', 'LOMA', 'LONE', 'LOOP', 'LOPE', 'LORL', 'LOUP', 'LOV', 'LOVE', 'LOW', 'LOWC', 'LPCN', 'LPG', 'LPI', 'LPL', 'LPLA', 'LPSN', 'LPTH', 'LPTX', 'LPX', 'LQD', 'LQDA', 'LQDH', 'LQDI', 'LQDT', 'LRCX', 'LRGE', 'LRGF', 'LRN', 'LRNZ', 'LSAF', 'LSBK', 'LSCC', 'LSI', 'LSLT', 'LSST', 'LSTR', 'LSXMA', 'LSXMB', 'LSXMK', 'LTBR', 'LTC', 'LTHM', 'LTL', 'LTM', 'LTPZ', 'LTRPA', 'LTRPB', 'LTRX', 'LUB', 'LULU', 'LUMO', 'LUNA', 'LUV', 'LVGO', 'LVHB', 'LVHD', 'LVHE', 'LVHI', 'LVS', 'LVUS', 'LW', 'LWAY', 'LX', 'LXFR', 'LXP', 'LXRX', 'LXU', 'LYB', 'LYFT', 'LYG', 'LYL', 'LYTS', 'LYV', 'LZB', 'M', 'MA', 'MAA', 'MAAX', 'MAC', 'MACK', 'MAG', 'MAGA', 'MAGS', 'MAIN', 'MAN', 'MANH', 'MANT', 'MANU', 'MAR', 'MARA', 'MARB', 'MARK', 'MARPS', 'MAS', 'MASI', 'MAT', 'MATW', 'MATX', 'MAV', 'MAXR', 'MAYS', 'MBB', 'MBCN', 'MBI', 'MBII', 'MBIN', 'MBINO', 'MBINP', 'MBIO', 'MBNKP', 'MBOT', 'MBRX', 'MBSD', 'MBT', 'MBUU', 'MBWM', 'MC', 'MCA', 'MCB', 'MCBC', 'MCBS', 'MCC', 'MCD', 'MCEF', 'MCEP', 'MCF', 'MCFT', 'MCHI', 'MCHP', 'MCHX', 'MCI', 'MCK', 'MCMJ', 'MCN', 'MCO', 'MCR', 'MCRB', 'MCRI', 'MCRO', 'MCS', 'MCV', 'MCX', 'MCY', 'MD', 'MDB', 'MDC', 'MDCA', 'MDGL', 'MDGS', 'MDIA', 'MDIV', 'MDJH', 'MDLA', 'MDLQ', 'MDLX', 'MDLY', 'MDLZ', 'MDP', 'MDRR', 'MDRRP', 'MDRX', 'MDT', 'MDU', 'MDWD', 'MDY', 'MDYG', 'MDYV', 'MEAR', 'MEC', 'MED', 'MEDP', 'MEDS', 'MEET', 'MEI', 'MEIP', 'MELI', 'MEN', 'MEOH', 'MERC', 'MESA', 'MESO', 'MET', 'METC', 'METX', 'MEXX', 'MFA', 'MFAC', 'MFC', 'MFD', 'MFDX', 'MFEM', 'MFG', 'MFGP', 'MFH', 'MFIN', 'MFINL', 'MFL', 'MFM', 'MFMS', 'MFNC', 'MFO', 'MFSF', 'MFT', 'MFUS', 'MFV', 'MG', 'MGA', 'MGC', 'MGEE', 'MGEN', 'MGF', 'MGI', 'MGIC', 'MGK', 'MGLN', 'MGM', 'MGNX', 'MGP', 'MGPI', 'MGR', 'MGRC', 'MGTA', 'MGTX', 'MGU', 'MGV', 'MGY', 'MGYR', 'MHD', 'MHE', 'MHF', 'MHH', 'MHI', 'MHK', 'MHLA', 'MHLD', 'MHN', 'MHNC', 'MHO', 'MIC', 'MICR', 'MICT', 'MIDD', 'MIDF', 'MIDU', 'MIE', 'MIK', 'MILN', 'MIME', 'MIN', 'MINC', 'MIND', 'MINDP', 'MINI', 'MINT', 'MIRM', 'MIST', 'MITK', 'MITO', 'MITT', 'MIXT', 'MIY', 'MJ', 'MJCO', 'MJJ', 'MJO', 'MKC', 'MKD', 'MKGI', 'MKL', 'MKSI', 'MKTX', 'MLAB', 'MLCO', 'MLHR', 'MLI', 'MLM', 'MLN', 'MLND', 'MLNX', 'MLP', 'MLPA', 'MLPB', 'MLPC', 'MLPE', 'MLPG', 'MLPI', 'MLPO', 'MLPX', 'MLPY', 'MLR', 'MLSS', 'MLTI', 'MLVF', 'MMAC', 'MMC', 'MMD', 'MMI', 'MMIN', 'MMIT', 'MMLP', 'MMM', 'MMP', 'MMS', 'MMSI', 'MMT', 'MMTM', 'MMU', 'MMX', 'MMYT', 'MN', 'MNA', 'MNCL', 'MNCLU', 'MNDO', 'MNE', 'MNK', 'MNKD', 'MNLO', 'MNOV', 'MNP', 'MNPR', 'MNR', 'MNRL', 'MNRO', 'MNSB', 'MNST', 'MNTA', 'MNTX', 'MO', 'MOAT', 'MOBL', 'MOD', 'MODN', 'MOFG', 'MOGO', 'MOGU', 'MOH', 'MOHO', 'MOM', 'MOMO', 'MOO', 'MOR', 'MORF', 'MORN', 'MORT', 'MOS', 'MOSY', 'MOTI', 'MOTO', 'MOTS', 'MOV', 'MOXC', 'MPA', 'MPAA', 'MPB', 'MPC', 'MPLX', 'MPV', 'MPW', 'MPWR', 'MPX', 'MQT', 'MQY', 'MR', 'MRAM', 'MRBK', 'MRC', 'MRCC', 'MRCCL', 'MRCY', 'MREO', 'MRGR', 'MRIN', 'MRK', 'MRKR', 'MRLN', 'MRNA', 'MRNS', 'MRO', 'MRSN', 'MRTN', 'MRTX', 'MRUS', 'MRVL', 'MS', 'MSA', 'MSB', 'MSBF', 'MSBI', 'MSC', 'MSCI', 'MSD', 'MSEX', 'MSFT', 'MSG', 'MSGN', 'MSI', 'MSM', 'MSN', 'MSON', 'MSTR', 'MSUS', 'MSVB', 'MT', 'MTA', 'MTB', 'MTBC', 'MTBCP', 'MTC', 'MTCH', 'MTD', 'MTDR', 'MTEM', 'MTEX', 'MTG', 'MTGP', 'MTH', 'MTL', 'MTLS', 'MTN', 'MTNB', 'MTOR', 'MTP', 'MTR', 'MTRN', 'MTRX', 'MTSC', 'MTSI', 'MTSL', 'MTT', 'MTUM', 'MTW', 'MTX', 'MTZ', 'MU', 'MUA', 'MUB', 'MUC', 'MUDS', 'MUDSU', 'MUE', 'MUFG', 'MUH', 'MUI', 'MUJ', 'MUNI', 'MUR', 'MUS', 'MUSA', 'MUST', 'MUTE', 'MUX', 'MVBF', 'MVC', 'MVCD', 'MVF', 'MVIN', 'MVIS', 'MVO', 'MVT', 'MVV', 'MWA', 'MWK', 'MX', 'MXC', 'MXDE', 'MXDU', 'MXE', 'MXF', 'MXI', 'MXIM', 'MXL', 'MYC', 'MYD', 'MYE', 'MYF', 'MYFW', 'MYGN', 'MYI', 'MYJ', 'MYL', 'MYN', 'MYO', 'MYOK', 'MYOS', 'MYOV', 'MYRG', 'MYSZ', 'MYT', 'MYY', 'MZA', 'MZZ', 'NAC', 'NACP', 'NAD', 'NAII', 'NAIL', 'NAK', 'NAKD', 'NAN', 'NANR', 'NAOV', 'NAT', 'NATH', 'NATI', 'NATR', 'NAV', 'NAVB', 'NAVI', 'NAZ', 'NBACU', 'NBB', 'NBEV', 'NBH', 'NBHC', 'NBIX', 'NBL', 'NBLX', 'NBN', 'NBO', 'NBR', 'NBRV', 'NBSE', 'NBTB', 'NBW', 'NBY', 'NC', 'NCA', 'NCB', 'NCBS', 'NCLH', 'NCMI', 'NCNA', 'NCR', 'NCSM', 'NCTY', 'NCV', 'NCZ', 'NDAQ', 'NDLS', 'NDP', 'NDRA', 'NDSN', 'NE', 'NEA', 'NEAR', 'NEBU', 'NEBUU', 'NEBUW', 'NEE', 'NEED', 'NEM', 'NEN', 'NEO', 'NEOG', 'NEON', 'NEOS', 'NEP', 'NEPH', 'NEPT', 'NERD', 'NERV', 'NES', 'NESR', 'NET', 'NETE', 'NETL', 'NEU', 'NEV', 'NEW', 'NEWA', 'NEWR', 'NEWT', 'NEWTL', 'NEX', 'NEXA', 'NEXT', 'NFBK', 'NFE', 'NFG', 'NFH', 'NFIN', 'NFINU', 'NFJ', 'NFLT', 'NFLX', 'NFRA', 'NFTY', 'NG', 'NGD', 'NGE', 'NGG', 'NGHC', 'NGHCN', 'NGHCO', 'NGHCP', 'NGHCZ', 'NGL', 'NGM', 'NGS', 'NGVC', 'NGVT', 'NH', 'NHA', 'NHC', 'NHF', 'NHI', 'NHLD', 'NHS', 'NHTC', 'NI', 'NIB', 'NICE', 'NICK', 'NID', 'NIE', 'NIM', 'NINE', 'NIO', 'NIQ', 'NIU', 'NJAN', 'NJR', 'NJV', 'NK', 'NKE', 'NKG', 'NKSH', 'NKTR', 'NKX', 'NL', 'NLOK', 'NLR', 'NLS', 'NLSN', 'NLTX', 'NLY', 'NM', 'NMCI', 'NMCO', 'NMFC', 'NMFX', 'NMI', 'NMIH', 'NML', 'NMM', 'NMR', 'NMRD', 'NMRK', 'NMS', 'NMT', 'NMY', 'NMZ', 'NNA', 'NNBR', 'NNDM', 'NNI', 'NNN', 'NNVC', 'NNY', 'NOA', 'NOAH', 'NOBL', 'NOC', 'NOCT', 'NODK', 'NOG', 'NOK', 'NOM', 'NOMD', 'NORW', 'NOV', 'NOVA', 'NOVN', 'NOVT', 'NOW', 'NP', 'NPA', 'NPAUU', 'NPK', 'NPN', 'NPO', 'NPTN', 'NPV', 'NQP', 'NR', 'NRBO', 'NRC', 'NREF', 'NRG', 'NRGD', 'NRGO', 'NRGU', 'NRGX', 'NRGZ', 'NRIM', 'NRK', 'NRO', 'NRP', 'NRT', 'NRUC', 'NRZ', 'NS', 'NSA', 'NSC', 'NSCO', 'NSEC', 'NSIT', 'NSL', 'NSP', 'NSPR', 'NSS', 'NSSC', 'NSTG', 'NSYS', 'NTAP', 'NTB', 'NTCO', 'NTCT', 'NTEC', 'NTES', 'NTG', 'NTGN', 'NTGR', 'NTIC', 'NTIP', 'NTLA', 'NTN', 'NTNX', 'NTP', 'NTR', 'NTRA', 'NTRP', 'NTRS', 'NTRSO', 'NTSX', 'NTUS', 'NTWK', 'NTZ', 'NUAG', 'NUAN', 'NUBD', 'NUDM', 'NUE', 'NUEM', 'NUGT', 'NUHY', 'NULC', 'NULG', 'NULV', 'NUM', 'NUMG', 'NUMV', 'NUO', 'NURE', 'NURO', 'NUS', 'NUSA', 'NUSC', 'NUSI', 'NUV', 'NUVA', 'NUW', 'NVAX', 'NVCN', 'NVCR', 'NVDA', 'NVEC', 'NVEE', 'NVFY', 'NVG', 'NVGS', 'NVIV', 'NVMI', 'NVO', 'NVR', 'NVRO', 'NVS', 'NVST', 'NVT', 'NVTA', 'NVUS', 'NWBI', 'NWE', 'NWFL', 'NWGI', 'NWHM', 'NWL', 'NWLI', 'NWN', 'NWPX', 'NWS', 'NWSA', 'NX', 'NXC', 'NXE', 'NXGN', 'NXJ', 'NXN', 'NXP', 'NXPI', 'NXQ', 'NXR', 'NXRT', 'NXST', 'NXTC', 'NXTD', 'NXTG', 'NYCB', 'NYF', 'NYMT', 'NYMTM', 'NYMTN', 'NYMTO', 'NYMTP', 'NYMX', 'NYT', 'NYV', 'NZF', 'O', 'OAC', 'OAS', 'OBAS', 'OBCI', 'OBLG', 'OBLN', 'OBNK', 'OBOR', 'OBSV', 'OC', 'OCC', 'OCCI', 'OCCIP', 'OCFC', 'OCFT', 'OCGN', 'OCIO', 'OCN', 'OCSI', 'OCSL', 'OCUL', 'OCX', 'ODC', 'ODFL', 'ODP', 'ODT', 'OEC', 'OEF', 'OESX', 'OEUR', 'OFC', 'OFED', 'OFG', 'OFIX', 'OFLX', 'OFS', 'OFSSI', 'OFSSZ', 'OGCP', 'OGE', 'OGEN', 'OGI', 'OGIG', 'OGS', 'OHI', 'OI', 'OIA', 'OIH', 'OII', 'OIIM', 'OIL', 'OILK', 'OILX', 'OIS', 'OKE', 'OKTA', 'OLD', 'OLED', 'OLEM', 'OLLI', 'OLN', 'OLP', 'OMAB', 'OMC', 'OMCL', 'OMER', 'OMEX', 'OMF', 'OMFL', 'OMFS', 'OMI', 'OMP', 'ON', 'ONB', 'ONCS', 'ONCT', 'ONCY', 'ONDK', 'ONE', 'ONEM', 'ONEO', 'ONEQ', 'ONEV', 'ONEW', 'ONEY', 'ONLN', 'ONTO', 'ONTX', 'ONVO', 'OOMA', 'OPB', 'OPBK', 'OPCH', 'OPER', 'OPES', 'OPESU', 'OPGN', 'OPHC', 'OPI', 'OPINI', 'OPK', 'OPNT', 'OPOF', 'OPP', 'OPRA', 'OPRT', 'OPRX', 'OPTN', 'OPTT', 'OPY', 'OR', 'ORA', 'ORAN', 'ORBC', 'ORC', 'ORCC', 'ORCL', 'ORGO', 'ORGS', 'ORI', 'ORLY', 'ORMP', 'ORN', 'ORRF', 'ORSN', 'ORSNU', 'ORTX', 'OSB', 'OSBC', 'OSCV', 'OSG', 'OSIS', 'OSK', 'OSMT', 'OSN', 'OSPN', 'OSS', 'OSTK', 'OSUR', 'OSW', 'OTEL', 'OTEX', 'OTIC', 'OTLK', 'OTTR', 'OTTW', 'OUNZ', 'OUSA', 'OUSM', 'OUT', 'OVB', 'OVBC', 'OVF', 'OVID', 'OVL', 'OVLY', 'OVM', 'OVS', 'OVV', 'OXBR', 'OXFD', 'OXLC', 'OXLCM', 'OXLCO', 'OXLCP', 'OXM', 'OXSQ', 'OXSQL', 'OXSQZ', 'OXY', 'OYST', 'OZK', 'PAA', 'PAAC', 'PAACU', 'PAAS', 'PAC', 'PACA', 'PACB', 'PACD', 'PACK', 'PACQ', 'PACQU', 'PACQW', 'PACW', 'PAE', 'PAG', 'PAGP', 'PAGS', 'PAHC', 'PAI', 'PAK', 'PALL', 'PAM', 'PANL', 'PANW', 'PAPR', 'PAR', 'PARR', 'PASG', 'PASS', 'PATI', 'PATK', 'PAUG', 'PAVE', 'PAVM', 'PAVMW', 'PAWZ', 'PAYC', 'PAYS', 'PAYX', 'PB', 'PBA', 'PBB', 'PBBI', 'PBC', 'PBCT', 'PBCTP', 'PBD', 'PBDM', 'PBE', 'PBEE', 'PBF', 'PBFS', 'PBFX', 'PBH', 'PBHC', 'PBI', 'PBIP', 'PBJ', 'PBND', 'PBP', 'PBPB', 'PBR', 'PBS', 'PBSM', 'PBT', 'PBTP', 'PBTS', 'PBUS', 'PBW', 'PBY', 'PBYI', 'PCAR', 'PCB', 'PCEF', 'PCF', 'PCG', 'PCH', 'PCI', 'PCK', 'PCM', 'PCN', 'PCOM', 'PCQ', 'PCRX', 'PCSB', 'PCTI', 'PCTY', 'PCY', 'PCYG', 'PCYO', 'PD', 'PDBC', 'PDCE', 'PDCO', 'PDD', 'PDEC', 'PDEV', 'PDEX', 'PDFS', 'PDI', 'PDLB', 'PDLI', 'PDM', 'PDN', 'PDP', 'PDS', 'PDSB', 'PDT', 'PE', 'PEAK', 'PEB', 'PEBK', 'PEBO', 'PECK', 'PED', 'PEG', 'PEGA', 'PEI', 'PEIX', 'PEJ', 'PEK', 'PEN', 'PENN', 'PEO', 'PEP', 'PER', 'PERI', 'PESI', 'PETQ', 'PETS', 'PETZ', 'PEX', 'PEXL', 'PEY', 'PEZ', 'PFBC', 'PFBI', 'PFD', 'PFE', 'PFEB', 'PFF', 'PFFA', 'PFFD', 'PFFL', 'PFFR', 'PFG', 'PFGC', 'PFH', 'PFHD', 'PFI', 'PFIE', 'PFIG', 'PFIN', 'PFIS', 'PFL', 'PFLD', 'PFLT', 'PFM', 'PFMT', 'PFN', 'PFNX', 'PFO', 'PFPT', 'PFS', 'PFSI', 'PFSW', 'PFXF', 'PG', 'PGAL', 'PGC', 'PGEN', 'PGF', 'PGHY', 'PGJ', 'PGM', 'PGNX', 'PGNY', 'PGP', 'PGR', 'PGRE', 'PGTI', 'PGX', 'PGZ', 'PH', 'PHAS', 'PHAT', 'PHB', 'PHCF', 'PHD', 'PHDG', 'PHG', 'PHGE', 'PHI', 'PHIO', 'PHK', 'PHM', 'PHO', 'PHR', 'PHT', 'PHUN', 'PHX', 'PHYL', 'PHYS', 'PI', 'PIC', 'PICB', 'PICK', 'PICO', 'PID', 'PIE', 'PIH', 'PIHPP', 'PII', 'PILL', 'PIM', 'PIN', 'PINC', 'PINE', 'PING', 'PINS', 'PIO', 'PIPR', 'PIRS', 'PIXY', 'PIY', 'PIZ', 'PJAN', 'PJH', 'PJP', 'PJT', 'PJUL', 'PJUN', 'PK', 'PKB', 'PKBK', 'PKE', 'PKG', 'PKI', 'PKO', 'PKOH', 'PKW', 'PKX', 'PLAB', 'PLAG', 'PLAN', 'PLAT', 'PLAY', 'PLBC', 'PLC', 'PLCE', 'PLCY', 'PLD', 'PLG', 'PLIN', 'PLL', 'PLM', 'PLMR', 'PLNT', 'PLOW', 'PLPC', 'PLSE', 'PLT', 'PLTM', 'PLUG', 'PLUS', 'PLW', 'PLX', 'PLXP', 'PLXS', 'PLYA', 'PLYM', 'PM', 'PMAR', 'PMBC', 'PMD', 'PME', 'PMF', 'PML', 'PMM', 'PMO', 'PMOM', 'PMT', 'PMX', 'PNBK', 'PNC', 'PNF', 'PNFP', 'PNI', 'PNM', 'PNNT', 'PNNTG', 'PNOV', 'PNQI', 'PNR', 'PNRG', 'PNTG', 'PNW', 'POAI', 'POCT', 'PODD', 'POL', 'POLA', 'POOL', 'POPE', 'POR', 'POST', 'POTX', 'POWI', 'POWL', 'PPA', 'PPBI', 'PPC', 'PPD', 'PPDM', 'PPEM', 'PPG', 'PPH', 'PPHI', 'PPIH', 'PPL', 'PPLC', 'PPLT', 'PPMC', 'PPR', 'PPSC', 'PPSI', 'PPT', 'PPTY', 'PPX', 'PQG', 'PQIN', 'PQLC', 'PQSG', 'PQSV', 'PRA', 'PRAA', 'PRAH', 'PRCP', 'PRDO', 'PREF', 'PRF', 'PRFT', 'PRFZ', 'PRGO', 'PRGS', 'PRGX', 'PRH', 'PRI', 'PRIM', 'PRK', 'PRLB', 'PRMW', 'PRN', 'PRNB', 'PRNT', 'PRO', 'PROF', 'PROS', 'PROV', 'PRPH', 'PRPL', 'PRPO', 'PRQR', 'PRS', 'PRSC', 'PRSP', 'PRT', 'PRTA', 'PRTH', 'PRTK', 'PRTS', 'PRTY', 'PRU', 'PRVB', 'PRVL', 'PS', 'PSA', 'PSB', 'PSC', 'PSCC', 'PSCD', 'PSCE', 'PSCF', 'PSCH', 'PSCI', 'PSCM', 'PSCT', 'PSCU', 'PSEC', 'PSEP', 'PSET', 'PSF', 'PSHG', 'PSI', 'PSJ', 'PSK', 'PSL', 'PSLV', 'PSM', 'PSMB', 'PSMC', 'PSMG', 'PSMM', 'PSMT', 'PSN', 'PSNL', 'PSO', 'PSP', 'PSQ', 'PSR', 'PST', 'PSTG', 'PSTI', 'PSTL', 'PSTV', 'PSV', 'PSX', 'PSXP', 'PT', 'PTAC', 'PTACU', 'PTBD', 'PTC', 'PTCT', 'PTE', 'PTEN', 'PTEU', 'PTF', 'PTGX', 'PTH', 'PTI', 'PTIN', 'PTLA', 'PTLC', 'PTMC', 'PTMN', 'PTN', 'PTNQ', 'PTNR', 'PTON', 'PTR', 'PTSI', 'PTVCA', 'PTVCB', 'PTY', 'PUB', 'PUI', 'PUK', 'PULM', 'PULS', 'PUMP', 'PUTW', 'PUYI', 'PVAC', 'PVAL', 'PVBC', 'PVG', 'PVH', 'PVI', 'PVL', 'PW', 'PWB', 'PWC', 'PWFL', 'PWOD', 'PWR', 'PWS', 'PWV', 'PWZ', 'PXD', 'PXE', 'PXF', 'PXH', 'PXI', 'PXJ', 'PXLW', 'PXQ', 'PXS', 'PY', 'PYN', 'PYPE', 'PYPL', 'PYS', 'PYT', 'PYX', 'PYZ', 'PZA', 'PZC', 'PZD', 'PZG', 'PZN', 'PZT', 'PZZA', 'QABA', 'QADA', 'QADB', 'QAI', 'QARP', 'QAT', 'QBAK', 'QCLN', 'QCOM', 'QCRH', 'QD', 'QDEF', 'QDEL', 'QDF', 'QDIV', 'QDYN', 'QED', 'QEFA', 'QEMM', 'QEP', 'QES', 'QFIN', 'QGEN', 'QGRO', 'QGTA', 'QHC', 'QID', 'QINT', 'QIWI', 'QK', 'QLC', 'QLD', 'QLS', 'QLTA', 'QLV', 'QLVD', 'QLVE', 'QLYS', 'QMCO', 'QMJ', 'QMN', 'QMOM', 'QNST', 'QQEW', 'QQH', 'QQQ', 'QQQE', 'QQQX', 'QQXT', 'QRFT', 'QRHC', 'QRTEA', 'QRTEB', 'QRVO', 'QSR', 'QSY', 'QTEC', 'QTNT', 'QTRX', 'QTS', 'QTT', 'QTUM', 'QTWO', 'QUAD', 'QUAL', 'QUIK', 'QUMU', 'QUOT', 'QURE', 'QUS', 'QVAL', 'QVCC', 'QVCD', 'QVM', 'QWLD', 'QYLD', 'R', 'RA', 'RAAX', 'RACE', 'RAD', 'RADA', 'RAFE', 'RAIL', 'RALS', 'RAMP', 'RAND', 'RAPT', 'RARE', 'RARX', 'RAVE', 'RAVI', 'RAVN', 'RBA', 'RBB', 'RBBN', 'RBC', 'RBCAA', 'RBCN', 'RBIN', 'RBKB', 'RBNC', 'RBS', 'RBUS', 'RBZ', 'RC', 'RCA', 'RCB', 'RCD', 'RCEL', 'RCG', 'RCI', 'RCII', 'RCKT', 'RCKY', 'RCL', 'RCM', 'RCMT', 'RCON', 'RCP', 'RCS', 'RCUS', 'RDCM', 'RDFN', 'RDHL', 'RDI', 'RDIB', 'RDIV', 'RDN', 'RDNT', 'RDOG', 'RDUS', 'RDVT', 'RDVY', 'RDWR', 'RDY', 'RE', 'REAL', 'RECS', 'REDU', 'REED', 'REET', 'REFR', 'REG', 'REGI', 'REGL', 'REGN', 'REI', 'REK', 'REKR', 'RELL', 'RELV', 'RELX', 'REM', 'REML', 'REMX', 'RENN', 'REPH', 'REPL', 'RES', 'RESD', 'RESE', 'RESI', 'RESN', 'RETA', 'RETL', 'RETO', 'REV', 'REVG', 'REVS', 'REW', 'REX', 'REXN', 'REXR', 'REYN', 'REZ', 'REZI', 'RF', 'RFAP', 'RFCI', 'RFDA', 'RFDI', 'RFEM', 'RFEU', 'RFFC', 'RFG', 'RFI', 'RFIL', 'RFL', 'RFM', 'RFP', 'RFUN', 'RFV', 'RGA', 'RGCO', 'RGEN', 'RGI', 'RGLD', 'RGLS', 'RGNX', 'RGR', 'RGS', 'RGT', 'RH', 'RHE', 'RHI', 'RHP', 'RHS', 'RIBT', 'RICK', 'RIF', 'RIG', 'RIGL', 'RIGS', 'RILY', 'RILYG', 'RILYH', 'RILYI', 'RILYN', 'RILYO', 'RILYP', 'RILYZ', 'RINF', 'RING', 'RIO', 'RIOT', 'RISE', 'RIV', 'RIVE', 'RJA', 'RJF', 'RJI', 'RJN', 'RJZ', 'RKDA', 'RL', 'RLGT', 'RLGY', 'RLH', 'RLI', 'RLJ', 'RLMD', 'RLY', 'RM', 'RMAX', 'RMBI', 'RMBL', 'RMBS', 'RMCF', 'RMD', 'RMED', 'RMG', 'RMI', 'RMM', 'RMNI', 'RMR', 'RMT', 'RMTI', 'RNDB', 'RNDM', 'RNDV', 'RNEM', 'RNET', 'RNG', 'RNGR', 'RNLC', 'RNMC', 'RNP', 'RNR', 'RNSC', 'RNST', 'RNWK', 'ROAD', 'ROAM', 'ROBO', 'ROBT', 'ROCK', 'RODE', 'RODI', 'RODM', 'ROG', 'ROIC', 'ROK', 'ROKT', 'ROKU', 'ROL', 'ROLL', 'ROM', 'ROMO', 'ROOF', 'ROP', 'RORE', 'ROSC', 'ROSE', 'ROSEU', 'ROST', 'ROUS', 'ROYT', 'RP', 'RPAI', 'RPAR', 'RPAY', 'RPD', 'RPG', 'RPLA', 'RPM', 'RPT', 'RPV', 'RQI', 'RRBI', 'RRC', 'RRD', 'RRGB', 'RRR', 'RRTS', 'RS', 'RSF', 'RSG', 'RSP', 'RSSS', 'RST', 'RSX', 'RSXJ', 'RTH', 'RTIX', 'RTL', 'RTLR', 'RTM', 'RTN', 'RTRX', 'RTTR', 'RTW', 'RUBI', 'RUBY', 'RUHN', 'RUN', 'RUSHA', 'RUSHB', 'RUSL', 'RUTH', 'RVI', 'RVLV', 'RVNC', 'RVNU', 'RVP', 'RVRS', 'RVSB', 'RVT', 'RWCD', 'RWDC', 'RWDE', 'RWED', 'RWGV', 'RWIU', 'RWJ', 'RWK', 'RWL', 'RWLK', 'RWLS', 'RWM', 'RWO', 'RWR', 'RWSL', 'RWT', 'RWUI', 'RWVG', 'RWX', 'RXD', 'RXI', 'RXL', 'RXN', 'RY', 'RYAAY', 'RYAM', 'RYB', 'RYCE', 'RYE', 'RYF', 'RYH', 'RYI', 'RYJ', 'RYLD', 'RYN', 'RYT', 'RYTM', 'RYU', 'RYZZ', 'RZA', 'RZB', 'RZG', 'RZV', 'SA', 'SAA', 'SABR', 'SACC', 'SACH', 'SAEX', 'SAF', 'SAFE', 'SAFM', 'SAFT', 'SAGE', 'SAH', 'SAIA', 'SAIC', 'SAIL', 'SAL', 'SALM', 'SALT', 'SAM', 'SAMA', 'SAMAU', 'SAMG', 'SAN', 'SAND', 'SANM', 'SANW', 'SAP', 'SAQN', 'SAQNU', 'SAR', 'SASR', 'SATS', 'SAVA', 'SAVE', 'SB', 'SBAC', 'SBB', 'SBBP', 'SBBX', 'SBCF', 'SBE', 'SBFG', 'SBGI', 'SBH', 'SBI', 'SBIO', 'SBLK', 'SBLKZ', 'SBM', 'SBNA', 'SBNY', 'SBOW', 'SBPH', 'SBR', 'SBRA', 'SBS', 'SBSI', 'SBT', 'SBUX', 'SC', 'SCA', 'SCAP', 'SCC', 'SCCB', 'SCCO', 'SCD', 'SCHA', 'SCHB', 'SCHC', 'SCHD', 'SCHE', 'SCHF', 'SCHG', 'SCHH', 'SCHI', 'SCHJ', 'SCHK', 'SCHL', 'SCHM', 'SCHN', 'SCHO', 'SCHP', 'SCHQ', 'SCHR', 'SCHV', 'SCHW', 'SCHX', 'SCHZ', 'SCI', 'SCID', 'SCIF', 'SCIJ', 'SCIU', 'SCIX', 'SCJ', 'SCKT', 'SCL', 'SCM', 'SCO', 'SCON', 'SCOR', 'SCPE', 'SCPH', 'SCPL', 'SCS', 'SCSC', 'SCU', 'SCVL', 'SCVX', 'SCWX', 'SCX', 'SCYX', 'SCZ', 'SD', 'SDAG', 'SDC', 'SDCI', 'SDD', 'SDEM', 'SDG', 'SDGA', 'SDGR', 'SDI', 'SDIV', 'SDOG', 'SDOW', 'SDP', 'SDPI', 'SDRL', 'SDS', 'SDVY', 'SDY', 'SDYL', 'SE', 'SEAC', 'SEAS', 'SEB', 'SECO', 'SECT', 'SEDG', 'SEE', 'SEED', 'SEEL', 'SEF', 'SEIC', 'SEIX', 'SELB', 'SELF', 'SEM', 'SENEA', 'SENEB', 'SENS', 'SERV', 'SES', 'SESN', 'SF', 'SFBC', 'SFBS', 'SFE', 'SFET', 'SFHY', 'SFIG', 'SFIX', 'SFL', 'SFM', 'SFNC', 'SFST', 'SFTW', 'SFUN', 'SFY', 'SFYF', 'SFYX', 'SG', 'SGA', 'SGB', 'SGBX', 'SGC', 'SGDJ', 'SGDM', 'SGEN', 'SGG', 'SGH', 'SGLB', 'SGMA', 'SGMO', 'SGMS', 'SGOC', 'SGOL', 'SGRP', 'SGRY', 'SGU', 'SH', 'SHAG', 'SHAK', 'SHBI', 'SHE', 'SHEN', 'SHG', 'SHI', 'SHIP', 'SHLL', 'SHLO', 'SHLX', 'SHM', 'SHO', 'SHOO', 'SHOP', 'SHSP', 'SHV', 'SHW', 'SHY', 'SHYD', 'SHYG', 'SHYL', 'SI', 'SIBN', 'SIC', 'SID', 'SIEB', 'SIEN', 'SIF', 'SIFY', 'SIG', 'SIGA', 'SIGI', 'SIJ', 'SIL', 'SILC', 'SILJ', 'SILK', 'SILV', 'SIM', 'SIMO', 'SIMS', 'SINA', 'SINO', 'SINT', 'SIRI', 'SITC', 'SITE', 'SITM', 'SIVB', 'SIVBP', 'SIVR', 'SIX', 'SIZE', 'SJB', 'SJI', 'SJIJ', 'SJIU', 'SJM', 'SJNK', 'SJR', 'SJT', 'SJW', 'SKF', 'SKM', 'SKOR', 'SKT', 'SKX', 'SKY', 'SKYS', 'SKYW', 'SKYY', 'SLAB', 'SLB', 'SLCA', 'SLCT', 'SLDB', 'SLF', 'SLG', 'SLGG', 'SLGL', 'SLGN', 'SLM', 'SLMBP', 'SLNO', 'SLP', 'SLQD', 'SLRC', 'SLRX', 'SLS', 'SLT', 'SLV', 'SLVO', 'SLVP', 'SLX', 'SLY', 'SLYG', 'SLYV', 'SM', 'SMAR', 'SMB', 'SMBC', 'SMBK', 'SMCI', 'SMCP', 'SMDD', 'SMDV', 'SMDY', 'SMED', 'SMEZ', 'SMFG', 'SMG', 'SMH', 'SMHB', 'SMHI', 'SMIN', 'SMIT', 'SMLF', 'SMLL', 'SMLP', 'SMLV', 'SMM', 'SMMC', 'SMMCU', 'SMMD', 'SMMF', 'SMMT', 'SMMU', 'SMMV', 'SMN', 'SMOG', 'SMP', 'SMPL', 'SMRT', 'SMSI', 'SMTC', 'SMTS', 'SMTX', 'SNA', 'SNAP', 'SNBR', 'SNCA', 'SNCR', 'SND', 'SNDE', 'SNDL', 'SNDR', 'SNDX', 'SNE', 'SNES', 'SNFCA', 'SNGX', 'SNLN', 'SNMP', 'SNN', 'SNOA', 'SNP', 'SNPE', 'SNPS', 'SNR', 'SNSR', 'SNSS', 'SNUG', 'SNV', 'SNX', 'SNY', 'SO', 'SOCL', 'SOGO', 'SOHO', 'SOHOB', 'SOHON', 'SOHOO', 'SOHU', 'SOI', 'SOIL', 'SOJA', 'SOJB', 'SOJC', 'SOJD', 'SOL', 'SOLN', 'SOLO', 'SOLY', 'SON', 'SONA', 'SONG', 'SONM', 'SONO', 'SOR', 'SORL', 'SOVB', 'SOXL', 'SOXS', 'SOXX', 'SOYB', 'SP', 'SPAB', 'SPAQ', 'SPAR', 'SPB', 'SPBO', 'SPCB', 'SPCE', 'SPDN', 'SPDV', 'SPDW', 'SPE', 'SPEM', 'SPEU', 'SPFF', 'SPFI', 'SPG', 'SPGI', 'SPGM', 'SPGP', 'SPH', 'SPHB', 'SPHD', 'SPHQ', 'SPHY', 'SPI', 'SPIB', 'SPIP', 'SPKE', 'SPKEP', 'SPLB', 'SPLG', 'SPLK', 'SPLP', 'SPLV', 'SPMB', 'SPMD', 'SPMO', 'SPMV', 'SPN', 'SPNE', 'SPNS', 'SPOK', 'SPOT', 'SPPI', 'SPPP', 'SPR', 'SPRO', 'SPRT', 'SPSB', 'SPSC', 'SPSK', 'SPSM', 'SPT', 'SPTI', 'SPTL', 'SPTM', 'SPTN', 'SPTS', 'SPUS', 'SPUU', 'SPVM', 'SPVU', 'SPWH', 'SPWR', 'SPXB', 'SPXC', 'SPXE', 'SPXL', 'SPXN', 'SPXS', 'SPXT', 'SPXU', 'SPXV', 'SPXX', 'SPY', 'SPYB', 'SPYD', 'SPYG', 'SPYV', 'SPYX', 'SQ', 'SQBG', 'SQLV', 'SQM', 'SQNS', 'SQQQ', 'SR', 'SRAC', 'SRACU', 'SRAX', 'SRC', 'SRCE', 'SRCL', 'SRDX', 'SRE', 'SREA', 'SRET', 'SREV', 'SRF', 'SRG', 'SRI', 'SRL', 'SRLN', 'SRLP', 'SRNE', 'SRPT', 'SRRA', 'SRRK', 'SRS', 'SRT', 'SRTS', 'SRTY', 'SRV', 'SRVR', 'SSB', 'SSBI', 'SSD', 'SSG', 'SSI', 'SSKN', 'SSL', 'SSNC', 'SSNT', 'SSO', 'SSP', 'SSPK', 'SSPKU', 'SSPY', 'SSRM', 'SSSS', 'SSTI', 'SSTK', 'SSUS', 'SSY', 'SSYS', 'ST', 'STAA', 'STAF', 'STAG', 'STAR', 'STAY', 'STBA', 'STC', 'STCN', 'STE', 'STFC', 'STG', 'STIM', 'STIP', 'STK', 'STKL', 'STKS', 'STL', 'STLD', 'STLG', 'STLV', 'STM', 'STML', 'STMP', 'STN', 'STND', 'STNE', 'STNG', 'STOK', 'STON', 'STOR', 'STOT', 'STPP', 'STPZ', 'STRA', 'STRL', 'STRM', 'STRO', 'STRS', 'STRT', 'STSA', 'STT', 'STWD', 'STX', 'STXB', 'STXS', 'STZ', 'SU', 'SUB', 'SUI', 'SUM', 'SUMR', 'SUN', 'SUNS', 'SUNW', 'SUP', 'SUPN', 'SUPV', 'SURF', 'SUSA', 'SUSB', 'SUSC', 'SUSL', 'SUZ', 'SVA', 'SVBI', 'SVC', 'SVM', 'SVMK', 'SVRA', 'SVT', 'SVVC', 'SVXY', 'SWAN', 'SWAV', 'SWCH', 'SWI', 'SWIR', 'SWK', 'SWKH', 'SWKS', 'SWM', 'SWN', 'SWP', 'SWT', 'SWTX', 'SWX', 'SWZ', 'SXC', 'SXI', 'SXT', 'SXTC', 'SY', 'SYBT', 'SYBX', 'SYE', 'SYF', 'SYG', 'SYK', 'SYKE', 'SYLD', 'SYN', 'SYNA', 'SYNC', 'SYNH', 'SYNL', 'SYPR', 'SYRS', 'SYV', 'SYX', 'SYY', 'SZC', 'SZK', 'SZNE', 'T', 'TA', 'TAC', 'TACO', 'TACT', 'TAGS', 'TAIL', 'TAIT', 'TAK', 'TAL', 'TALO', 'TAN', 'TANH', 'TANNI', 'TANNL', 'TANNZ', 'TAOP', 'TAP', 'TAPR', 'TARA', 'TARO', 'TAST', 'TAT', 'TATT', 'TAWK', 'TAXF', 'TAYD', 'TBB', 'TBBK', 'TBC', 'TBF', 'TBI', 'TBIO', 'TBK', 'TBLT', 'TBLTW', 'TBLU', 'TBND', 'TBNK', 'TBPH', 'TBT', 'TBX', 'TC', 'TCBI', 'TCBIL', 'TCBIP', 'TCBK', 'TCCO', 'TCDA', 'TCF', 'TCFC', 'TCFCP', 'TCI', 'TCMD', 'TCO', 'TCOM', 'TCON', 'TCP', 'TCPC', 'TCRD', 'TCRR', 'TCRW', 'TCRZ', 'TCS', 'TCTL', 'TCX', 'TD', 'TDA', 'TDAC', 'TDACU', 'TDC', 'TDE', 'TDF', 'TDG', 'TDI', 'TDIV', 'TDJ', 'TDOC', 'TDS', 'TDTF', 'TDTT', 'TDV', 'TDW', 'TDY', 'TEAF', 'TEAM', 'TECB', 'TECD', 'TECH', 'TECK', 'TECL', 'TECS', 'TECTP', 'TEDU', 'TEF', 'TEI', 'TEL', 'TELA', 'TELL', 'TEN', 'TENB', 'TENX', 'TEO', 'TER', 'TERM', 'TERP', 'TESS', 'TEUM', 'TEVA', 'TEX', 'TFC', 'TFFP', 'TFI', 'TFII', 'TFIV', 'TFLO', 'TFLT', 'TFSL', 'TFX', 'TG', 'TGA', 'TGB', 'TGC', 'TGE', 'TGEN', 'TGH', 'TGI', 'TGLS', 'TGNA', 'TGP', 'TGS', 'TGT', 'TGTX', 'TH', 'THBR', 'THBRU', 'THC', 'THCA', 'THCAU', 'THCB', 'THCBU', 'THCX', 'THD', 'THFF', 'THG', 'THGA', 'THM', 'THMO', 'THO', 'THQ', 'THR', 'THRM', 'THS', 'THTX', 'THW', 'TIF', 'TIGO', 'TIGR', 'TILE', 'TILT', 'TIP', 'TIPT', 'TIPX', 'TIPZ', 'TISI', 'TITN', 'TIVO', 'TJX', 'TK', 'TKAT', 'TKC', 'TKR', 'TLC', 'TLDH', 'TLEH', 'TLF', 'TLGT', 'TLH', 'TLI', 'TLK', 'TLND', 'TLRD', 'TLRY', 'TLSA', 'TLT', 'TLTD', 'TLTE', 'TLYS', 'TM', 'TMDI', 'TMDV', 'TMDX', 'TME', 'TMF', 'TMFC', 'TMHC', 'TMO', 'TMP', 'TMQ', 'TMSR', 'TMST', 'TMUS', 'TMV', 'TNA', 'TNAV', 'TNC', 'TNDM', 'TNET', 'TNK', 'TNP', 'TNXP', 'TOCA', 'TOK', 'TOKE', 'TOL', 'TOLZ', 'TOPS', 'TORC', 'TOT', 'TOTA', 'TOTAU', 'TOTL', 'TOUR', 'TOWN', 'TPAY', 'TPB', 'TPC', 'TPCO', 'TPH', 'TPHD', 'TPHS', 'TPIC', 'TPIF', 'TPL', 'TPLC', 'TPOR', 'TPR', 'TPRE', 'TPSC', 'TPTX', 'TPVG', 'TPVY', 'TPX', 'TPYP', 'TPZ', 'TQQQ', 'TR', 'TRC', 'TRCH', 'TREC', 'TREE', 'TREX', 'TRGP', 'TRHC', 'TRI', 'TRIB', 'TRIL', 'TRIP', 'TRMB', 'TRMD', 'TRMK', 'TRMT', 'TRN', 'TRND', 'TRNE', 'TRNO', 'TRNS', 'TRNX', 'TROV', 'TROW', 'TROX', 'TRP', 'TRPX', 'TRQ', 'TRS', 'TRST', 'TRT', 'TRTN', 'TRTX', 'TRTY', 'TRU', 'TRUE', 'TRUP', 'TRV', 'TRVG', 'TRVI', 'TRVN', 'TRWH', 'TRX', 'TRXC', 'TS', 'TSBK', 'TSC', 'TSCAP', 'TSCBP', 'TSCO', 'TSE', 'TSEM', 'TSG', 'TSI', 'TSLA', 'TSLF', 'TSLX', 'TSM', 'TSN', 'TSQ', 'TSRI', 'TSU', 'TT', 'TTAC', 'TTAI', 'TTC', 'TTD', 'TTEC', 'TTEK', 'TTGT', 'TTI', 'TTM', 'TTMI', 'TTNP', 'TTOO', 'TTP', 'TTPH', 'TTT', 'TTTN', 'TTWO', 'TU', 'TUES', 'TUFN', 'TUP', 'TUR', 'TURN', 'TUSA', 'TUSK', 'TV', 'TVC', 'TVE', 'TVIX', 'TVTY', 'TW', 'TWI', 'TWIN', 'TWLO', 'TWM', 'TWMC', 'TWN', 'TWNK', 'TWNKW', 'TWO', 'TWOU', 'TWST', 'TWTR', 'TX', 'TXG', 'TXMD', 'TXN', 'TXRH', 'TXT', 'TY', 'TYBS', 'TYD', 'TYG', 'TYHT', 'TYL', 'TYME', 'TYO', 'TZA', 'TZAC', 'TZACU', 'TZOO', 'UA', 'UAA', 'UAE', 'UAG', 'UAL', 'UAMY', 'UAN', 'UAPR', 'UAUD', 'UAUG', 'UAVS', 'UBA', 'UBCP', 'UBER', 'UBFO', 'UBG', 'UBOH', 'UBOT', 'UBP', 'UBR', 'UBS', 'UBSI', 'UBT', 'UBX', 'UCBI', 'UCC', 'UCHF', 'UCI', 'UCIB', 'UCO', 'UCON', 'UCTT', 'UDEC', 'UDN', 'UDOW', 'UDR', 'UE', 'UEC', 'UEIC', 'UEPS', 'UEUR', 'UEVM', 'UFAB', 'UFCS', 'UFEB', 'UFI', 'UFO', 'UFPI', 'UFPT', 'UFS', 'UG', 'UGA', 'UGAZ', 'UGBP', 'UGE', 'UGI', 'UGL', 'UGLD', 'UGP', 'UHAL', 'UHS', 'UHT', 'UI', 'UIHC', 'UIS', 'UITB', 'UIVM', 'UJAN', 'UJB', 'UJPY', 'UJUL', 'UJUN', 'UL', 'ULBI', 'ULBR', 'ULE', 'ULH', 'ULST', 'ULTA', 'ULTR', 'ULVM', 'UMAR', 'UMBF', 'UMC', 'UMDD', 'UMH', 'UMPQ', 'UMRX', 'UN', 'UNAM', 'UNB', 'UNF', 'UNFI', 'UNG', 'UNH', 'UNIT', 'UNL', 'UNM', 'UNMA', 'UNOV', 'UNP', 'UNT', 'UNTY', 'UNVR', 'UOCT', 'UONE', 'UONEK', 'UPLD', 'UPRO', 'UPS', 'UPV', 'UPW', 'UPWK', 'URA', 'URBN', 'URE', 'URG', 'URGN', 'URI', 'URNM', 'UROV', 'URR', 'URTH', 'URTY', 'USA', 'USAC', 'USAI', 'USAK', 'USAP', 'USAS', 'USAU', 'USB', 'USCI', 'USCR', 'USD', 'USDP', 'USDU', 'USDY', 'USEG', 'USEP', 'USEQ', 'USFD', 'USFR', 'USHG', 'USHY', 'USI', 'USIG', 'USIO', 'USL', 'USLB', 'USLM', 'USLV', 'USM', 'USMC', 'USMF', 'USMV', 'USNA', 'USO', 'USOI', 'USPH', 'USRT', 'USSG', 'UST', 'USTB', 'USV', 'USVM', 'USWS', 'USX', 'UTES', 'UTF', 'UTG', 'UTHR', 'UTI', 'UTL', 'UTMD', 'UTRN', 'UTSI', 'UTSL', 'UTX', 'UTX.V', 'UUP', 'UUU', 'UUUU', 'UVE', 'UVSP', 'UVV', 'UVXY', 'UWM', 'UWT', 'UXI', 'UXIN', 'UYG', 'UYM', 'UZA', 'UZB', 'UZC', 'V', 'VAC', 'VAL', 'VALE', 'VALQ', 'VALT', 'VALU', 'VALX', 'VAM', 'VAMO', 'VAPO', 'VAR', 'VAW', 'VB', 'VBF', 'VBFC', 'VBIV', 'VBK', 'VBLT', 'VBND', 'VBR', 'VBTX', 'VC', 'VCEL', 'VCF', 'VCIF', 'VCIT', 'VCLT', 'VCNX', 'VCR', 'VCRA', 'VCSH', 'VCTR', 'VCV', 'VCYT', 'VDC', 'VDE', 'VEA', 'VEC', 'VECO', 'VEDL', 'VEEV', 'VEGA', 'VEGI', 'VEGN', 'VEL', 'VEON', 'VER', 'VERB', 'VERI', 'VERO', 'VERU', 'VERY', 'VET', 'VETS', 'VEU', 'VFC', 'VFF', 'VFH', 'VFL', 'VFLQ', 'VFMF', 'VFMO', 'VFMV', 'VFQY', 'VFVA', 'VG', 'VGFO', 'VGI', 'VGIT', 'VGK', 'VGLT', 'VGM', 'VGR', 'VGSH', 'VGT', 'VGZ', 'VHC', 'VHI', 'VHT', 'VIAC', 'VIACA', 'VIAV', 'VICI', 'VICR', 'VIDI', 'VIE', 'VIG', 'VIGI', 'VIIX', 'VIOG', 'VIOO', 'VIOT', 'VIOV', 'VIPS', 'VIR', 'VIRC', 'VIRT', 'VIS', 'VISL', 'VIST', 'VIV', 'VIVE', 'VIVO', 'VIXM', 'VIXY', 'VJET', 'VKI', 'VKQ', 'VKTX', 'VLGEA', 'VLO', 'VLRS', 'VLT', 'VLU', 'VLUE', 'VLY', 'VLYPO', 'VLYPP', 'VMBS', 'VMC', 'VMD', 'VMI', 'VMM', 'VMO', 'VMOT', 'VMW', 'VNCE', 'VNDA', 'VNE', 'VNET', 'VNLA', 'VNM', 'VNO', 'VNOM', 'VNQ', 'VNQI', 'VNRX', 'VNTR', 'VO', 'VOC', 'VOD', 'VOE', 'VOLT', 'VONE', 'VONG', 'VONV', 'VOO', 'VOOG', 'VOOV', 'VOT', 'VOX', 'VOXX', 'VOYA', 'VPC', 'VPG', 'VPL', 'VPU', 'VPV', 'VQT', 'VRA', 'VRAI', 'VRAY', 'VRCA', 'VREX', 'VRIG', 'VRML', 'VRNA', 'VRNS', 'VRNT', 'VRP', 'VRRM', 'VRS', 'VRSK', 'VRSN', 'VRT', 'VRTS', 'VRTU', 'VRTV', 'VRTX', 'VSAT', 'VSDA', 'VSEC', 'VSGX', 'VSH', 'VSL', 'VSLR', 'VSMV', 'VSS', 'VST', 'VSTM', 'VSTO', 'VT', 'VTA', 'VTC', 'VTEB', 'VTGN', 'VTHR', 'VTI', 'VTIP', 'VTIQ', 'VTIQU', 'VTIQW', 'VTN', 'VTNR', 'VTR', 'VTSI', 'VTV', 'VTVT', 'VTWG', 'VTWO', 'VTWV', 'VUG', 'VUSE', 'VUZI', 'VV', 'VVI', 'VVNT', 'VVPR', 'VVR', 'VVUS', 'VVV', 'VWO', 'VWOB', 'VXF', 'VXRT', 'VXUS', 'VXX', 'VXZ', 'VYGR', 'VYM', 'VYMI', 'VZ', 'W', 'WAB', 'WABC', 'WAFD', 'WAFU', 'WAL', 'WALA', 'WANT', 'WASH', 'WAT', 'WATT', 'WB', 'WBA', 'WBAI', 'WBC', 'WBIE', 'WBIF', 'WBIG', 'WBII', 'WBIL', 'WBIN', 'WBIT', 'WBIY', 'WBK', 'WBND', 'WBS', 'WBT', 'WCC', 'WCHN', 'WCLD', 'WCN', 'WD', 'WDAY', 'WDC', 'WDFC', 'WDIV', 'WDR', 'WEA', 'WEAT', 'WEBK', 'WEBL', 'WEBS', 'WEC', 'WEI', 'WELL', 'WEN', 'WERN', 'WES', 'WETF', 'WEX', 'WEYS', 'WF', 'WFC', 'WFHY', 'WFIG', 'WGO', 'WH', 'WHD', 'WHF', 'WHFBZ', 'WHG', 'WHLM', 'WHLR', 'WHLRD', 'WHLRP', 'WHR', 'WIA', 'WIFI', 'WIL', 'WILC', 'WINA', 'WINC', 'WING', 'WINS', 'WIP', 'WIRE', 'WISA', 'WIT', 'WIW', 'WIX', 'WIZ', 'WK', 'WKEY', 'WKHS', 'WLDN', 'WLDR', 'WLFC', 'WLK', 'WLKP', 'WLL', 'WLTW', 'WM', 'WMB', 'WMC', 'WMGI', 'WMK', 'WMS', 'WMT', 'WNC', 'WNEB', 'WNS', 'WOMN', 'WOOD', 'WOR', 'WORK', 'WORX', 'WOW', 'WPC', 'WPG', 'WPM', 'WPP', 'WPRT', 'WPS', 'WPX', 'WRB', 'WRE', 'WRI', 'WRK', 'WRLD', 'WRLS', 'WRLSU', 'WRN', 'WRTC', 'WSBC', 'WSBF', 'WSC', 'WSFS', 'WSG', 'WSM', 'WSO', 'WSR', 'WST', 'WSTG', 'WSTL', 'WTBA', 'WTER', 'WTFC', 'WTFCM', 'WTI', 'WTIU', 'WTM', 'WTMF', 'WTRE', 'WTREP', 'WTRG', 'WTRH', 'WTRU', 'WTS', 'WTT', 'WTTR', 'WU', 'WUBA', 'WVE', 'WVFC', 'WVVI', 'WVVIP', 'WW', 'WWD', 'WWE', 'WWJD', 'WWR', 'WWW', 'WY', 'WYND', 'WYNN', 'WYY', 'X', 'XAIR', 'XAN', 'XAR', 'XBI', 'XBIO', 'XBIOW', 'XBIT', 'XBUY', 'XCEM', 'XCOM', 'XCUR', 'XDIV', 'XEC', 'XEL', 'XELA', 'XELB', 'XENE', 'XENT', 'XERS', 'XES', 'XFLT', 'XFOR', 'XGN', 'XHB', 'XHE', 'XHR', 'XHS', 'XIN', 'XITK', 'XLB', 'XLC', 'XLE', 'XLF', 'XLG', 'XLI', 'XLK', 'XLNX', 'XLP', 'XLRE', 'XLRN', 'XLSR', 'XLU', 'XLV', 'XLY', 'XME', 'XMHQ', 'XMLV', 'XMMO', 'XMPT', 'XMVM', 'XNCR', 'XNET', 'XNTK', 'XOG', 'XOM', 'XOMA', 'XONE', 'XOP', 'XOUT', 'XP', 'XPEL', 'XPER', 'XPH', 'XPL', 'XPO', 'XPP', 'XRAY', 'XRF', 'XRLV', 'XRT', 'XRX', 'XSD', 'XSHD', 'XSHQ', 'XSLV', 'XSMO', 'XSOE', 'XSPA', 'XSVM', 'XSW', 'XT', 'XTH', 'XTL', 'XTLB', 'XTN', 'XTNT', 'XVZ', 'XWEB', 'XXII', 'XYF', 'XYL', 'Y', 'YANG', 'YCBD', 'YCL', 'YCOM', 'YCS', 'YELP', 'YETI', 'YEXT', 'YGRN', 'YGYI', 'YGYIP', 'YI', 'YIN', 'YINN', 'YJ', 'YLCO', 'YLD', 'YLDE', 'YMAB', 'YNDX', 'YOLO', 'YORW', 'YPF', 'YRCW', 'YRD', 'YTEN', 'YTRA', 'YUM', 'YUMA', 'YUMC', 'YVR', 'YXI', 'YY', 'YYY', 'Z', 'ZAGG', 'ZBH', 'ZBRA', 'ZCAN', 'ZCMD', 'ZDEU', 'ZDGE', 'ZEAL', 'ZEN', 'ZEUS', 'ZFGN', 'ZG', 'ZGBR', 'ZGNX', 'ZGYHU', 'ZHOK', 'ZIG', 'ZION', 'ZIONL', 'ZIONN', 'ZIONO', 'ZIONP', 'ZIONW', 'ZIOP', 'ZIV', 'ZIXI', 'ZJPN', 'ZKIN', 'ZLAB', 'ZM', 'ZMLP', 'ZN', 'ZNGA', 'ZNH', 'ZOM', 'ZROZ', 'ZS', 'ZSAN', 'ZSL', 'ZTO', 'ZTR', 'ZTS', 'ZUMZ', 'ZUO', 'ZVO', 'ZYME', 'ZYNE', 'ZYXI']\n"
          ]
        }
      ]
    },
    {
      "cell_type": "code",
      "source": [
        "invalid = []\n",
        "for stock in df.select('stock').toLocalIterator():\n",
        "  if stock[0] not in tickers:\n",
        "    invalid.append(stock[0])\n",
        "\n",
        "# set() returns distinct values only\n",
        "print(set(invalid))\n",
        "print(len(invalid))"
      ],
      "metadata": {
        "colab": {
          "base_uri": "https://localhost:8080/"
        },
        "id": "T-W-09glI99j",
        "outputId": "92268a69-1cfc-4882-c976-a3bf972476ef"
      },
      "execution_count": 54,
      "outputs": [
        {
          "output_type": "stream",
          "name": "stdout",
          "text": [
            "{'ARNCA'}\n",
            "21\n"
          ]
        }
      ]
    },
    {
      "cell_type": "code",
      "source": [
        "# confirming it doesn't exist in the metadata\n",
        "\n",
        "df_meta.select('Symbol') == 'ARNCA'"
      ],
      "metadata": {
        "colab": {
          "base_uri": "https://localhost:8080/"
        },
        "id": "FNAEA77TJr8r",
        "outputId": "29894a3e-0165-4155-d66e-9e22d8b9e353"
      },
      "execution_count": 55,
      "outputs": [
        {
          "output_type": "execute_result",
          "data": {
            "text/plain": [
              "False"
            ]
          },
          "metadata": {},
          "execution_count": 55
        }
      ]
    },
    {
      "cell_type": "code",
      "execution_count": 37,
      "metadata": {
        "id": "Z6EK3Zw5uZdW",
        "colab": {
          "base_uri": "https://localhost:8080/"
        },
        "outputId": "0313ea99-81a2-4796-b230-f56dbfbd1a1a"
      },
      "outputs": [
        {
          "output_type": "execute_result",
          "data": {
            "text/plain": [
              "['ARNCA']"
            ]
          },
          "metadata": {},
          "execution_count": 37
        }
      ],
      "source": [
        "# Alternatively\n",
        "\n",
        "list(set(df.select('stock').rdd.flatMap(lambda x: x).collect())-\n",
        "     set(df_meta.select('symbol').rdd.flatMap(lambda x: x).collect()))"
      ]
    },
    {
      "cell_type": "code",
      "source": [
        "df_meta.createOrReplaceTempView(\"metadata\")\n",
        "\n",
        "spark.sql(\"select * from metadata where Symbol like 'ARN%'\").show()"
      ],
      "metadata": {
        "colab": {
          "base_uri": "https://localhost:8080/"
        },
        "id": "EuR0HZhAM72u",
        "outputId": "783e21bd-cdda-4930-ef83-f6d1dccedcb7"
      },
      "execution_count": 68,
      "outputs": [
        {
          "output_type": "stream",
          "name": "stdout",
          "text": [
            "+-------------+------+--------------------+----------------+---------------+---+--------------+----------+----------------+----------+-------------+----------+\n",
            "|Nasdaq Traded|Symbol|       Security Name|Listing Exchange|Market Category|ETF|Round Lot Size|Test Issue|Financial Status|CQS Symbol|NASDAQ Symbol|NextShares|\n",
            "+-------------+------+--------------------+----------------+---------------+---+--------------+----------+----------------+----------+-------------+----------+\n",
            "|            Y|  ARNA|Arena Pharmaceuti...|               Q|              Q|  N|         100.0|         N|               N|      null|         ARNA|         N|\n",
            "|            Y|  ARNC|Arconic Corporati...|               N|               |  N|         100.0|         N|            null|      ARNC|         ARNC|         N|\n",
            "+-------------+------+--------------------+----------------+---------------+---+--------------+----------+----------------+----------+-------------+----------+\n",
            "\n"
          ]
        }
      ]
    },
    {
      "cell_type": "code",
      "source": [
        "df = df.withColumn('stock', F.when(F.col('stock') == 'ARNCA','ARNA').otherwise(F.col('stock')))"
      ],
      "metadata": {
        "id": "zWrSEeePTPtw"
      },
      "execution_count": 70,
      "outputs": []
    },
    {
      "cell_type": "code",
      "source": [
        "# confirming we no longer have the inconsistent symbol\n",
        "\n",
        "df.select('stock') == 'ARNCA'"
      ],
      "metadata": {
        "colab": {
          "base_uri": "https://localhost:8080/"
        },
        "id": "oBgZHIBpTnY-",
        "outputId": "7794bd37-4262-463e-fe04-c43493b6cabe"
      },
      "execution_count": 71,
      "outputs": [
        {
          "output_type": "execute_result",
          "data": {
            "text/plain": [
              "False"
            ]
          },
          "metadata": {},
          "execution_count": 71
        }
      ]
    },
    {
      "cell_type": "markdown",
      "metadata": {
        "id": "i5Q4ksvSuZdW"
      },
      "source": [
        "## Timeliness\n",
        "\n",
        "Timeliness is the degree to which data represent reality from the required point in time.\n",
        "\n",
        "Timeliness expects that the data within your dataset is sufficiently up to date. If you are trying to answer questions that relate to recent problems, having timely data is extremely important. For example, you cannot use current flight patterns to model how many aeroplanes will be required by a large aeronautics company within the next 5-10 years.\n",
        "\n",
        "Similarly, when answering questions that require real-time answers (e.g., predicting when a pipe will burst in a manufacturing plant), you have to be set up to receive real-time data from sensors and loggers.\n",
        "\n",
        "- **Measured by**: Time difference;\n",
        "- **Units**: Time;\n",
        "- **Related to**: Accuracy because it will decay as time progress."
      ]
    },
    {
      "cell_type": "markdown",
      "metadata": {
        "id": "fOpn1bcvuZdZ"
      },
      "source": [
        "It is important to see the latest value for each of the stocks that we are looking at:"
      ]
    },
    {
      "cell_type": "code",
      "execution_count": 106,
      "metadata": {
        "id": "IRQnrgW9uZdZ",
        "outputId": "1cdfe547-6d78-439e-c4a0-5c767424a241",
        "colab": {
          "base_uri": "https://localhost:8080/"
        }
      },
      "outputs": [
        {
          "output_type": "stream",
          "name": "stdout",
          "text": [
            "+-----+-------------------+\n",
            "|stock|          max(Date)|\n",
            "+-----+-------------------+\n",
            "|   AA|1962-12-31 00:00:00|\n",
            "|  XOM|1962-12-31 00:00:00|\n",
            "|  DIS|1962-12-31 00:00:00|\n",
            "|ARNCA|1962-07-31 00:00:00|\n",
            "|   PG|1962-12-31 00:00:00|\n",
            "|   GT|1962-12-31 00:00:00|\n",
            "|   MO|1962-12-31 00:00:00|\n",
            "|  IBM|1962-12-31 00:00:00|\n",
            "|  JNJ|1962-12-31 00:00:00|\n",
            "|  CVX|1962-12-31 00:00:00|\n",
            "|  DTE|1962-12-31 00:00:00|\n",
            "|   BA|1962-12-31 00:00:00|\n",
            "|   GE|1962-12-31 00:00:00|\n",
            "|  HPQ|1962-12-31 00:00:00|\n",
            "| ARNC|1962-12-31 00:00:00|\n",
            "|  CAT|1962-12-31 00:00:00|\n",
            "|   IP|1962-12-31 00:00:00|\n",
            "|   FL|1962-12-31 00:00:00|\n",
            "|   ED|1962-12-31 00:00:00|\n",
            "|  NAV|1962-12-31 00:00:00|\n",
            "+-----+-------------------+\n",
            "only showing top 20 rows\n",
            "\n"
          ]
        }
      ],
      "source": [
        "df.groupBy('stock').agg(F.max('Date')).show()"
      ]
    },
    {
      "cell_type": "markdown",
      "metadata": {
        "id": "PT8olqYRuZda"
      },
      "source": [
        "Sometimes, some of these axes of data quality will be less important than others.\n",
        "This is one of those cases where it is less important to have timely data, since\n",
        "we are trying to create a training dataset for a stock market prediction algorithm.\n",
        "\n",
        "It is important to know the context in which you are doing your modelling."
      ]
    },
    {
      "cell_type": "markdown",
      "metadata": {
        "id": "5zkxBGcYuZda"
      },
      "source": [
        "### Gaps in the dataset\n",
        "\n",
        "Let's see if we can find inconsistencies in the time series by having a look at the number of entries for each of the tickers.\n",
        "\n",
        "> ℹ️ **Instructions** ℹ️\n",
        ">\n",
        "> Uncomment and use the below code to determine which dates had entries that were not equal to 20. You may have to change the name of the dataframe to see the resultant output\n",
        ">\n",
        ">*You may use as many coding cells as necessary.*"
      ]
    },
    {
      "cell_type": "code",
      "execution_count": 72,
      "metadata": {
        "id": "y_wtX1NeuZda",
        "colab": {
          "base_uri": "https://localhost:8080/"
        },
        "outputId": "274a3088-da00-499c-de54-98d2ad3df3d7"
      },
      "outputs": [
        {
          "output_type": "stream",
          "name": "stdout",
          "text": [
            "+-------------------+-----+\n",
            "|               date|count|\n",
            "+-------------------+-----+\n",
            "|1962-09-14 00:00:00|   21|\n",
            "|1962-02-07 00:00:00|   23|\n",
            "|1962-09-28 00:00:00|   21|\n",
            "|1962-02-05 00:00:00|   23|\n",
            "|1962-09-18 00:00:00|   21|\n",
            "|1962-09-27 00:00:00|   21|\n",
            "|1962-02-08 00:00:00|   23|\n",
            "|1962-02-13 00:00:00|   23|\n",
            "|1962-02-14 00:00:00|   23|\n",
            "|1962-09-20 00:00:00|   21|\n",
            "|1962-09-26 00:00:00|   21|\n",
            "|1962-02-12 00:00:00|   23|\n",
            "|1962-09-05 00:00:00|   21|\n",
            "|1962-02-15 00:00:00|   23|\n",
            "|1962-09-17 00:00:00|   21|\n",
            "|1962-09-11 00:00:00|   21|\n",
            "|1962-02-06 00:00:00|   23|\n",
            "|1962-09-06 00:00:00|   21|\n",
            "|1962-09-24 00:00:00|   21|\n",
            "|1962-02-16 00:00:00|   23|\n",
            "|1962-09-10 00:00:00|   21|\n",
            "|1962-02-27 00:00:00|   23|\n",
            "|1962-09-04 00:00:00|   21|\n",
            "|1962-02-20 00:00:00|   23|\n",
            "|1962-02-26 00:00:00|   23|\n",
            "|1962-02-23 00:00:00|   23|\n",
            "|1962-02-09 00:00:00|   23|\n",
            "|1962-02-01 00:00:00|   23|\n",
            "|1962-02-19 00:00:00|   23|\n",
            "|1962-09-07 00:00:00|   21|\n",
            "|1962-09-21 00:00:00|   21|\n",
            "|1962-02-21 00:00:00|   23|\n",
            "|1962-09-25 00:00:00|   21|\n",
            "|1962-09-12 00:00:00|   21|\n",
            "|1962-02-28 00:00:00|   23|\n",
            "|1962-09-19 00:00:00|   21|\n",
            "|1962-09-13 00:00:00|   21|\n",
            "|1962-02-02 00:00:00|   23|\n",
            "|1962-12-12 00:00:00|   19|\n",
            "|1962-12-14 00:00:00|   19|\n",
            "|1962-12-06 00:00:00|   19|\n",
            "|1962-12-13 00:00:00|   19|\n",
            "|1962-12-11 00:00:00|   19|\n",
            "|1962-12-07 00:00:00|   19|\n",
            "|1962-12-10 00:00:00|   19|\n",
            "|1962-12-17 00:00:00|   19|\n",
            "|1962-12-05 00:00:00|   19|\n",
            "|1962-12-04 00:00:00|   19|\n",
            "+-------------------+-----+\n",
            "\n"
          ]
        }
      ],
      "source": [
        "df.orderBy('date').groupby('date').count().where(F.col('count') != 20).show(400)"
      ]
    },
    {
      "cell_type": "markdown",
      "metadata": {
        "id": "VdyuMb8MuZda"
      },
      "source": [
        "> ℹ️ **Instructions** ℹ️\n",
        ">\n",
        "> From the above result, investigate the number of times a stock appears for the given month. You can infer the months by using the output of the previous cell.\n",
        ">\n",
        ">*You may use as many coding cells as necessary.*"
      ]
    },
    {
      "cell_type": "code",
      "execution_count": 89,
      "metadata": {
        "id": "hSSy4sfUuZda",
        "colab": {
          "base_uri": "https://localhost:8080/"
        },
        "outputId": "873850bd-9ed6-44ee-8fbd-346e3ee7f8ed"
      },
      "outputs": [
        {
          "output_type": "stream",
          "name": "stdout",
          "text": [
            "+-----+-----+-----+\n",
            "|stock|Month|count|\n",
            "+-----+-----+-----+\n",
            "|   GE|    1|   22|\n",
            "|  CVX|    1|   22|\n",
            "|   PG|    1|   22|\n",
            "|   BA|    1|   22|\n",
            "|  JNJ|    1|   22|\n",
            "|  NAV|    1|   22|\n",
            "|  XOM|    1|   22|\n",
            "|   MO|    1|   22|\n",
            "|   IP|    1|   22|\n",
            "|  DTE|    1|   22|\n",
            "|   ED|    1|   22|\n",
            "|   GT|    1|   22|\n",
            "|   KO|    1|   22|\n",
            "|   AA|    1|   22|\n",
            "|  DIS|    1|   22|\n",
            "|  IBM|    1|   22|\n",
            "|   FL|    1|   22|\n",
            "|  HPQ|    1|   22|\n",
            "| ARNC|    1|   22|\n",
            "|  CAT|    1|   22|\n",
            "+-----+-----+-----+\n",
            "only showing top 20 rows\n",
            "\n"
          ]
        }
      ],
      "source": [
        "#TODO: Write your code here\n",
        "\n",
        "month_df = df.groupBy('stock',F.month('date').alias('Month')).count()\n",
        "month_df.orderBy('Month').show()\n"
      ]
    },
    {
      "cell_type": "markdown",
      "metadata": {
        "id": "pbSFUK3guZda"
      },
      "source": [
        "## Uniqueness\n",
        "\n",
        "Uniqueness requires that nothing will be recorded more than once based upon how that thing is identified. It is the inverse of an assessment of the level of duplication.\n",
        "\n",
        "Each entry within the dataset should only relate to a single event that has occurred and thus should not be duplicated. This is largely mediated by having the appropriate primary key, which means sticking to the requirements of a good primary key. All fields in the tables should be non-transitively dependent on the primary key.\n",
        "\n",
        "As such, deduplication of the dataset may be required.\n",
        "\n",
        "- **Measured by**: Analysis of the number of things assessed in the “real world” compared to the number of records of things in the dataset. This requires a reference dataset which is the ground truth;\n",
        "- **Units**: Percentage;\n",
        "- **Related to**: Consistency."
      ]
    },
    {
      "cell_type": "markdown",
      "metadata": {
        "id": "TGUzd1h_uZda"
      },
      "source": [
        "### Duplication Test\n",
        "For time-series data, it is important to check for duplications, as we typically expect all values to be unique within the dataset.\n",
        "\n",
        "The first thing to check will be if the primary key values within the dataset are unique - in our case, that will be a combination of the stock name and the date.\n",
        "\n",
        "Secondly, we want to check if the entries are all unique, which is done by checking for duplicates across that whole dataset."
      ]
    },
    {
      "cell_type": "markdown",
      "metadata": {
        "id": "4eNJqKwtuZda"
      },
      "source": [
        "> ℹ️ **Instructions** ℹ️\n",
        ">\n",
        "> Write code to determine if there are any duplicates within the data, and then proceed to correct this by dropping them from the dataframe.\n",
        ">\n",
        ">*You may use as many coding cells as necessary.*"
      ]
    },
    {
      "cell_type": "code",
      "execution_count": 121,
      "metadata": {
        "id": "XgXCNxiFuZda",
        "colab": {
          "base_uri": "https://localhost:8080/"
        },
        "outputId": "7c0754d3-8092-4560-e448-43dd84398a2b"
      },
      "outputs": [
        {
          "output_type": "execute_result",
          "data": {
            "text/plain": [
              "38"
            ]
          },
          "metadata": {},
          "execution_count": 121
        }
      ],
      "source": [
        "#TODO: Write your code here\n",
        "\n",
        "# df.groupBy('date','stock').count().where('count > 1').count()\n",
        "\n",
        "df_dups = df.groupBy(df.columns).count().filter(col(\"count\")>1)\n",
        "df_dups.count()"
      ]
    },
    {
      "cell_type": "code",
      "source": [
        "df.groupBy(['date','stock']).count().where('count > 1').sort('count',ascending=False).show(5)"
      ],
      "metadata": {
        "colab": {
          "base_uri": "https://localhost:8080/"
        },
        "id": "qg3F7eAQmP6f",
        "outputId": "ec9911c1-6b35-4912-ff3e-1fa7cfc19d8a"
      },
      "execution_count": 91,
      "outputs": [
        {
          "output_type": "stream",
          "name": "stdout",
          "text": [
            "+-------------------+-----+-----+\n",
            "|               date|stock|count|\n",
            "+-------------------+-----+-----+\n",
            "|1962-02-08 00:00:00|  HPQ|    4|\n",
            "|1962-02-19 00:00:00|  HPQ|    4|\n",
            "|1962-02-02 00:00:00|  HPQ|    4|\n",
            "|1962-02-05 00:00:00|  HPQ|    4|\n",
            "|1962-02-27 00:00:00|  HPQ|    4|\n",
            "+-------------------+-----+-----+\n",
            "only showing top 5 rows\n",
            "\n"
          ]
        }
      ]
    },
    {
      "cell_type": "code",
      "source": [
        "df = df.dropDuplicates(['stock','date'])"
      ],
      "metadata": {
        "id": "J2rI-25qkJIx"
      },
      "execution_count": 94,
      "outputs": []
    },
    {
      "cell_type": "code",
      "source": [
        "df.groupBy(['date','stock']).count().where('count > 1').sort('count',ascending=False).show()"
      ],
      "metadata": {
        "colab": {
          "base_uri": "https://localhost:8080/"
        },
        "id": "2IDnYpMxasJ5",
        "outputId": "b3a0fef7-b0d1-4488-c677-0c1afea2dc82"
      },
      "execution_count": 95,
      "outputs": [
        {
          "output_type": "stream",
          "name": "stdout",
          "text": [
            "+----+-----+-----+\n",
            "|date|stock|count|\n",
            "+----+-----+-----+\n",
            "+----+-----+-----+\n",
            "\n"
          ]
        }
      ]
    },
    {
      "cell_type": "markdown",
      "metadata": {
        "id": "6L2yECHKuZda"
      },
      "source": [
        "## Validity\n",
        "Data is valid if it conforms to the syntax (format, type, range) of its definition.\n",
        "\n",
        "Certain values within a field may have specific criteria required to make it valid, e.g., numerical columns cannot contain alphabetical characters, which can occur due to scientific notation.\n",
        "\n",
        "This can be more difficult to determine in stings, in which case you may have to check using regex.\n",
        "\n",
        "- **Measured by**: Comparison between the data and metadata or documentation for the data item;\n",
        "- **Units**: Percentage of data items deemed Valid or Invalid;\n",
        "- **Related to**: Accuracy, Completeness, Consistency, and Uniqueness."
      ]
    },
    {
      "cell_type": "markdown",
      "metadata": {
        "id": "YUJhE9C0uZda"
      },
      "source": [
        "We need to first define what we expect from our dataset:\n",
        "\n",
        "- stock: string (nullable = true) => Should be contained in the list of expected tickers\n",
        "- date: date (nullable = true) => Should conform to date format, and be in the past\n",
        "- open: double (nullable = true) => Should be positive or 0\n",
        "- high: double (nullable = true) => Should be positive or 0\n",
        "- low: double (nullable = true) => Should be positive or 0 (should be < high)\n",
        "- close: double (nullable = true) => Should be positive or 0 (should be <= high )\n",
        "- adj_close: double (nullable = true) => Should be positive or 0\n",
        "- volume: integer (nullable = true) => Should be positive or 0\n",
        "- high_avg: double (nullable = true) => Derived (not needed to test)\n",
        "- high_imp: double (nullable = true) => Derived (not needed to test)\n",
        "- day_of_week: string (nullable = true) => Derived (not needed to test)\n",
        "\n",
        "*Is there any other logic that we can incorporate?*"
      ]
    },
    {
      "cell_type": "markdown",
      "metadata": {
        "id": "9MhMiEc0uZdb"
      },
      "source": [
        "> ℹ️ **Instructions** ℹ️\n",
        ">\n",
        "> Use the metadata to check if all the stocks in your current dataframe are valid. In other words, make sure you have no foreign/unknown tickers in your dataframe.\n",
        ">\n",
        ">*You may use as many coding cells as necessary.*\n"
      ]
    },
    {
      "cell_type": "code",
      "source": [
        "list(set(df.select('stock').rdd.flatMap(lambda x:x).collect()) - set(df_meta.select('Symbol').rdd.flatMap(lambda x:x).collect()))"
      ],
      "metadata": {
        "colab": {
          "base_uri": "https://localhost:8080/"
        },
        "id": "skaA9CQVbPSO",
        "outputId": "5a366b86-fe39-4c60-e438-ebd50c16df85"
      },
      "execution_count": 98,
      "outputs": [
        {
          "output_type": "execute_result",
          "data": {
            "text/plain": [
              "[]"
            ]
          },
          "metadata": {},
          "execution_count": 98
        }
      ]
    },
    {
      "cell_type": "markdown",
      "metadata": {
        "id": "-KA1iEHquZdb"
      },
      "source": [
        "> ℹ️ **Instructions** ℹ️\n",
        ">\n",
        ">\n",
        ">Check if the date column contains only valid dates and all dates are in the past.\n",
        ">\n",
        ">*Valid dates should already be checked in the data reading step.*"
      ]
    },
    {
      "cell_type": "code",
      "source": [
        "df.groupBy('stock').agg(F.max('Date')).show()"
      ],
      "metadata": {
        "colab": {
          "base_uri": "https://localhost:8080/"
        },
        "id": "JsEsEkGdF8aE",
        "outputId": "73b07036-8067-4d68-c5ad-44b7ab1a4dc2"
      },
      "execution_count": 83,
      "outputs": [
        {
          "output_type": "stream",
          "name": "stdout",
          "text": [
            "+-----+-------------------+\n",
            "|stock|          max(Date)|\n",
            "+-----+-------------------+\n",
            "|   AA|1962-12-31 00:00:00|\n",
            "|  XOM|1962-12-31 00:00:00|\n",
            "|  DIS|1962-12-31 00:00:00|\n",
            "|ARNCA|1962-07-31 00:00:00|\n",
            "|   PG|1962-12-31 00:00:00|\n",
            "|   GT|1962-12-31 00:00:00|\n",
            "|   MO|1962-12-31 00:00:00|\n",
            "|  IBM|1962-12-31 00:00:00|\n",
            "|  JNJ|1962-12-31 00:00:00|\n",
            "|  CVX|1962-12-31 00:00:00|\n",
            "|  DTE|1962-12-31 00:00:00|\n",
            "|   BA|1962-12-31 00:00:00|\n",
            "|   GE|1962-12-31 00:00:00|\n",
            "|  HPQ|1962-12-31 00:00:00|\n",
            "| ARNC|1962-12-31 00:00:00|\n",
            "|  CAT|1962-12-31 00:00:00|\n",
            "|   IP|1962-12-31 00:00:00|\n",
            "|   FL|1962-12-31 00:00:00|\n",
            "|   ED|1962-12-31 00:00:00|\n",
            "|  NAV|1962-12-31 00:00:00|\n",
            "+-----+-------------------+\n",
            "only showing top 20 rows\n",
            "\n"
          ]
        }
      ]
    },
    {
      "cell_type": "code",
      "source": [
        "col_earliest = F.min('date').alias('earliest')\n",
        "col_latest = F.max('date').alias('latest')\n",
        "df.select(col_earliest, col_latest).show()"
      ],
      "metadata": {
        "colab": {
          "base_uri": "https://localhost:8080/"
        },
        "id": "xnqwf0LfG1hT",
        "outputId": "0de0e7a4-2944-4d75-87d3-b70a4d91ff7b"
      },
      "execution_count": 91,
      "outputs": [
        {
          "output_type": "stream",
          "name": "stdout",
          "text": [
            "+-------------------+-------------------+\n",
            "|           earliest|             latest|\n",
            "+-------------------+-------------------+\n",
            "|1962-01-02 00:00:00|1962-12-31 00:00:00|\n",
            "+-------------------+-------------------+\n",
            "\n"
          ]
        }
      ]
    },
    {
      "cell_type": "markdown",
      "metadata": {
        "id": "lqEYH6H4uZdb"
      },
      "source": [
        "> ℹ️ **Instructions** ℹ️\n",
        ">\n",
        ">Check that all of numerical columns are positive."
      ]
    },
    {
      "cell_type": "code",
      "source": [
        "for i in df.select('open'):\n",
        "  print(i[0][0])"
      ],
      "metadata": {
        "colab": {
          "base_uri": "https://localhost:8080/"
        },
        "id": "6Mv96J1xc6IE",
        "outputId": "9509eddb-a724-4803-c0b5-72d275da9b34"
      },
      "execution_count": 115,
      "outputs": [
        {
          "output_type": "stream",
          "name": "stdout",
          "text": [
            "Column<'open[0][0]'>\n"
          ]
        }
      ]
    },
    {
      "cell_type": "code",
      "execution_count": 104,
      "metadata": {
        "id": "kp1ZewCGuZdb",
        "colab": {
          "base_uri": "https://localhost:8080/"
        },
        "outputId": "337a8bce-56d4-4de2-c3f1-b787fec92034"
      },
      "outputs": [
        {
          "output_type": "stream",
          "name": "stdout",
          "text": [
            "root\n",
            " |-- date: timestamp (nullable = true)\n",
            " |-- open: float (nullable = true)\n",
            " |-- high: float (nullable = true)\n",
            " |-- low: float (nullable = true)\n",
            " |-- close: float (nullable = true)\n",
            " |-- adj_close: float (nullable = true)\n",
            " |-- volume: float (nullable = true)\n",
            " |-- stock: string (nullable = true)\n",
            "\n"
          ]
        }
      ],
      "source": [
        "#TODO: Write your code here\n",
        "\n",
        "df.printSchema()"
      ]
    },
    {
      "cell_type": "code",
      "source": [
        "num_cols = ['open','high','low','close','adj_close','volume']\n",
        "\n",
        "for col in num_cols:\n",
        "  print(f'Invalid entries check for {col} column')\n",
        "  df.filter(F.col(col) < 0).show()"
      ],
      "metadata": {
        "colab": {
          "base_uri": "https://localhost:8080/"
        },
        "id": "CMts2KsEcojq",
        "outputId": "0ef69a73-8159-4301-be37-4ff051704024"
      },
      "execution_count": 118,
      "outputs": [
        {
          "output_type": "stream",
          "name": "stdout",
          "text": [
            "Invalid entries check for open column\n",
            "+----+----+----+---+-----+---------+------+-----+\n",
            "|date|open|high|low|close|adj_close|volume|stock|\n",
            "+----+----+----+---+-----+---------+------+-----+\n",
            "+----+----+----+---+-----+---------+------+-----+\n",
            "\n",
            "Invalid entries check for high column\n",
            "+----+----+----+---+-----+---------+------+-----+\n",
            "|date|open|high|low|close|adj_close|volume|stock|\n",
            "+----+----+----+---+-----+---------+------+-----+\n",
            "+----+----+----+---+-----+---------+------+-----+\n",
            "\n",
            "Invalid entries check for low column\n",
            "+----+----+----+---+-----+---------+------+-----+\n",
            "|date|open|high|low|close|adj_close|volume|stock|\n",
            "+----+----+----+---+-----+---------+------+-----+\n",
            "+----+----+----+---+-----+---------+------+-----+\n",
            "\n",
            "Invalid entries check for close column\n",
            "+----+----+----+---+-----+---------+------+-----+\n",
            "|date|open|high|low|close|adj_close|volume|stock|\n",
            "+----+----+----+---+-----+---------+------+-----+\n",
            "+----+----+----+---+-----+---------+------+-----+\n",
            "\n",
            "Invalid entries check for adj_close column\n",
            "+----+----+----+---+-----+---------+------+-----+\n",
            "|date|open|high|low|close|adj_close|volume|stock|\n",
            "+----+----+----+---+-----+---------+------+-----+\n",
            "+----+----+----+---+-----+---------+------+-----+\n",
            "\n",
            "Invalid entries check for volume column\n",
            "+----+----+----+---+-----+---------+------+-----+\n",
            "|date|open|high|low|close|adj_close|volume|stock|\n",
            "+----+----+----+---+-----+---------+------+-----+\n",
            "+----+----+----+---+-----+---------+------+-----+\n",
            "\n"
          ]
        }
      ]
    },
    {
      "cell_type": "markdown",
      "metadata": {
        "id": "1R9U-NwJuZdb"
      },
      "source": [
        "### Save Updates\n",
        "\n",
        "With our initial work of checking the various dimensions of the data quality completed, we can now save these results to a CSV file.  "
      ]
    },
    {
      "cell_type": "code",
      "execution_count": 120,
      "metadata": {
        "id": "DhYBo7apuZdb",
        "colab": {
          "base_uri": "https://localhost:8080/"
        },
        "outputId": "770b2a6c-664b-4477-d3b2-c6c3dc527480"
      },
      "outputs": [
        {
          "output_type": "stream",
          "name": "stderr",
          "text": [
            "/usr/local/lib/python3.10/dist-packages/pyspark/sql/pandas/conversion.py:251: FutureWarning: Passing unit-less datetime64 dtype to .astype is deprecated and will raise in a future version. Pass 'datetime64[ns]' instead\n",
            "  series = series.astype(t, copy=False)\n"
          ]
        }
      ],
      "source": [
        "pd_df = df.toPandas()"
      ]
    },
    {
      "cell_type": "code",
      "execution_count": 121,
      "metadata": {
        "id": "C4HJIlqPuZdb"
      },
      "outputs": [],
      "source": [
        "pd_df.to_csv('/content/drive/MyDrive/Data_profiling_spark.csv')"
      ]
    }
  ],
  "metadata": {
    "interpreter": {
      "hash": "24a0a2ddc4dffcb168e507551dd24967ddc40ea2df7a72a200a74e0ae6d88beb"
    },
    "kernelspec": {
      "display_name": "Python 3",
      "language": "python",
      "name": "python3"
    },
    "language_info": {
      "codemirror_mode": {
        "name": "ipython",
        "version": 3
      },
      "file_extension": ".py",
      "mimetype": "text/x-python",
      "name": "python",
      "nbconvert_exporter": "python",
      "pygments_lexer": "ipython3",
      "version": "3.7.6"
    },
    "colab": {
      "provenance": []
    }
  },
  "nbformat": 4,
  "nbformat_minor": 0
}